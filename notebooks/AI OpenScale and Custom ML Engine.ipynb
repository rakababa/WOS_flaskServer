{
    "nbformat_minor": 1, 
    "cells": [
        {
            "source": "<img src=\"https://github.com/pmservice/ai-openscale-tutorials/raw/master/notebooks/images/banner.png\" align=\"left\" alt=\"banner\">", 
            "cell_type": "markdown", 
            "metadata": {}
        }, 
        {
            "source": "# Working with Custom Machine Learning engine", 
            "cell_type": "markdown", 
            "metadata": {}
        }, 
        {
            "source": "This notebook shows how to log the payload for the model deployed on custom model serving engine using Watson OpenScale python sdk.", 
            "cell_type": "markdown", 
            "metadata": {}
        }, 
        {
            "source": "Contents\n- [1. Setup](#setup)\n- [2. Binding machine learning engine](#binding)\n- [3. Subscriptions](#subscription)\n- [4. Scoring and payload logging](#scoring)\n- [5. Feedback logging](#feedback)\n- [6. Fairness monitoring](#fairness)\n- [7. Working with Data Mart](#datamart)", 
            "cell_type": "markdown", 
            "metadata": {}
        }, 
        {
            "source": "<a id=\"setup\"></a>\n## 1. Setup", 
            "cell_type": "markdown", 
            "metadata": {}
        }, 
        {
            "source": "### 1.0 Sample custom machine learning engine", 
            "cell_type": "markdown", 
            "metadata": {}
        }, 
        {
            "source": "The sample machine learning engine based on docker image and deployment instructions can be found [here](https://github.com/pmservice/ai-openscale-tutorials/tree/master/applications/custom-ml-engine).", 
            "cell_type": "markdown", 
            "metadata": {}
        }, 
        {
            "source": "**NOTE:** CUSTOM machine learning engine must follow this [API specification](https://aiopenscale-custom-deployement-spec.mybluemix.net/) to be supported.", 
            "cell_type": "markdown", 
            "metadata": {}
        }, 
        {
            "source": "### 1.1 Installation and authentication", 
            "cell_type": "markdown", 
            "metadata": {}
        }, 
        {
            "execution_count": 1, 
            "cell_type": "code", 
            "metadata": {}, 
            "outputs": [
                {
                    "output_type": "stream", 
                    "name": "stdout", 
                    "text": "Successfully installed ibm-ai-openscale-2.1.0\r\n"
                }
            ], 
            "source": "!pip install --upgrade ibm-ai-openscale --no-cache | tail -n 1"
        }, 
        {
            "execution_count": 3, 
            "cell_type": "code", 
            "metadata": {}, 
            "outputs": [
                {
                    "output_type": "stream", 
                    "name": "stdout", 
                    "text": "Requirement not upgraded as not directly required: py4j==0.10.7 in /opt/conda/envs/DSX-Python35/lib/python3.5/site-packages (from pyspark)\nRequirement not upgraded as not directly required: olefile in /opt/conda/envs/DSX-Python35/lib/python3.5/site-packages (from pillow>=2.1.0->scikit-image>=0.12->lime)\nRequirement not upgraded as not directly required: certifi>=2017.4.17 in /opt/conda/envs/DSX-Python35/lib/python3.5/site-packages (from requests->pixiedust)\n"
                }
            ], 
            "source": "!pip install pyspark | tail -n 1\n!pip install lime | tail -n 1\n!pip install pixiedust | tail -n 1"
        }, 
        {
            "source": "Import and initiate.", 
            "cell_type": "markdown", 
            "metadata": {}
        }, 
        {
            "execution_count": 4, 
            "cell_type": "code", 
            "metadata": {}, 
            "outputs": [
                {
                    "output_type": "stream", 
                    "name": "stderr", 
                    "text": "/opt/conda/envs/DSX-Python35/lib/python3.5/site-packages/sklearn/cross_validation.py:41: DeprecationWarning: This module was deprecated in version 0.18 in favor of the model_selection module into which all the refactored classes and functions are moved. Also note that the interface of the new CV iterators are different from that of this module. This module will be removed in 0.20.\n  \"This module will be removed in 0.20.\", DeprecationWarning)\n"
                }
            ], 
            "source": "from ibm_ai_openscale import APIClient\nfrom ibm_ai_openscale.supporting_classes import PayloadRecord\nfrom ibm_ai_openscale.engines import *\nfrom ibm_ai_openscale.utils import *\nimport pandas as pd"
        }, 
        {
            "source": "#### ACTION: Get OpenScale `instance_guid` and `apikey`\n\nHow to install IBM Cloud (bluemix) console: [instruction](https://console.bluemix.net/docs/cli/reference/ibmcloud/download_cli.html#install_use)\n\nHow to get api key using bluemix console:\n```\nbx login --sso\nbx iam api-key-create 'my_key'\n```\n\nHow to get your OpenScale instance GUID\n\n- if your resource group is different than `default` switch to resource group containing OpenScale instance\n```\nbx target -g <myResourceGroup>\n```\n- get details of the instance\n```\nbx resource service-instance 'AI-OpenScale-instance_name'\n```", 
            "cell_type": "markdown", 
            "metadata": {}
        }, 
        {
            "source": "#### Let's define some constants required to set up data mart:\n\n- AIOS_CREDENTIALS\n- POSTGRES_CREDENTIALS\n- SCHEMA_NAME", 
            "cell_type": "markdown", 
            "metadata": {}
        }, 
        {
            "execution_count": 5, 
            "cell_type": "code", 
            "metadata": {}, 
            "outputs": [], 
            "source": "AIOS_CREDENTIALS = {\n  \"url\": \"https://api.aiopenscale.cloud.ibm.com\",\n  \"instance_guid\": \"***\",\n  \"apikey\": \"***\"\n}"
        }, 
        {
            "execution_count": 6, 
            "cell_type": "code", 
            "metadata": {}, 
            "outputs": [], 
            "source": "# The code was removed by Watson Studio for sharing."
        }, 
        {
            "execution_count": 7, 
            "cell_type": "code", 
            "metadata": {}, 
            "outputs": [], 
            "source": "POSTGRES_CREDENTIALS = {\n    \"db_type\": \"postgresql\",\n    \"uri_cli_1\": \"xxx\",\n    \"maps\": [],\n    \"instance_administration_api\": {\n        \"instance_id\": \"xxx\",\n        \"root\": \"xxx\",\n        \"deployment_id\": \"xxx\"\n    },\n    \"name\": \"xxx\",\n    \"uri_cli\": \"xxx\",\n    \"uri_direct_1\": \"xxx\",\n    \"ca_certificate_base64\": \"xxx\",\n    \"deployment_id\": \"xxx\",\n    \"uri\": \"xxx\"\n}"
        }, 
        {
            "execution_count": 8, 
            "cell_type": "code", 
            "metadata": {}, 
            "outputs": [], 
            "source": "# The code was removed by Watson Studio for sharing."
        }, 
        {
            "execution_count": 9, 
            "cell_type": "code", 
            "metadata": {}, 
            "outputs": [], 
            "source": "SCHEMA_NAME = 'data_mart_for_custom'"
        }, 
        {
            "source": "Create schema for data mart.", 
            "cell_type": "markdown", 
            "metadata": {}
        }, 
        {
            "execution_count": 10, 
            "cell_type": "code", 
            "metadata": {}, 
            "outputs": [], 
            "source": "create_postgres_schema(postgres_credentials=POSTGRES_CREDENTIALS, schema_name=SCHEMA_NAME)"
        }, 
        {
            "execution_count": 11, 
            "cell_type": "code", 
            "metadata": {}, 
            "outputs": [], 
            "source": "client = APIClient(AIOS_CREDENTIALS)"
        }, 
        {
            "execution_count": 12, 
            "cell_type": "code", 
            "metadata": {}, 
            "outputs": [
                {
                    "execution_count": 12, 
                    "metadata": {}, 
                    "data": {
                        "text/plain": "'2.1.0'"
                    }, 
                    "output_type": "execute_result"
                }
            ], 
            "source": "client.version"
        }, 
        {
            "source": "### 1.2 DataMart setup", 
            "cell_type": "markdown", 
            "metadata": {}
        }, 
        {
            "execution_count": 13, 
            "cell_type": "code", 
            "metadata": {}, 
            "outputs": [], 
            "source": "client.data_mart.setup(db_credentials=POSTGRES_CREDENTIALS, schema=SCHEMA_NAME)"
        }, 
        {
            "execution_count": 14, 
            "cell_type": "code", 
            "metadata": {}, 
            "outputs": [], 
            "source": "data_mart_details = client.data_mart.get_details()"
        }, 
        {
            "source": "<a id=\"binding\"></a>\n## 2. Bind machine learning engines", 
            "cell_type": "markdown", 
            "metadata": {}
        }, 
        {
            "source": "### 2.1 Bind  `CUSTOM` machine learning engine\n**NOTE:** CUSTOM machine learning engine must follow this [API specification](https://aiopenscale-custom-deployement-spec.mybluemix.net/) to be supported.\n\nCredentials support following fields:\n- `url` - hostname and port (required)\n- `username` - part of BasicAuth (optional)\n- `password` - part of BasicAuth (optional)", 
            "cell_type": "markdown", 
            "metadata": {}
        }, 
        {
            "execution_count": 15, 
            "cell_type": "code", 
            "metadata": {}, 
            "outputs": [], 
            "source": "CUSTOM_ENGINE_CREDENTIALS = {\n    \"url\": \"***\",\n    \"username\": \"***\",\n    \"password\": \"***\"\n}"
        }, 
        {
            "execution_count": 16, 
            "cell_type": "code", 
            "metadata": {}, 
            "outputs": [], 
            "source": "# The code was removed by Watson Studio for sharing."
        }, 
        {
            "execution_count": 17, 
            "cell_type": "code", 
            "metadata": {}, 
            "outputs": [], 
            "source": "binding_uid = client.data_mart.bindings.add('My custom engine', CustomMachineLearningInstance(CUSTOM_ENGINE_CREDENTIALS))"
        }, 
        {
            "execution_count": 18, 
            "cell_type": "code", 
            "metadata": {}, 
            "outputs": [], 
            "source": "bindings_details = client.data_mart.bindings.get_details()"
        }, 
        {
            "execution_count": 19, 
            "cell_type": "code", 
            "metadata": {}, 
            "outputs": [
                {
                    "output_type": "display_data", 
                    "data": {
                        "text/html": "<HTML>\n        <body>\n            <h3>Service bindings</h3>\n            <table style='border: 1px solid #dddddd; font-family: Courier'>\n                <th style='border: 1px solid #dddddd'>uid</th><th style='border: 1px solid #dddddd'>name</th><th style='border: 1px solid #dddddd'>service_type</th><th style='border: 1px solid #dddddd'>created</th>\n                <tr><td style='border: 1px solid #dddddd'>0b9c0116-abfa-436f-863c-74f8c9d38141</td><td style='border: 1px solid #dddddd'>My custom engine</td><td style='border: 1px solid #dddddd'>custom_machine_learning</td><td style='border: 1px solid #dddddd'>2019-02-21T09:43:58.341Z</td></tr>\n            </table>\n        </body>\n        </HTML>", 
                        "text/plain": "<IPython.core.display.HTML object>"
                    }, 
                    "metadata": {}
                }
            ], 
            "source": "client.data_mart.bindings.list()"
        }, 
        {
            "source": "<a id=\"subsciption\"></a>\n## 3. Subscriptions", 
            "cell_type": "markdown", 
            "metadata": {}
        }, 
        {
            "source": "### 3.1 Add subscriptions", 
            "cell_type": "markdown", 
            "metadata": {}
        }, 
        {
            "source": "List available deployments.", 
            "cell_type": "markdown", 
            "metadata": {}
        }, 
        {
            "execution_count": 20, 
            "cell_type": "code", 
            "metadata": {}, 
            "outputs": [
                {
                    "output_type": "display_data", 
                    "data": {
                        "text/html": "<HTML>\n        <body>\n            <h3>Available assets</h3>\n            <table style='border: 1px solid #dddddd; font-family: Courier'>\n                <th style='border: 1px solid #dddddd'>source_uid</th><th style='border: 1px solid #dddddd'>name</th><th style='border: 1px solid #dddddd'>created</th><th style='border: 1px solid #dddddd'>type</th><th style='border: 1px solid #dddddd'>frameworks</th><th style='border: 1px solid #dddddd'>binding_uid</th><th style='border: 1px solid #dddddd'>is_subscribed</th>\n                <tr><td style='border: 1px solid #dddddd'>credit</td><td style='border: 1px solid #dddddd'>credit</td><td style='border: 1px solid #dddddd'>2019-01-01T10:11:12Z</td><td style='border: 1px solid #dddddd'>model</td><td style='border: 1px solid #dddddd'></td><td style='border: 1px solid #dddddd'>0b9c0116-abfa-436f-863c-74f8c9d38141</td><td style='border: 1px solid #dddddd'>False</td></tr><tr><td style='border: 1px solid #dddddd'>resnet50</td><td style='border: 1px solid #dddddd'>resnet50</td><td style='border: 1px solid #dddddd'>2016-12-01T10:11:12Z</td><td style='border: 1px solid #dddddd'>model</td><td style='border: 1px solid #dddddd'></td><td style='border: 1px solid #dddddd'>0b9c0116-abfa-436f-863c-74f8c9d38141</td><td style='border: 1px solid #dddddd'>False</td></tr><tr><td style='border: 1px solid #dddddd'>action</td><td style='border: 1px solid #dddddd'>area and action prediction</td><td style='border: 1px solid #dddddd'>2016-12-01T10:11:12Z</td><td style='border: 1px solid #dddddd'>model</td><td style='border: 1px solid #dddddd'></td><td style='border: 1px solid #dddddd'>0b9c0116-abfa-436f-863c-74f8c9d38141</td><td style='border: 1px solid #dddddd'>False</td></tr>\n            </table>\n        </body>\n        </HTML>", 
                        "text/plain": "<IPython.core.display.HTML object>"
                    }, 
                    "metadata": {}
                }
            ], 
            "source": "client.data_mart.bindings.list_assets()"
        }, 
        {
            "source": "Let's specify training data information like: list of features and list of categorical features required by fairness and explain.", 
            "cell_type": "markdown", 
            "metadata": {}
        }, 
        {
            "execution_count": 21, 
            "cell_type": "code", 
            "metadata": {}, 
            "outputs": [], 
            "source": "feature_columns = ['CheckingStatus', 'LoanDuration', 'CreditHistory', 'LoanPurpose', 'LoanAmount', 'ExistingSavings', 'EmploymentDuration', 'InstallmentPercent', 'Sex', 'OthersOnLoan', 'CurrentResidenceDuration', 'OwnsProperty', 'Age', 'InstallmentPlans', 'Housing', 'ExistingCreditsCount', 'Job', 'Dependents', 'Telephone', 'ForeignWorker']\ncategorical_columns = ['CheckingStatus', 'CreditHistory', 'LoanPurpose', 'ExistingSavings', 'EmploymentDuration', 'Sex', 'OthersOnLoan', 'OwnsProperty', 'InstallmentPlans','Housing', 'Job', 'Telephone', 'ForeignWorker']"
        }, 
        {
            "execution_count": 22, 
            "cell_type": "code", 
            "metadata": {}, 
            "outputs": [], 
            "source": "subscription = client.data_mart.subscriptions.add(\n    CustomMachineLearningAsset(\n                source_uid='credit',\n                label_column='Risk',\n                prediction_column='prediction',\n                probability_column='probability',\n                feature_columns=feature_columns.copy(),\n                categorical_columns=categorical_columns.copy(),\n                binding_uid=binding_uid))"
        }, 
        {
            "source": "#### Get subscriptions list", 
            "cell_type": "markdown", 
            "metadata": {}
        }, 
        {
            "execution_count": 23, 
            "cell_type": "code", 
            "metadata": {}, 
            "outputs": [], 
            "source": "subscriptions = client.data_mart.subscriptions.get_details()"
        }, 
        {
            "execution_count": 24, 
            "cell_type": "code", 
            "metadata": {}, 
            "outputs": [
                {
                    "output_type": "stream", 
                    "name": "stdout", 
                    "text": "['credit']\n"
                }
            ], 
            "source": "subscriptions_uids = client.data_mart.subscriptions.get_uids()\nprint(subscriptions_uids)"
        }, 
        {
            "source": "#### List subscriptions", 
            "cell_type": "markdown", 
            "metadata": {}
        }, 
        {
            "execution_count": 25, 
            "cell_type": "code", 
            "metadata": {}, 
            "outputs": [
                {
                    "output_type": "display_data", 
                    "data": {
                        "text/html": "<HTML>\n        <body>\n            <h3>Subscriptions</h3>\n            <table style='border: 1px solid #dddddd; font-family: Courier'>\n                <th style='border: 1px solid #dddddd'>uid</th><th style='border: 1px solid #dddddd'>name</th><th style='border: 1px solid #dddddd'>type</th><th style='border: 1px solid #dddddd'>binding_uid</th><th style='border: 1px solid #dddddd'>created</th>\n                <tr><td style='border: 1px solid #dddddd'>credit</td><td style='border: 1px solid #dddddd'>credit</td><td style='border: 1px solid #dddddd'>model</td><td style='border: 1px solid #dddddd'>0b9c0116-abfa-436f-863c-74f8c9d38141</td><td style='border: 1px solid #dddddd'>2019-02-21T09:44:02.653Z</td></tr>\n            </table>\n        </body>\n        </HTML>", 
                        "text/plain": "<IPython.core.display.HTML object>"
                    }, 
                    "metadata": {}
                }
            ], 
            "source": "client.data_mart.subscriptions.list()"
        }, 
        {
            "source": "<a id=\"scoring\"></a>\n## 4. Scoring and payload logging", 
            "cell_type": "markdown", 
            "metadata": {}
        }, 
        {
            "source": "### 4.1 Score the credit model", 
            "cell_type": "markdown", 
            "metadata": {}
        }, 
        {
            "execution_count": 26, 
            "cell_type": "code", 
            "metadata": {}, 
            "outputs": [
                {
                    "output_type": "stream", 
                    "name": "stdout", 
                    "text": "Response: {'labels': ['Risk', 'No Risk'], 'fields': ['prediction', 'probability'], 'values': [['No Risk', [0.8823126094462725, 0.1176873905537274]], ['No Risk', [0.6755090846150376, 0.3244909153849625]], ['No Risk', [0.8944991421537971, 0.10550085784620292]], ['No Risk', [0.9297263621482206, 0.07027363785177945]], ['No Risk', [0.937346474163384, 0.06265352583661594]], ['No Risk', [0.8389265131291409, 0.16107348687085907]], ['Risk', [0.16270903114445467, 0.8372909688555453]], ['No Risk', [0.8011704003481404, 0.1988295996518596]]]}\n"
                }
            ], 
            "source": "import requests\nimport time\n\nvalues = [\n            [\"no_checking\", 13, \"credits_paid_to_date\", \"car_new\", 1343, \"100_to_500\", \"1_to_4\", 2, \"female\", \"none\", 3,\n             \"savings_insurance\", 25, \"none\", \"own\", 2, \"skilled\", 1, \"none\", \"yes\"],\n            [\"no_checking\", 24, \"prior_payments_delayed\", \"furniture\", 4567, \"500_to_1000\", \"1_to_4\", 4, \"male\", \"none\",\n             4, \"savings_insurance\", 60, \"none\", \"free\", 2, \"management_self-employed\", 1, \"none\", \"yes\"],\n            [\"0_to_200\", 26, \"all_credits_paid_back\", \"car_new\", 863, \"less_100\", \"less_1\", 2, \"female\", \"co-applicant\",\n             2, \"real_estate\", 38, \"none\", \"own\", 1, \"skilled\", 1, \"none\", \"yes\"],\n            [\"0_to_200\", 14, \"no_credits\", \"car_new\", 2368, \"less_100\", \"1_to_4\", 3, \"female\", \"none\", 3, \"real_estate\",\n             29, \"none\", \"own\", 1, \"skilled\", 1, \"none\", \"yes\"],\n            [\"0_to_200\", 4, \"no_credits\", \"car_new\", 250, \"less_100\", \"unemployed\", 2, \"female\", \"none\", 3,\n             \"real_estate\", 23, \"none\", \"rent\", 1, \"management_self-employed\", 1, \"none\", \"yes\"],\n            [\"no_checking\", 17, \"credits_paid_to_date\", \"car_new\", 832, \"100_to_500\", \"1_to_4\", 2, \"male\", \"none\", 2,\n             \"real_estate\", 42, \"none\", \"own\", 1, \"skilled\", 1, \"none\", \"yes\"],\n            [\"no_checking\", 50, \"outstanding_credit\", \"appliances\", 5696, \"unknown\", \"greater_7\", 4, \"female\",\n             \"co-applicant\", 4, \"unknown\", 54, \"none\", \"free\", 2, \"skilled\", 1, \"yes\", \"yes\"],\n            [\"0_to_200\", 13, \"prior_payments_delayed\", \"retraining\", 1375, \"100_to_500\", \"4_to_7\", 3, \"male\", \"none\", 3,\n             \"real_estate\", 70, \"none\", \"own\", 2, \"management_self-employed\", 1, \"none\", \"yes\"]\n        ]\n\n\nrequest_data = {'fields': feature_columns, 'values': values}\n\nheader = {'Content-Type': 'application/json'}\nscoring_url = subscription.get_details()['entity']['deployments'][0]['scoring_endpoint']['url']\n\nstart_time = time.time()\nresponse = requests.post(scoring_url, json=request_data, headers=header)\nresponse_time = int((time.time() - start_time)*1000)\n\nresponse_data = response.json()\nprint('Response: ' + str(response_data))"
        }, 
        {
            "source": "### 4.2 Store the request and response in payload logging table", 
            "cell_type": "markdown", 
            "metadata": {}
        }, 
        {
            "source": "#### Using Python SDK", 
            "cell_type": "markdown", 
            "metadata": {}
        }, 
        {
            "source": "**Hint:** You can embed payload logging code into your custom deployment so it is logged automatically each time you score the model.", 
            "cell_type": "markdown", 
            "metadata": {}
        }, 
        {
            "execution_count": 27, 
            "cell_type": "code", 
            "metadata": {}, 
            "outputs": [], 
            "source": "records_list = [PayloadRecord(request=request_data, response=response_data, response_time=response_time), \n                PayloadRecord(request=request_data, response=response_data, response_time=response_time)]\n\nfor i in range(1, 10):\n    records_list.append(PayloadRecord(request=request_data, response=response_data, response_time=response_time))\n\nsubscription.payload_logging.store(records=records_list)"
        }, 
        {
            "source": "#### Using REST API", 
            "cell_type": "markdown", 
            "metadata": {}
        }, 
        {
            "source": "Get the token first.", 
            "cell_type": "markdown", 
            "metadata": {}
        }, 
        {
            "execution_count": 28, 
            "cell_type": "code", 
            "metadata": {}, 
            "outputs": [], 
            "source": "token_endpoint = \"https://iam.bluemix.net/identity/token\"\nheaders = {\n    \"Content-Type\": \"application/x-www-form-urlencoded\",\n    \"Accept\": \"application/json\"\n}\n\ndata = {\n    \"grant_type\":\"urn:ibm:params:oauth:grant-type:apikey\",\n    \"apikey\":AIOS_CREDENTIALS[\"apikey\"]\n}\n\nreq = requests.post(token_endpoint, data=data, headers=headers)\ntoken = req.json()['access_token']"
        }, 
        {
            "source": "Store the payload.", 
            "cell_type": "markdown", 
            "metadata": {}
        }, 
        {
            "execution_count": 29, 
            "cell_type": "code", 
            "metadata": {}, 
            "outputs": [
                {
                    "output_type": "stream", 
                    "name": "stdout", 
                    "text": "Request OK: True\n"
                }
            ], 
            "source": "import requests, uuid\n\nPAYLOAD_STORING_HREF_PATTERN = '{}/v1/data_marts/{}/scoring_payloads'\nendpoint = PAYLOAD_STORING_HREF_PATTERN.format(AIOS_CREDENTIALS['url'], AIOS_CREDENTIALS['data_mart_id'])\n\npayload = [{\n    'binding_id': binding_uid, \n    'deployment_id': subscription.get_details()['entity']['deployments'][0]['deployment_id'], \n    'subscription_id': subscription.uid, \n    'scoring_id': str(uuid.uuid4()), \n    'response': response_data,\n    'request': request_data\n}]\n\n\nheaders = {\"Authorization\": \"Bearer \" + token}\n      \nreq_response = requests.post(endpoint, json=payload, headers = headers)\n\nprint(\"Request OK: \" + str(req_response.ok))"
        }, 
        {
            "source": "<a id=\"feedback\"></a>\n## 5. Feedback logging & quality (accuracy) monitoring", 
            "cell_type": "markdown", 
            "metadata": {}
        }, 
        {
            "source": "### Enable quality monitoring", 
            "cell_type": "markdown", 
            "metadata": {}
        }, 
        {
            "source": "You need to provide the monitoring `threshold` and `min_records` (minimal number of feedback records).", 
            "cell_type": "markdown", 
            "metadata": {}
        }, 
        {
            "execution_count": 30, 
            "cell_type": "code", 
            "metadata": {}, 
            "outputs": [], 
            "source": "subscription.quality_monitoring.enable(threshold=0.7, min_records=10)"
        }, 
        {
            "source": "### Feedback records logging", 
            "cell_type": "markdown", 
            "metadata": {}
        }, 
        {
            "source": "Feedback records are used to evaluate your model. The predicted values are compared to real values (feedback records).", 
            "cell_type": "markdown", 
            "metadata": {}
        }, 
        {
            "source": "You can check the schema of feedback table using below method.", 
            "cell_type": "markdown", 
            "metadata": {}
        }, 
        {
            "execution_count": 31, 
            "cell_type": "code", 
            "metadata": {}, 
            "outputs": [
                {
                    "output_type": "display_data", 
                    "data": {
                        "text/html": "<HTML>\n        <body>\n            <h3>Schema of Feedback_credit</h3>\n            <table style='border: 1px solid #dddddd; font-family: Courier'>\n                <th style='border: 1px solid #dddddd'>name</th><th style='border: 1px solid #dddddd'>type</th><th style='border: 1px solid #dddddd'>nullable</th>\n                <tr><td style='border: 1px solid #dddddd'>CheckingStatus</td><td style='border: 1px solid #dddddd'>string</td><td style='border: 1px solid #dddddd'>True</td></tr><tr><td style='border: 1px solid #dddddd'>LoanDuration</td><td style='border: 1px solid #dddddd'>integer</td><td style='border: 1px solid #dddddd'>True</td></tr><tr><td style='border: 1px solid #dddddd'>CreditHistory</td><td style='border: 1px solid #dddddd'>string</td><td style='border: 1px solid #dddddd'>True</td></tr><tr><td style='border: 1px solid #dddddd'>LoanPurpose</td><td style='border: 1px solid #dddddd'>string</td><td style='border: 1px solid #dddddd'>True</td></tr><tr><td style='border: 1px solid #dddddd'>LoanAmount</td><td style='border: 1px solid #dddddd'>integer</td><td style='border: 1px solid #dddddd'>True</td></tr><tr><td style='border: 1px solid #dddddd'>ExistingSavings</td><td style='border: 1px solid #dddddd'>string</td><td style='border: 1px solid #dddddd'>True</td></tr><tr><td style='border: 1px solid #dddddd'>EmploymentDuration</td><td style='border: 1px solid #dddddd'>string</td><td style='border: 1px solid #dddddd'>True</td></tr><tr><td style='border: 1px solid #dddddd'>InstallmentPercent</td><td style='border: 1px solid #dddddd'>integer</td><td style='border: 1px solid #dddddd'>True</td></tr><tr><td style='border: 1px solid #dddddd'>Sex</td><td style='border: 1px solid #dddddd'>string</td><td style='border: 1px solid #dddddd'>True</td></tr><tr><td style='border: 1px solid #dddddd'>OthersOnLoan</td><td style='border: 1px solid #dddddd'>string</td><td style='border: 1px solid #dddddd'>True</td></tr><tr><td style='border: 1px solid #dddddd'>CurrentResidenceDuration</td><td style='border: 1px solid #dddddd'>integer</td><td style='border: 1px solid #dddddd'>True</td></tr><tr><td style='border: 1px solid #dddddd'>OwnsProperty</td><td style='border: 1px solid #dddddd'>string</td><td style='border: 1px solid #dddddd'>True</td></tr><tr><td style='border: 1px solid #dddddd'>Age</td><td style='border: 1px solid #dddddd'>integer</td><td style='border: 1px solid #dddddd'>True</td></tr><tr><td style='border: 1px solid #dddddd'>InstallmentPlans</td><td style='border: 1px solid #dddddd'>string</td><td style='border: 1px solid #dddddd'>True</td></tr><tr><td style='border: 1px solid #dddddd'>Housing</td><td style='border: 1px solid #dddddd'>string</td><td style='border: 1px solid #dddddd'>True</td></tr><tr><td style='border: 1px solid #dddddd'>ExistingCreditsCount</td><td style='border: 1px solid #dddddd'>integer</td><td style='border: 1px solid #dddddd'>True</td></tr><tr><td style='border: 1px solid #dddddd'>Job</td><td style='border: 1px solid #dddddd'>string</td><td style='border: 1px solid #dddddd'>True</td></tr><tr><td style='border: 1px solid #dddddd'>Dependents</td><td style='border: 1px solid #dddddd'>integer</td><td style='border: 1px solid #dddddd'>True</td></tr><tr><td style='border: 1px solid #dddddd'>Telephone</td><td style='border: 1px solid #dddddd'>string</td><td style='border: 1px solid #dddddd'>True</td></tr><tr><td style='border: 1px solid #dddddd'>ForeignWorker</td><td style='border: 1px solid #dddddd'>string</td><td style='border: 1px solid #dddddd'>True</td></tr><tr><td style='border: 1px solid #dddddd'>Risk</td><td style='border: 1px solid #dddddd'>string</td><td style='border: 1px solid #dddddd'>True</td></tr><tr><td style='border: 1px solid #dddddd'>_training</td><td style='border: 1px solid #dddddd'>timestamp</td><td style='border: 1px solid #dddddd'>False</td></tr>\n            </table>\n        </body>\n        </HTML>", 
                        "text/plain": "<IPython.core.display.HTML object>"
                    }, 
                    "metadata": {}
                }
            ], 
            "source": "subscription.feedback_logging.print_table_schema()"
        }, 
        {
            "source": "The feedback records can be send to feedback table using below code.", 
            "cell_type": "markdown", 
            "metadata": {}
        }, 
        {
            "execution_count": 32, 
            "cell_type": "code", 
            "metadata": {}, 
            "outputs": [], 
            "source": "records = []\n\nfields = feature_columns.copy()\nfields.append('Risk')\n\nfor i in range(1,20):\n    records.append([\"0_to_200\", 18, \"outstanding_credit\", \"car_new\", 884, \"less_100\", \"greater_7\", 4, \"male\", \"none\", 4, \"car_other\", 36, \"bank\", \"own\", 1, \"skilled\", 2, \"yes\", \"yes\", \"Risk\"])\n\nsubscription.feedback_logging.store(feedback_data=records, fields=fields)"
        }, 
        {
            "source": "### Run quality monitoring on demand", 
            "cell_type": "markdown", 
            "metadata": {}
        }, 
        {
            "source": "By default, quality monitoring is run on hourly schedule. You can also trigger it on demand using below code.", 
            "cell_type": "markdown", 
            "metadata": {}
        }, 
        {
            "execution_count": 33, 
            "cell_type": "code", 
            "metadata": {}, 
            "outputs": [
                {
                    "output_type": "stream", 
                    "name": "stdout", 
                    "text": "\n\n================================================================================\n\n Waiting for end of quality monitoring run 742fc2ad-8278-4475-9f8a-1faf94883f3f \n\n================================================================================\n\n\n\ninitializing\ncompleted\n\n---------------------------\n Successfully finished run \n---------------------------\n\n\n"
                }
            ], 
            "source": "run_details = subscription.quality_monitoring.run(background_mode=False)"
        }, 
        {
            "source": "### Show the quality metrics", 
            "cell_type": "markdown", 
            "metadata": {}
        }, 
        {
            "execution_count": 34, 
            "cell_type": "code", 
            "metadata": {}, 
            "outputs": [
                {
                    "output_type": "display_data", 
                    "data": {
                        "text/html": "<HTML>\n        <body>\n            <h3>QualityMetrics (binding_id=0b9c0116-abfa-436f-863c-74f8c9d38141, subscription_id=credit)</h3>\n            <table style='border: 1px solid #dddddd; font-family: Courier'>\n                <th style='border: 1px solid #dddddd'>ts</th><th style='border: 1px solid #dddddd'>quality</th><th style='border: 1px solid #dddddd'>quality_threshold</th><th style='border: 1px solid #dddddd'>binding_id</th><th style='border: 1px solid #dddddd'>subscription_id</th><th style='border: 1px solid #dddddd'>deployment_id</th><th style='border: 1px solid #dddddd'>process</th><th style='border: 1px solid #dddddd'>asset_revision</th>\n                <tr><td style='border: 1px solid #dddddd'>2019-02-21 09:44:19.668000+00:00</td><td style='border: 1px solid #dddddd'>1.0</td><td style='border: 1px solid #dddddd'>0.7</td><td style='border: 1px solid #dddddd'>0b9c0116-abfa-436f-863c-74f8c9d38141</td><td style='border: 1px solid #dddddd'>credit</td><td style='border: 1px solid #dddddd'>german_credit_risk</td><td style='border: 1px solid #dddddd'>Accuracy_evaluation_742fc2ad-8278-4475-9f8a-1faf94883f3f</td><td style='border: 1px solid #dddddd'></td></tr>\n            </table>\n        </body>\n        </HTML>", 
                        "text/plain": "<IPython.core.display.HTML object>"
                    }, 
                    "metadata": {}
                }
            ], 
            "source": "subscription.quality_monitoring.show_table()"
        }, 
        {
            "source": "Get all calculated metrics.", 
            "cell_type": "markdown", 
            "metadata": {}
        }, 
        {
            "execution_count": 35, 
            "cell_type": "code", 
            "metadata": {}, 
            "outputs": [
                {
                    "execution_count": 35, 
                    "metadata": {}, 
                    "data": {
                        "text/plain": "{'end': '2019-02-21T09:44:30.190280Z',\n 'metrics': [{'process': 'Accuracy_evaluation_742fc2ad-8278-4475-9f8a-1faf94883f3f',\n   'timestamp': '2019-02-21T09:44:19.668Z',\n   'value': {'metrics': [{'name': 'areaUnderROC', 'value': 1.0},\n     {'name': 'areaUnderPR', 'value': 1.0}],\n    'quality': 1.0,\n    'threshold': 0.7}}],\n 'start': '2019-02-21T08:44:02.653Z'}"
                    }, 
                    "output_type": "execute_result"
                }
            ], 
            "source": "subscription.quality_monitoring.get_metrics(deployment_uid='action')"
        }, 
        {
            "source": "#### Get metrics as pandas dataframe", 
            "cell_type": "markdown", 
            "metadata": {}
        }, 
        {
            "execution_count": 36, 
            "cell_type": "code", 
            "metadata": {}, 
            "outputs": [
                {
                    "execution_count": 36, 
                    "metadata": {}, 
                    "data": {
                        "text/html": "<div>\n<style scoped>\n    .dataframe tbody tr th:only-of-type {\n        vertical-align: middle;\n    }\n\n    .dataframe tbody tr th {\n        vertical-align: top;\n    }\n\n    .dataframe thead th {\n        text-align: right;\n    }\n</style>\n<table border=\"1\" class=\"dataframe\">\n  <thead>\n    <tr style=\"text-align: right;\">\n      <th></th>\n      <th>ts</th>\n      <th>quality</th>\n      <th>quality_threshold</th>\n      <th>binding_id</th>\n      <th>subscription_id</th>\n      <th>deployment_id</th>\n      <th>process</th>\n      <th>asset_revision</th>\n    </tr>\n  </thead>\n  <tbody>\n    <tr>\n      <th>0</th>\n      <td>2019-02-21 09:44:19.668000+00:00</td>\n      <td>1.0</td>\n      <td>0.7</td>\n      <td>0b9c0116-abfa-436f-863c-74f8c9d38141</td>\n      <td>credit</td>\n      <td>german_credit_risk</td>\n      <td>Accuracy_evaluation_742fc2ad-8278-4475-9f8a-1f...</td>\n      <td></td>\n    </tr>\n  </tbody>\n</table>\n</div>", 
                        "text/plain": "                                ts  quality  quality_threshold  \\\n0 2019-02-21 09:44:19.668000+00:00      1.0                0.7   \n\n                             binding_id subscription_id       deployment_id  \\\n0  0b9c0116-abfa-436f-863c-74f8c9d38141          credit  german_credit_risk   \n\n                                             process asset_revision  \n0  Accuracy_evaluation_742fc2ad-8278-4475-9f8a-1f...                 "
                    }, 
                    "output_type": "execute_result"
                }
            ], 
            "source": "quality_pd = subscription.quality_monitoring.get_table_content(format='pandas')\nquality_pd"
        }, 
        {
            "source": "Create a bar plot.", 
            "cell_type": "markdown", 
            "metadata": {}
        }, 
        {
            "execution_count": 37, 
            "cell_type": "code", 
            "metadata": {}, 
            "outputs": [
                {
                    "output_type": "display_data", 
                    "data": {
                        "image/png": "[encoded data removed]", 
                        "text/plain": "<matplotlib.figure.Figure at 0x7f54629cd358>"
                    }, 
                    "metadata": {}
                }
            ], 
            "source": "%matplotlib inline\n\nquality_pd.plot.barh(x='ts', y='quality', color='g', alpha=0.8);"
        }, 
        {
            "source": "<a id=\"fairness\"></a>\n## 6. Fairness monitoring", 
            "cell_type": "markdown", 
            "metadata": {}
        }, 
        {
            "source": "### 6.1 Get training data for fairness monitoring", 
            "cell_type": "markdown", 
            "metadata": {}
        }, 
        {
            "source": "#### Get training data set from git", 
            "cell_type": "markdown", 
            "metadata": {}
        }, 
        {
            "execution_count": 38, 
            "cell_type": "code", 
            "metadata": {}, 
            "outputs": [
                {
                    "output_type": "stream", 
                    "name": "stdout", 
                    "text": "--2019-02-21 09:44:37--  https://raw.githubusercontent.com/pmservice/wml-sample-models/master/spss/credit-risk/data/credit_risk_training.csv\nResolving raw.githubusercontent.com (raw.githubusercontent.com)... 151.101.48.133\nConnecting to raw.githubusercontent.com (raw.githubusercontent.com)|151.101.48.133|:443... connected.\nHTTP request sent, awaiting response... 200 OK\nLength: 694222 (678K) [text/plain]\nSaving to: \u2018credit_risk_training.csv\u2019\n\n100%[======================================>] 694,222     --.-K/s   in 0.02s   \n\n2019-02-21 09:44:37 (31.6 MB/s) - \u2018credit_risk_training.csv\u2019 saved [694222/694222]\n\n"
                }
            ], 
            "source": "!wget https://raw.githubusercontent.com/pmservice/wml-sample-models/master/spss/credit-risk/data/credit_risk_training.csv"
        }, 
        {
            "execution_count": 39, 
            "cell_type": "code", 
            "metadata": {}, 
            "outputs": [], 
            "source": "data_df = pd.read_csv(\"credit_risk_training.csv\",\n                    dtype={'LoanDuration': int, 'LoanAmount': int, 'InstallmentPercent': int, 'CurrentResidenceDuration': int, 'Age': int, 'ExistingCreditsCount': int, 'Dependents': int})"
        }, 
        {
            "source": "### 6.2 Enable and run fairness monitoring", 
            "cell_type": "markdown", 
            "metadata": {}
        }, 
        {
            "execution_count": 40, 
            "cell_type": "code", 
            "metadata": {}, 
            "outputs": [], 
            "source": "from ibm_ai_openscale.supporting_classes import Feature\n\nsubscription.fairness_monitoring.enable(\n            features=[\n                Feature(\"Sex\", majority=['male'], minority=['female'], threshold=0.95),\n                Feature(\"Age\", majority=[[26, 75]], minority=[[18, 25]], threshold=0.95)\n            ],\n            favourable_classes=['No Risk'],\n            unfavourable_classes=['Risk'],\n            min_records=4,\n            training_data=data_df\n        )"
        }, 
        {
            "execution_count": 41, 
            "cell_type": "code", 
            "metadata": {}, 
            "outputs": [
                {
                    "output_type": "stream", 
                    "name": "stdout", 
                    "text": "\n\n=====================================================\n\n Counting bias for deployment_uid=german_credit_risk \n\n=====================================================\n\n\n\nINITIATED\nFINISHED\n\n---------------------------\n Successfully finished run \n---------------------------\n\n\n"
                }
            ], 
            "source": "fairness_run = subscription.fairness_monitoring.run(background_mode=False)"
        }, 
        {
            "source": "#### Check fairness run results", 
            "cell_type": "markdown", 
            "metadata": {}
        }, 
        {
            "execution_count": 42, 
            "cell_type": "code", 
            "metadata": {}, 
            "outputs": [
                {
                    "output_type": "display_data", 
                    "data": {
                        "text/html": "<HTML>\n        <body>\n            <h3>FairnessMetrics (binding_id=0b9c0116-abfa-436f-863c-74f8c9d38141, subscription_id=credit)</h3>\n            <table style='border: 1px solid #dddddd; font-family: Courier'>\n                <th style='border: 1px solid #dddddd'>ts</th><th style='border: 1px solid #dddddd'>feature</th><th style='border: 1px solid #dddddd'>feature_value</th><th style='border: 1px solid #dddddd'>fairness_biased</th><th style='border: 1px solid #dddddd'>fairness_value</th><th style='border: 1px solid #dddddd'>fairness_fav_class</th><th style='border: 1px solid #dddddd'>binding_id</th><th style='border: 1px solid #dddddd'>subscription_id</th><th style='border: 1px solid #dddddd'>asset_revision</th><th style='border: 1px solid #dddddd'>deployment_id</th><th style='border: 1px solid #dddddd'>process</th>\n                <tr><td style='border: 1px solid #dddddd'>2019-02-21 09:44:44.080741+00:00</td><td style='border: 1px solid #dddddd'>Sex</td><td style='border: 1px solid #dddddd'>female</td><td style='border: 1px solid #dddddd'>False</td><td style='border: 1px solid #dddddd'>1.0</td><td style='border: 1px solid #dddddd'>100.0</td><td style='border: 1px solid #dddddd'>0b9c0116-abfa-436f-863c-74f8c9d38141</td><td style='border: 1px solid #dddddd'>credit</td><td style='border: 1px solid #dddddd'>credit</td><td style='border: 1px solid #dddddd'>german_credit_risk</td><td style='border: 1px solid #dddddd'></td></tr><tr><td style='border: 1px solid #dddddd'>2019-02-21 09:44:44.080741+00:00</td><td style='border: 1px solid #dddddd'>Age</td><td style='border: 1px solid #dddddd'>[18, 25]</td><td style='border: 1px solid #dddddd'>False</td><td style='border: 1px solid #dddddd'>1.0</td><td style='border: 1px solid #dddddd'>100.0</td><td style='border: 1px solid #dddddd'>0b9c0116-abfa-436f-863c-74f8c9d38141</td><td style='border: 1px solid #dddddd'>credit</td><td style='border: 1px solid #dddddd'>credit</td><td style='border: 1px solid #dddddd'>german_credit_risk</td><td style='border: 1px solid #dddddd'></td></tr>\n            </table>\n        </body>\n        </HTML>", 
                        "text/plain": "<IPython.core.display.HTML object>"
                    }, 
                    "metadata": {}
                }
            ], 
            "source": "subscription.fairness_monitoring.show_table()"
        }, 
        {
            "source": "<a id=\"datamart\"></a>\n## 7. Working with data mart", 
            "cell_type": "markdown", 
            "metadata": {}
        }, 
        {
            "source": "### 6.1 Payload logging", 
            "cell_type": "markdown", 
            "metadata": {}
        }, 
        {
            "source": "#### Print schema of payload_logging table", 
            "cell_type": "markdown", 
            "metadata": {}
        }, 
        {
            "execution_count": 43, 
            "cell_type": "code", 
            "metadata": {}, 
            "outputs": [
                {
                    "output_type": "display_data", 
                    "data": {
                        "text/html": "<HTML>\n        <body>\n            <h3>Schema of Payload_credit</h3>\n            <table style='border: 1px solid #dddddd; font-family: Courier'>\n                <th style='border: 1px solid #dddddd'>name</th><th style='border: 1px solid #dddddd'>type</th><th style='border: 1px solid #dddddd'>nullable</th>\n                <tr><td style='border: 1px solid #dddddd'>scoring_id</td><td style='border: 1px solid #dddddd'>string</td><td style='border: 1px solid #dddddd'>True</td></tr><tr><td style='border: 1px solid #dddddd'>scoring_timestamp</td><td style='border: 1px solid #dddddd'>timestamp</td><td style='border: 1px solid #dddddd'>True</td></tr><tr><td style='border: 1px solid #dddddd'>deployment_id</td><td style='border: 1px solid #dddddd'>string</td><td style='border: 1px solid #dddddd'>True</td></tr><tr><td style='border: 1px solid #dddddd'>asset_revision</td><td style='border: 1px solid #dddddd'>string</td><td style='border: 1px solid #dddddd'>True</td></tr><tr><td style='border: 1px solid #dddddd'>CheckingStatus</td><td style='border: 1px solid #dddddd'>string</td><td style='border: 1px solid #dddddd'>True</td></tr><tr><td style='border: 1px solid #dddddd'>LoanDuration</td><td style='border: 1px solid #dddddd'>integer</td><td style='border: 1px solid #dddddd'>True</td></tr><tr><td style='border: 1px solid #dddddd'>CreditHistory</td><td style='border: 1px solid #dddddd'>string</td><td style='border: 1px solid #dddddd'>True</td></tr><tr><td style='border: 1px solid #dddddd'>LoanPurpose</td><td style='border: 1px solid #dddddd'>string</td><td style='border: 1px solid #dddddd'>True</td></tr><tr><td style='border: 1px solid #dddddd'>LoanAmount</td><td style='border: 1px solid #dddddd'>integer</td><td style='border: 1px solid #dddddd'>True</td></tr><tr><td style='border: 1px solid #dddddd'>ExistingSavings</td><td style='border: 1px solid #dddddd'>string</td><td style='border: 1px solid #dddddd'>True</td></tr><tr><td style='border: 1px solid #dddddd'>EmploymentDuration</td><td style='border: 1px solid #dddddd'>string</td><td style='border: 1px solid #dddddd'>True</td></tr><tr><td style='border: 1px solid #dddddd'>InstallmentPercent</td><td style='border: 1px solid #dddddd'>integer</td><td style='border: 1px solid #dddddd'>True</td></tr><tr><td style='border: 1px solid #dddddd'>Sex</td><td style='border: 1px solid #dddddd'>string</td><td style='border: 1px solid #dddddd'>True</td></tr><tr><td style='border: 1px solid #dddddd'>OthersOnLoan</td><td style='border: 1px solid #dddddd'>string</td><td style='border: 1px solid #dddddd'>True</td></tr><tr><td style='border: 1px solid #dddddd'>CurrentResidenceDuration</td><td style='border: 1px solid #dddddd'>integer</td><td style='border: 1px solid #dddddd'>True</td></tr><tr><td style='border: 1px solid #dddddd'>OwnsProperty</td><td style='border: 1px solid #dddddd'>string</td><td style='border: 1px solid #dddddd'>True</td></tr><tr><td style='border: 1px solid #dddddd'>Age</td><td style='border: 1px solid #dddddd'>integer</td><td style='border: 1px solid #dddddd'>True</td></tr><tr><td style='border: 1px solid #dddddd'>InstallmentPlans</td><td style='border: 1px solid #dddddd'>string</td><td style='border: 1px solid #dddddd'>True</td></tr><tr><td style='border: 1px solid #dddddd'>Housing</td><td style='border: 1px solid #dddddd'>string</td><td style='border: 1px solid #dddddd'>True</td></tr><tr><td style='border: 1px solid #dddddd'>ExistingCreditsCount</td><td style='border: 1px solid #dddddd'>integer</td><td style='border: 1px solid #dddddd'>True</td></tr><tr><td style='border: 1px solid #dddddd'>Job</td><td style='border: 1px solid #dddddd'>string</td><td style='border: 1px solid #dddddd'>True</td></tr><tr><td style='border: 1px solid #dddddd'>Dependents</td><td style='border: 1px solid #dddddd'>integer</td><td style='border: 1px solid #dddddd'>True</td></tr><tr><td style='border: 1px solid #dddddd'>Telephone</td><td style='border: 1px solid #dddddd'>string</td><td style='border: 1px solid #dddddd'>True</td></tr><tr><td style='border: 1px solid #dddddd'>ForeignWorker</td><td style='border: 1px solid #dddddd'>string</td><td style='border: 1px solid #dddddd'>True</td></tr><tr><td style='border: 1px solid #dddddd'>prediction</td><td style='border: 1px solid #dddddd'>string</td><td style='border: 1px solid #dddddd'>True</td></tr><tr><td style='border: 1px solid #dddddd'>probability</td><td style='border: 1px solid #dddddd'>{'containsNull': True, 'elementType': 'double', 'type': 'array'}</td><td style='border: 1px solid #dddddd'>True</td></tr><tr><td style='border: 1px solid #dddddd'>debiased_prediction</td><td style='border: 1px solid #dddddd'>double</td><td style='border: 1px solid #dddddd'>True</td></tr><tr><td style='border: 1px solid #dddddd'>debiased_probability</td><td style='border: 1px solid #dddddd'>{'containsNull': True, 'elementType': 'double', 'type': 'array'}</td><td style='border: 1px solid #dddddd'>True</td></tr><tr><td style='border: 1px solid #dddddd'>debiased_decoded_target</td><td style='border: 1px solid #dddddd'>string</td><td style='border: 1px solid #dddddd'>True</td></tr>\n            </table>\n        </body>\n        </HTML>", 
                        "text/plain": "<IPython.core.display.HTML object>"
                    }, 
                    "metadata": {}
                }
            ], 
            "source": "subscription.payload_logging.print_table_schema()"
        }, 
        {
            "source": "#### Show (preview) the table", 
            "cell_type": "markdown", 
            "metadata": {}
        }, 
        {
            "execution_count": 44, 
            "cell_type": "code", 
            "metadata": {}, 
            "outputs": [
                {
                    "output_type": "stream", 
                    "name": "stdout", 
                    "text": "       LoanDuration   LoanAmount  InstallmentPercent  \\\ncount     64.000000    64.000000           64.000000   \nmean      20.125000  2161.750000            2.750000   \nstd       13.097316  1841.937955            0.835711   \nmin        4.000000   250.000000            2.000000   \n25%       13.000000   855.250000            2.000000   \n50%       15.500000  1359.000000            2.500000   \n75%       24.500000  2917.750000            3.250000   \nmax       50.000000  5696.000000            4.000000   \n\n       CurrentResidenceDuration        Age  ExistingCreditsCount  Dependents  \ncount                 64.000000  64.000000             64.000000        64.0  \nmean                   3.000000  42.625000              1.500000         1.0  \nstd                    0.712697  16.267116              0.503953         0.0  \nmin                    2.000000  23.000000              1.000000         1.0  \n25%                    2.750000  28.000000              1.000000         1.0  \n50%                    3.000000  40.000000              1.500000         1.0  \n75%                    3.250000  55.500000              2.000000         1.0  \nmax                    4.000000  70.000000              2.000000         1.0  \n"
                }
            ], 
            "source": "subscription.payload_logging.describe_table()"
        }, 
        {
            "source": "#### Return the table content as pandas dataframe", 
            "cell_type": "markdown", 
            "metadata": {}
        }, 
        {
            "execution_count": 45, 
            "cell_type": "code", 
            "metadata": {}, 
            "outputs": [], 
            "source": "pandas_df = subscription.payload_logging.get_table_content(format='pandas')"
        }, 
        {
            "execution_count": 46, 
            "cell_type": "code", 
            "metadata": {
                "pixiedust": {
                    "displayParams": {
                        "handlerId": "pieChart", 
                        "keyFields": "prediction"
                    }
                }
            }, 
            "outputs": [
                {
                    "output_type": "display_data", 
                    "data": {
                        "text/html": "<style type=\"text/css\">.pd_warning{display:none;}</style><div class=\"pd_warning\"><em>Hey, there's something awesome here! To see it, open this notebook outside GitHub, in a viewer like Jupyter</em></div>\n        <div class=\"pd_save is-viewer-good\" style=\"padding-right:10px;text-align: center;line-height:initial !important;font-size: xx-large;font-weight: 500;color: coral;\">\n            \n        </div>\n    <div id=\"chartFigurec609a516\" class=\"pd_save is-viewer-good\" style=\"overflow-x:auto\">\n            \n                    \n                            <center><img style=\"max-width:initial !important\" src=\"data:image/png;base64,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\" class=\"pd_save\"></center>\n                        \n                    \n                \n        </div>", 
                        "text/plain": "<IPython.core.display.HTML object>"
                    }, 
                    "metadata": {}
                }
            ], 
            "source": "from pixiedust import display\n\ndisplay(pandas_df)"
        }, 
        {
            "source": "### 6.2 Feddback logging", 
            "cell_type": "markdown", 
            "metadata": {}
        }, 
        {
            "source": "Check the schema of table.", 
            "cell_type": "markdown", 
            "metadata": {}
        }, 
        {
            "execution_count": 47, 
            "cell_type": "code", 
            "metadata": {}, 
            "outputs": [
                {
                    "output_type": "display_data", 
                    "data": {
                        "text/html": "<HTML>\n        <body>\n            <h3>Schema of Feedback_credit</h3>\n            <table style='border: 1px solid #dddddd; font-family: Courier'>\n                <th style='border: 1px solid #dddddd'>name</th><th style='border: 1px solid #dddddd'>type</th><th style='border: 1px solid #dddddd'>nullable</th>\n                <tr><td style='border: 1px solid #dddddd'>CheckingStatus</td><td style='border: 1px solid #dddddd'>string</td><td style='border: 1px solid #dddddd'>True</td></tr><tr><td style='border: 1px solid #dddddd'>LoanDuration</td><td style='border: 1px solid #dddddd'>integer</td><td style='border: 1px solid #dddddd'>True</td></tr><tr><td style='border: 1px solid #dddddd'>CreditHistory</td><td style='border: 1px solid #dddddd'>string</td><td style='border: 1px solid #dddddd'>True</td></tr><tr><td style='border: 1px solid #dddddd'>LoanPurpose</td><td style='border: 1px solid #dddddd'>string</td><td style='border: 1px solid #dddddd'>True</td></tr><tr><td style='border: 1px solid #dddddd'>LoanAmount</td><td style='border: 1px solid #dddddd'>integer</td><td style='border: 1px solid #dddddd'>True</td></tr><tr><td style='border: 1px solid #dddddd'>ExistingSavings</td><td style='border: 1px solid #dddddd'>string</td><td style='border: 1px solid #dddddd'>True</td></tr><tr><td style='border: 1px solid #dddddd'>EmploymentDuration</td><td style='border: 1px solid #dddddd'>string</td><td style='border: 1px solid #dddddd'>True</td></tr><tr><td style='border: 1px solid #dddddd'>InstallmentPercent</td><td style='border: 1px solid #dddddd'>integer</td><td style='border: 1px solid #dddddd'>True</td></tr><tr><td style='border: 1px solid #dddddd'>Sex</td><td style='border: 1px solid #dddddd'>string</td><td style='border: 1px solid #dddddd'>True</td></tr><tr><td style='border: 1px solid #dddddd'>OthersOnLoan</td><td style='border: 1px solid #dddddd'>string</td><td style='border: 1px solid #dddddd'>True</td></tr><tr><td style='border: 1px solid #dddddd'>CurrentResidenceDuration</td><td style='border: 1px solid #dddddd'>integer</td><td style='border: 1px solid #dddddd'>True</td></tr><tr><td style='border: 1px solid #dddddd'>OwnsProperty</td><td style='border: 1px solid #dddddd'>string</td><td style='border: 1px solid #dddddd'>True</td></tr><tr><td style='border: 1px solid #dddddd'>Age</td><td style='border: 1px solid #dddddd'>integer</td><td style='border: 1px solid #dddddd'>True</td></tr><tr><td style='border: 1px solid #dddddd'>InstallmentPlans</td><td style='border: 1px solid #dddddd'>string</td><td style='border: 1px solid #dddddd'>True</td></tr><tr><td style='border: 1px solid #dddddd'>Housing</td><td style='border: 1px solid #dddddd'>string</td><td style='border: 1px solid #dddddd'>True</td></tr><tr><td style='border: 1px solid #dddddd'>ExistingCreditsCount</td><td style='border: 1px solid #dddddd'>integer</td><td style='border: 1px solid #dddddd'>True</td></tr><tr><td style='border: 1px solid #dddddd'>Job</td><td style='border: 1px solid #dddddd'>string</td><td style='border: 1px solid #dddddd'>True</td></tr><tr><td style='border: 1px solid #dddddd'>Dependents</td><td style='border: 1px solid #dddddd'>integer</td><td style='border: 1px solid #dddddd'>True</td></tr><tr><td style='border: 1px solid #dddddd'>Telephone</td><td style='border: 1px solid #dddddd'>string</td><td style='border: 1px solid #dddddd'>True</td></tr><tr><td style='border: 1px solid #dddddd'>ForeignWorker</td><td style='border: 1px solid #dddddd'>string</td><td style='border: 1px solid #dddddd'>True</td></tr><tr><td style='border: 1px solid #dddddd'>Risk</td><td style='border: 1px solid #dddddd'>string</td><td style='border: 1px solid #dddddd'>True</td></tr><tr><td style='border: 1px solid #dddddd'>_training</td><td style='border: 1px solid #dddddd'>timestamp</td><td style='border: 1px solid #dddddd'>False</td></tr>\n            </table>\n        </body>\n        </HTML>", 
                        "text/plain": "<IPython.core.display.HTML object>"
                    }, 
                    "metadata": {}
                }
            ], 
            "source": "subscription.feedback_logging.print_table_schema()"
        }, 
        {
            "source": "Preview table content.", 
            "cell_type": "markdown", 
            "metadata": {}
        }, 
        {
            "execution_count": 48, 
            "cell_type": "code", 
            "metadata": {}, 
            "outputs": [
                {
                    "output_type": "display_data", 
                    "data": {
                        "text/html": "<HTML>\n        <body>\n            <h3>Feedback_credit (binding_id=0b9c0116-abfa-436f-863c-74f8c9d38141, subscription_id=credit)</h3>\n            <table style='border: 1px solid #dddddd; font-family: Courier'>\n                <th style='border: 1px solid #dddddd'>CheckingStatus</th><th style='border: 1px solid #dddddd'>LoanDuration</th><th style='border: 1px solid #dddddd'>CreditHistory</th><th style='border: 1px solid #dddddd'>LoanPurpose</th><th style='border: 1px solid #dddddd'>LoanAmount</th><th style='border: 1px solid #dddddd'>ExistingSavings</th><th style='border: 1px solid #dddddd'>EmploymentDuration</th><th style='border: 1px solid #dddddd'>InstallmentPercent</th><th style='border: 1px solid #dddddd'>Sex</th><th style='border: 1px solid #dddddd'>OthersOnLoan</th><th style='border: 1px solid #dddddd'>CurrentResidenceDuration</th><th style='border: 1px solid #dddddd'>OwnsProperty</th><th style='border: 1px solid #dddddd'>Age</th><th style='border: 1px solid #dddddd'>InstallmentPlans</th><th style='border: 1px solid #dddddd'>Housing</th><th style='border: 1px solid #dddddd'>ExistingCreditsCount</th><th style='border: 1px solid #dddddd'>Job</th><th style='border: 1px solid #dddddd'>Dependents</th><th style='border: 1px solid #dddddd'>Telephone</th><th style='border: 1px solid #dddddd'>ForeignWorker</th><th style='border: 1px solid #dddddd'>Risk</th><th style='border: 1px solid #dddddd'>_training</th>\n                <tr><td style='border: 1px solid #dddddd'>0_to_200</td><td style='border: 1px solid #dddddd'>18</td><td style='border: 1px solid #dddddd'>outstanding_credit</td><td style='border: 1px solid #dddddd'>car_new</td><td style='border: 1px solid #dddddd'>884</td><td style='border: 1px solid #dddddd'>less_100</td><td style='border: 1px solid #dddddd'>greater_7</td><td style='border: 1px solid #dddddd'>4</td><td style='border: 1px solid #dddddd'>male</td><td style='border: 1px solid #dddddd'>none</td><td style='border: 1px solid #dddddd'>4</td><td style='border: 1px solid #dddddd'>car_other</td><td style='border: 1px solid #dddddd'>36</td><td style='border: 1px solid #dddddd'>bank</td><td style='border: 1px solid #dddddd'>own</td><td style='border: 1px solid #dddddd'>1</td><td style='border: 1px solid #dddddd'>skilled</td><td style='border: 1px solid #dddddd'>2</td><td style='border: 1px solid #dddddd'>yes</td><td style='border: 1px solid #dddddd'>yes</td><td style='border: 1px solid #dddddd'>Risk</td><td style='border: 1px solid #dddddd'>2019-02-21 09:44:19.186000+00:00</td></tr><tr><td style='border: 1px solid #dddddd'>0_to_200</td><td style='border: 1px solid #dddddd'>18</td><td style='border: 1px solid #dddddd'>outstanding_credit</td><td style='border: 1px solid #dddddd'>car_new</td><td style='border: 1px solid #dddddd'>884</td><td style='border: 1px solid #dddddd'>less_100</td><td style='border: 1px solid #dddddd'>greater_7</td><td style='border: 1px solid #dddddd'>4</td><td style='border: 1px solid #dddddd'>male</td><td style='border: 1px solid #dddddd'>none</td><td style='border: 1px solid #dddddd'>4</td><td style='border: 1px solid #dddddd'>car_other</td><td style='border: 1px solid #dddddd'>36</td><td style='border: 1px solid #dddddd'>bank</td><td style='border: 1px solid #dddddd'>own</td><td style='border: 1px solid #dddddd'>1</td><td style='border: 1px solid #dddddd'>skilled</td><td style='border: 1px solid #dddddd'>2</td><td style='border: 1px solid #dddddd'>yes</td><td style='border: 1px solid #dddddd'>yes</td><td style='border: 1px solid #dddddd'>Risk</td><td style='border: 1px solid #dddddd'>2019-02-21 09:44:19.186000+00:00</td></tr><tr><td style='border: 1px solid #dddddd'>0_to_200</td><td style='border: 1px solid #dddddd'>18</td><td style='border: 1px solid #dddddd'>outstanding_credit</td><td style='border: 1px solid #dddddd'>car_new</td><td style='border: 1px solid #dddddd'>884</td><td style='border: 1px solid #dddddd'>less_100</td><td style='border: 1px solid #dddddd'>greater_7</td><td style='border: 1px solid #dddddd'>4</td><td style='border: 1px solid #dddddd'>male</td><td style='border: 1px solid #dddddd'>none</td><td style='border: 1px solid #dddddd'>4</td><td style='border: 1px solid #dddddd'>car_other</td><td style='border: 1px solid #dddddd'>36</td><td style='border: 1px solid #dddddd'>bank</td><td style='border: 1px solid #dddddd'>own</td><td style='border: 1px solid #dddddd'>1</td><td style='border: 1px solid #dddddd'>skilled</td><td style='border: 1px solid #dddddd'>2</td><td style='border: 1px solid #dddddd'>yes</td><td style='border: 1px solid #dddddd'>yes</td><td style='border: 1px solid #dddddd'>Risk</td><td style='border: 1px solid #dddddd'>2019-02-21 09:44:19.186000+00:00</td></tr><tr><td style='border: 1px solid #dddddd'>0_to_200</td><td style='border: 1px solid #dddddd'>18</td><td style='border: 1px solid #dddddd'>outstanding_credit</td><td style='border: 1px solid #dddddd'>car_new</td><td style='border: 1px solid #dddddd'>884</td><td style='border: 1px solid #dddddd'>less_100</td><td style='border: 1px solid #dddddd'>greater_7</td><td style='border: 1px solid #dddddd'>4</td><td style='border: 1px solid #dddddd'>male</td><td style='border: 1px solid #dddddd'>none</td><td style='border: 1px solid #dddddd'>4</td><td style='border: 1px solid #dddddd'>car_other</td><td style='border: 1px solid #dddddd'>36</td><td style='border: 1px solid #dddddd'>bank</td><td style='border: 1px solid #dddddd'>own</td><td style='border: 1px solid #dddddd'>1</td><td style='border: 1px solid #dddddd'>skilled</td><td style='border: 1px solid #dddddd'>2</td><td style='border: 1px solid #dddddd'>yes</td><td style='border: 1px solid #dddddd'>yes</td><td style='border: 1px solid #dddddd'>Risk</td><td style='border: 1px solid #dddddd'>2019-02-21 09:44:19.186000+00:00</td></tr><tr><td style='border: 1px solid #dddddd'>0_to_200</td><td style='border: 1px solid #dddddd'>18</td><td style='border: 1px solid #dddddd'>outstanding_credit</td><td style='border: 1px solid #dddddd'>car_new</td><td style='border: 1px solid #dddddd'>884</td><td style='border: 1px solid #dddddd'>less_100</td><td style='border: 1px solid #dddddd'>greater_7</td><td style='border: 1px solid #dddddd'>4</td><td style='border: 1px solid #dddddd'>male</td><td style='border: 1px solid #dddddd'>none</td><td style='border: 1px solid #dddddd'>4</td><td style='border: 1px solid #dddddd'>car_other</td><td style='border: 1px solid #dddddd'>36</td><td style='border: 1px solid #dddddd'>bank</td><td style='border: 1px solid #dddddd'>own</td><td style='border: 1px solid #dddddd'>1</td><td style='border: 1px solid #dddddd'>skilled</td><td style='border: 1px solid #dddddd'>2</td><td style='border: 1px solid #dddddd'>yes</td><td style='border: 1px solid #dddddd'>yes</td><td style='border: 1px solid #dddddd'>Risk</td><td style='border: 1px solid #dddddd'>2019-02-21 09:44:19.186000+00:00</td></tr><tr><td style='border: 1px solid #dddddd'>0_to_200</td><td style='border: 1px solid #dddddd'>18</td><td style='border: 1px solid #dddddd'>outstanding_credit</td><td style='border: 1px solid #dddddd'>car_new</td><td style='border: 1px solid #dddddd'>884</td><td style='border: 1px solid #dddddd'>less_100</td><td style='border: 1px solid #dddddd'>greater_7</td><td style='border: 1px solid #dddddd'>4</td><td style='border: 1px solid #dddddd'>male</td><td style='border: 1px solid #dddddd'>none</td><td style='border: 1px solid #dddddd'>4</td><td style='border: 1px solid #dddddd'>car_other</td><td style='border: 1px solid #dddddd'>36</td><td style='border: 1px solid #dddddd'>bank</td><td style='border: 1px solid #dddddd'>own</td><td style='border: 1px solid #dddddd'>1</td><td style='border: 1px solid #dddddd'>skilled</td><td style='border: 1px solid #dddddd'>2</td><td style='border: 1px solid #dddddd'>yes</td><td style='border: 1px solid #dddddd'>yes</td><td style='border: 1px solid #dddddd'>Risk</td><td style='border: 1px solid #dddddd'>2019-02-21 09:44:19.186000+00:00</td></tr><tr><td style='border: 1px solid #dddddd'>0_to_200</td><td style='border: 1px solid #dddddd'>18</td><td style='border: 1px solid #dddddd'>outstanding_credit</td><td style='border: 1px solid #dddddd'>car_new</td><td style='border: 1px solid #dddddd'>884</td><td style='border: 1px solid #dddddd'>less_100</td><td style='border: 1px solid #dddddd'>greater_7</td><td style='border: 1px solid #dddddd'>4</td><td style='border: 1px solid #dddddd'>male</td><td style='border: 1px solid #dddddd'>none</td><td style='border: 1px solid #dddddd'>4</td><td style='border: 1px solid #dddddd'>car_other</td><td style='border: 1px solid #dddddd'>36</td><td style='border: 1px solid #dddddd'>bank</td><td style='border: 1px solid #dddddd'>own</td><td style='border: 1px solid #dddddd'>1</td><td style='border: 1px solid #dddddd'>skilled</td><td style='border: 1px solid #dddddd'>2</td><td style='border: 1px solid #dddddd'>yes</td><td style='border: 1px solid #dddddd'>yes</td><td style='border: 1px solid #dddddd'>Risk</td><td style='border: 1px solid #dddddd'>2019-02-21 09:44:19.186000+00:00</td></tr><tr><td style='border: 1px solid #dddddd'>0_to_200</td><td style='border: 1px solid #dddddd'>18</td><td style='border: 1px solid #dddddd'>outstanding_credit</td><td style='border: 1px solid #dddddd'>car_new</td><td style='border: 1px solid #dddddd'>884</td><td style='border: 1px solid #dddddd'>less_100</td><td style='border: 1px solid #dddddd'>greater_7</td><td style='border: 1px solid #dddddd'>4</td><td style='border: 1px solid #dddddd'>male</td><td style='border: 1px solid #dddddd'>none</td><td style='border: 1px solid #dddddd'>4</td><td style='border: 1px solid #dddddd'>car_other</td><td style='border: 1px solid #dddddd'>36</td><td style='border: 1px solid #dddddd'>bank</td><td style='border: 1px solid #dddddd'>own</td><td style='border: 1px solid #dddddd'>1</td><td style='border: 1px solid #dddddd'>skilled</td><td style='border: 1px solid #dddddd'>2</td><td style='border: 1px solid #dddddd'>yes</td><td style='border: 1px solid #dddddd'>yes</td><td style='border: 1px solid #dddddd'>Risk</td><td style='border: 1px solid #dddddd'>2019-02-21 09:44:19.186000+00:00</td></tr><tr><td style='border: 1px solid #dddddd'>0_to_200</td><td style='border: 1px solid #dddddd'>18</td><td style='border: 1px solid #dddddd'>outstanding_credit</td><td style='border: 1px solid #dddddd'>car_new</td><td style='border: 1px solid #dddddd'>884</td><td style='border: 1px solid #dddddd'>less_100</td><td style='border: 1px solid #dddddd'>greater_7</td><td style='border: 1px solid #dddddd'>4</td><td style='border: 1px solid #dddddd'>male</td><td style='border: 1px solid #dddddd'>none</td><td style='border: 1px solid #dddddd'>4</td><td style='border: 1px solid #dddddd'>car_other</td><td style='border: 1px solid #dddddd'>36</td><td style='border: 1px solid #dddddd'>bank</td><td style='border: 1px solid #dddddd'>own</td><td style='border: 1px solid #dddddd'>1</td><td style='border: 1px solid #dddddd'>skilled</td><td style='border: 1px solid #dddddd'>2</td><td style='border: 1px solid #dddddd'>yes</td><td style='border: 1px solid #dddddd'>yes</td><td style='border: 1px solid #dddddd'>Risk</td><td style='border: 1px solid #dddddd'>2019-02-21 09:44:19.186000+00:00</td></tr><tr><td style='border: 1px solid #dddddd'>0_to_200</td><td style='border: 1px solid #dddddd'>18</td><td style='border: 1px solid #dddddd'>outstanding_credit</td><td style='border: 1px solid #dddddd'>car_new</td><td style='border: 1px solid #dddddd'>884</td><td style='border: 1px solid #dddddd'>less_100</td><td style='border: 1px solid #dddddd'>greater_7</td><td style='border: 1px solid #dddddd'>4</td><td style='border: 1px solid #dddddd'>male</td><td style='border: 1px solid #dddddd'>none</td><td style='border: 1px solid #dddddd'>4</td><td style='border: 1px solid #dddddd'>car_other</td><td style='border: 1px solid #dddddd'>36</td><td style='border: 1px solid #dddddd'>bank</td><td style='border: 1px solid #dddddd'>own</td><td style='border: 1px solid #dddddd'>1</td><td style='border: 1px solid #dddddd'>skilled</td><td style='border: 1px solid #dddddd'>2</td><td style='border: 1px solid #dddddd'>yes</td><td style='border: 1px solid #dddddd'>yes</td><td style='border: 1px solid #dddddd'>Risk</td><td style='border: 1px solid #dddddd'>2019-02-21 09:44:19.186000+00:00</td></tr>\n            </table>\n        </body>\n        </HTML>", 
                        "text/plain": "<IPython.core.display.HTML object>"
                    }, 
                    "metadata": {}
                }
            ], 
            "source": "subscription.feedback_logging.show_table()"
        }, 
        {
            "source": "Describe table (calulcate basic statistics).", 
            "cell_type": "markdown", 
            "metadata": {}
        }, 
        {
            "execution_count": 49, 
            "cell_type": "code", 
            "metadata": {}, 
            "outputs": [
                {
                    "output_type": "stream", 
                    "name": "stdout", 
                    "text": "       LoanDuration  LoanAmount  InstallmentPercent  CurrentResidenceDuration  \\\ncount          19.0        19.0                19.0                      19.0   \nmean           18.0       884.0                 4.0                       4.0   \nstd             0.0         0.0                 0.0                       0.0   \nmin            18.0       884.0                 4.0                       4.0   \n25%            18.0       884.0                 4.0                       4.0   \n50%            18.0       884.0                 4.0                       4.0   \n75%            18.0       884.0                 4.0                       4.0   \nmax            18.0       884.0                 4.0                       4.0   \n\n        Age  ExistingCreditsCount  Dependents  \ncount  19.0                  19.0        19.0  \nmean   36.0                   1.0         2.0  \nstd     0.0                   0.0         0.0  \nmin    36.0                   1.0         2.0  \n25%    36.0                   1.0         2.0  \n50%    36.0                   1.0         2.0  \n75%    36.0                   1.0         2.0  \nmax    36.0                   1.0         2.0  \n"
                }
            ], 
            "source": "subscription.feedback_logging.describe_table()"
        }, 
        {
            "source": "Get table content.", 
            "cell_type": "markdown", 
            "metadata": {}
        }, 
        {
            "execution_count": 50, 
            "cell_type": "code", 
            "metadata": {}, 
            "outputs": [], 
            "source": "feedback_pd = subscription.feedback_logging.get_table_content(format='pandas')"
        }, 
        {
            "execution_count": 51, 
            "cell_type": "code", 
            "metadata": {
                "pixiedust": {
                    "displayParams": {
                        "chartsize": "72", 
                        "keyFields": "Risk", 
                        "rendererId": "brunel", 
                        "handlerId": "barChart", 
                        "orientation": "horizontal"
                    }
                }
            }, 
            "outputs": [
                {
                    "output_type": "display_data", 
                    "data": {
                        "text/html": "<style type=\"text/css\">.pd_warning{display:none;}</style><div class=\"pd_warning\"><em>Hey, there's something awesome here! To see it, open this notebook outside GitHub, in a viewer like Jupyter</em></div>", 
                        "text/plain": "<IPython.core.display.HTML object>"
                    }, 
                    "metadata": {}
                }
            ], 
            "source": "display(feedback_pd)"
        }, 
        {
            "source": "### 6.3 Quality metrics table", 
            "cell_type": "markdown", 
            "metadata": {}
        }, 
        {
            "execution_count": 55, 
            "cell_type": "code", 
            "metadata": {}, 
            "outputs": [
                {
                    "output_type": "display_data", 
                    "data": {
                        "text/html": "<HTML>\n        <body>\n            <h3>Schema of QualityMetrics</h3>\n            <table style='border: 1px solid #dddddd; font-family: Courier'>\n                <th style='border: 1px solid #dddddd'>name</th><th style='border: 1px solid #dddddd'>type</th><th style='border: 1px solid #dddddd'>nullable</th>\n                <tr><td style='border: 1px solid #dddddd'>ts</td><td style='border: 1px solid #dddddd'>timestamp</td><td style='border: 1px solid #dddddd'>False</td></tr><tr><td style='border: 1px solid #dddddd'>quality</td><td style='border: 1px solid #dddddd'>float</td><td style='border: 1px solid #dddddd'>False</td></tr><tr><td style='border: 1px solid #dddddd'>quality_threshold</td><td style='border: 1px solid #dddddd'>float</td><td style='border: 1px solid #dddddd'>False</td></tr><tr><td style='border: 1px solid #dddddd'>binding_id</td><td style='border: 1px solid #dddddd'>string</td><td style='border: 1px solid #dddddd'>False</td></tr><tr><td style='border: 1px solid #dddddd'>subscription_id</td><td style='border: 1px solid #dddddd'>string</td><td style='border: 1px solid #dddddd'>False</td></tr><tr><td style='border: 1px solid #dddddd'>deployment_id</td><td style='border: 1px solid #dddddd'>string</td><td style='border: 1px solid #dddddd'>True</td></tr><tr><td style='border: 1px solid #dddddd'>process</td><td style='border: 1px solid #dddddd'>string</td><td style='border: 1px solid #dddddd'>False</td></tr><tr><td style='border: 1px solid #dddddd'>asset_revision</td><td style='border: 1px solid #dddddd'>string</td><td style='border: 1px solid #dddddd'>True</td></tr>\n            </table>\n        </body>\n        </HTML>", 
                        "text/plain": "<IPython.core.display.HTML object>"
                    }, 
                    "metadata": {}
                }
            ], 
            "source": "subscription.quality_monitoring.print_table_schema()"
        }, 
        {
            "execution_count": 56, 
            "cell_type": "code", 
            "metadata": {}, 
            "outputs": [
                {
                    "output_type": "display_data", 
                    "data": {
                        "text/html": "<HTML>\n        <body>\n            <h3>QualityMetrics (binding_id=6c646985-8a93-48e0-911f-37bfc661e03e, subscription_id=credit)</h3>\n            <table style='border: 1px solid #dddddd; font-family: Courier'>\n                <th style='border: 1px solid #dddddd'>ts</th><th style='border: 1px solid #dddddd'>quality</th><th style='border: 1px solid #dddddd'>quality_threshold</th><th style='border: 1px solid #dddddd'>binding_id</th><th style='border: 1px solid #dddddd'>subscription_id</th><th style='border: 1px solid #dddddd'>deployment_id</th><th style='border: 1px solid #dddddd'>process</th><th style='border: 1px solid #dddddd'>asset_revision</th>\n                <tr><td style='border: 1px solid #dddddd'>2019-02-06 14:41:51.847000+00:00</td><td style='border: 1px solid #dddddd'>1.0</td><td style='border: 1px solid #dddddd'>0.7</td><td style='border: 1px solid #dddddd'>6c646985-8a93-48e0-911f-37bfc661e03e</td><td style='border: 1px solid #dddddd'>credit</td><td style='border: 1px solid #dddddd'>german_credit_risk</td><td style='border: 1px solid #dddddd'>Accuracy_evaluation_60cabade-90b4-4575-b7df-d4e47cb0efa6</td><td style='border: 1px solid #dddddd'></td></tr>\n            </table>\n        </body>\n        </HTML>", 
                        "text/plain": "<IPython.core.display.HTML object>"
                    }, 
                    "metadata": {}
                }
            ], 
            "source": "subscription.quality_monitoring.show_table()"
        }, 
        {
            "source": "### 6.4 Performance metrics table", 
            "cell_type": "markdown", 
            "metadata": {}
        }, 
        {
            "execution_count": 57, 
            "cell_type": "code", 
            "metadata": {}, 
            "outputs": [
                {
                    "output_type": "display_data", 
                    "data": {
                        "text/html": "<HTML>\n        <body>\n            <h3>Schema of PerformanceMetrics</h3>\n            <table style='border: 1px solid #dddddd; font-family: Courier'>\n                <th style='border: 1px solid #dddddd'>name</th><th style='border: 1px solid #dddddd'>type</th><th style='border: 1px solid #dddddd'>nullable</th>\n                <tr><td style='border: 1px solid #dddddd'>ts</td><td style='border: 1px solid #dddddd'>timestamp</td><td style='border: 1px solid #dddddd'>False</td></tr><tr><td style='border: 1px solid #dddddd'>scoring_time</td><td style='border: 1px solid #dddddd'>float</td><td style='border: 1px solid #dddddd'>False</td></tr><tr><td style='border: 1px solid #dddddd'>scoring_records</td><td style='border: 1px solid #dddddd'>object</td><td style='border: 1px solid #dddddd'>False</td></tr><tr><td style='border: 1px solid #dddddd'>binding_id</td><td style='border: 1px solid #dddddd'>string</td><td style='border: 1px solid #dddddd'>False</td></tr><tr><td style='border: 1px solid #dddddd'>subscription_id</td><td style='border: 1px solid #dddddd'>string</td><td style='border: 1px solid #dddddd'>False</td></tr><tr><td style='border: 1px solid #dddddd'>deployment_id</td><td style='border: 1px solid #dddddd'>string</td><td style='border: 1px solid #dddddd'>True</td></tr><tr><td style='border: 1px solid #dddddd'>process</td><td style='border: 1px solid #dddddd'>string</td><td style='border: 1px solid #dddddd'>False</td></tr><tr><td style='border: 1px solid #dddddd'>asset_revision</td><td style='border: 1px solid #dddddd'>string</td><td style='border: 1px solid #dddddd'>True</td></tr>\n            </table>\n        </body>\n        </HTML>", 
                        "text/plain": "<IPython.core.display.HTML object>"
                    }, 
                    "metadata": {}
                }
            ], 
            "source": "subscription.performance_monitoring.print_table_schema()"
        }, 
        {
            "execution_count": 58, 
            "cell_type": "code", 
            "metadata": {}, 
            "outputs": [
                {
                    "output_type": "display_data", 
                    "data": {
                        "text/html": "<HTML>\n        <body>\n            <h3>PerformanceMetrics (binding_id=6c646985-8a93-48e0-911f-37bfc661e03e, subscription_id=credit)</h3>\n            <table style='border: 1px solid #dddddd; font-family: Courier'>\n                <th style='border: 1px solid #dddddd'>ts</th><th style='border: 1px solid #dddddd'>scoring_time</th><th style='border: 1px solid #dddddd'>scoring_records</th><th style='border: 1px solid #dddddd'>binding_id</th><th style='border: 1px solid #dddddd'>subscription_id</th><th style='border: 1px solid #dddddd'>deployment_id</th><th style='border: 1px solid #dddddd'>process</th><th style='border: 1px solid #dddddd'>asset_revision</th>\n                <tr><td style='border: 1px solid #dddddd'>2019-02-06 14:41:41.244865+00:00</td><td style='border: 1px solid #dddddd'>16.0</td><td style='border: 1px solid #dddddd'>8</td><td style='border: 1px solid #dddddd'>6c646985-8a93-48e0-911f-37bfc661e03e</td><td style='border: 1px solid #dddddd'>credit</td><td style='border: 1px solid #dddddd'>german_credit_risk</td><td style='border: 1px solid #dddddd'></td><td style='border: 1px solid #dddddd'></td></tr><tr><td style='border: 1px solid #dddddd'>2019-02-06 14:41:41.244886+00:00</td><td style='border: 1px solid #dddddd'>16.0</td><td style='border: 1px solid #dddddd'>8</td><td style='border: 1px solid #dddddd'>6c646985-8a93-48e0-911f-37bfc661e03e</td><td style='border: 1px solid #dddddd'>credit</td><td style='border: 1px solid #dddddd'>german_credit_risk</td><td style='border: 1px solid #dddddd'></td><td style='border: 1px solid #dddddd'></td></tr><tr><td style='border: 1px solid #dddddd'>2019-02-06 14:41:41.244966+00:00</td><td style='border: 1px solid #dddddd'>16.0</td><td style='border: 1px solid #dddddd'>8</td><td style='border: 1px solid #dddddd'>6c646985-8a93-48e0-911f-37bfc661e03e</td><td style='border: 1px solid #dddddd'>credit</td><td style='border: 1px solid #dddddd'>german_credit_risk</td><td style='border: 1px solid #dddddd'></td><td style='border: 1px solid #dddddd'></td></tr><tr><td style='border: 1px solid #dddddd'>2019-02-06 14:41:41.244981+00:00</td><td style='border: 1px solid #dddddd'>16.0</td><td style='border: 1px solid #dddddd'>8</td><td style='border: 1px solid #dddddd'>6c646985-8a93-48e0-911f-37bfc661e03e</td><td style='border: 1px solid #dddddd'>credit</td><td style='border: 1px solid #dddddd'>german_credit_risk</td><td style='border: 1px solid #dddddd'></td><td style='border: 1px solid #dddddd'></td></tr><tr><td style='border: 1px solid #dddddd'>2019-02-06 14:41:41.244935+00:00</td><td style='border: 1px solid #dddddd'>16.0</td><td style='border: 1px solid #dddddd'>8</td><td style='border: 1px solid #dddddd'>6c646985-8a93-48e0-911f-37bfc661e03e</td><td style='border: 1px solid #dddddd'>credit</td><td style='border: 1px solid #dddddd'>german_credit_risk</td><td style='border: 1px solid #dddddd'></td><td style='border: 1px solid #dddddd'></td></tr><tr><td style='border: 1px solid #dddddd'>2019-02-06 14:41:41.244903+00:00</td><td style='border: 1px solid #dddddd'>16.0</td><td style='border: 1px solid #dddddd'>8</td><td style='border: 1px solid #dddddd'>6c646985-8a93-48e0-911f-37bfc661e03e</td><td style='border: 1px solid #dddddd'>credit</td><td style='border: 1px solid #dddddd'>german_credit_risk</td><td style='border: 1px solid #dddddd'></td><td style='border: 1px solid #dddddd'></td></tr><tr><td style='border: 1px solid #dddddd'>2019-02-06 14:41:41.244996+00:00</td><td style='border: 1px solid #dddddd'>16.0</td><td style='border: 1px solid #dddddd'>8</td><td style='border: 1px solid #dddddd'>6c646985-8a93-48e0-911f-37bfc661e03e</td><td style='border: 1px solid #dddddd'>credit</td><td style='border: 1px solid #dddddd'>german_credit_risk</td><td style='border: 1px solid #dddddd'></td><td style='border: 1px solid #dddddd'></td></tr><tr><td style='border: 1px solid #dddddd'>2019-02-06 14:41:41.244919+00:00</td><td style='border: 1px solid #dddddd'>16.0</td><td style='border: 1px solid #dddddd'>8</td><td style='border: 1px solid #dddddd'>6c646985-8a93-48e0-911f-37bfc661e03e</td><td style='border: 1px solid #dddddd'>credit</td><td style='border: 1px solid #dddddd'>german_credit_risk</td><td style='border: 1px solid #dddddd'></td><td style='border: 1px solid #dddddd'></td></tr><tr><td style='border: 1px solid #dddddd'>2019-02-06 14:41:41.244806+00:00</td><td style='border: 1px solid #dddddd'>16.0</td><td style='border: 1px solid #dddddd'>8</td><td style='border: 1px solid #dddddd'>6c646985-8a93-48e0-911f-37bfc661e03e</td><td style='border: 1px solid #dddddd'>credit</td><td style='border: 1px solid #dddddd'>german_credit_risk</td><td style='border: 1px solid #dddddd'></td><td style='border: 1px solid #dddddd'></td></tr><tr><td style='border: 1px solid #dddddd'>2019-02-06 14:41:41.245011+00:00</td><td style='border: 1px solid #dddddd'>16.0</td><td style='border: 1px solid #dddddd'>8</td><td style='border: 1px solid #dddddd'>6c646985-8a93-48e0-911f-37bfc661e03e</td><td style='border: 1px solid #dddddd'>credit</td><td style='border: 1px solid #dddddd'>german_credit_risk</td><td style='border: 1px solid #dddddd'></td><td style='border: 1px solid #dddddd'></td></tr>\n            </table>\n        </body>\n        </HTML>", 
                        "text/plain": "<IPython.core.display.HTML object>"
                    }, 
                    "metadata": {}
                }
            ], 
            "source": "subscription.performance_monitoring.show_table()"
        }, 
        {
            "source": "### 6.5 Data Mart measurement facts table", 
            "cell_type": "markdown", 
            "metadata": {}
        }, 
        {
            "execution_count": 52, 
            "cell_type": "code", 
            "metadata": {}, 
            "outputs": [], 
            "source": "metrics = client.data_mart.get_deployment_metrics()"
        }, 
        {
            "source": "---", 
            "cell_type": "markdown", 
            "metadata": {}
        }, 
        {
            "source": "### Authors\nLukasz Cmielowski, PhD, is an Automation Architect and Data Scientist at IBM with a track record of developing enterprise-level applications that substantially increases clients' ability to turn data into actionable knowledge.", 
            "cell_type": "markdown", 
            "metadata": {}
        }
    ], 
    "metadata": {
        "kernelspec": {
            "display_name": "Python 3.5", 
            "name": "python3", 
            "language": "python"
        }, 
        "language_info": {
            "mimetype": "text/x-python", 
            "nbconvert_exporter": "python", 
            "version": "3.5.5", 
            "name": "python", 
            "file_extension": ".py", 
            "pygments_lexer": "ipython3", 
            "codemirror_mode": {
                "version": 3, 
                "name": "ipython"
            }
        }
    }, 
    "nbformat": 4
}