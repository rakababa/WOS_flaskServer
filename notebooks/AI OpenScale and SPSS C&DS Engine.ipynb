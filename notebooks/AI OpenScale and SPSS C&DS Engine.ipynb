{
    "nbformat_minor": 1, 
    "cells": [
        {
            "source": "<img src=\"https://github.com/pmservice/ai-openscale-tutorials/raw/master/notebooks/images/banner.png\" align=\"left\" alt=\"banner\">", 
            "cell_type": "markdown", 
            "metadata": {}
        }, 
        {
            "source": "# Working with SPSS Collaboration and Deployment Services", 
            "cell_type": "markdown", 
            "metadata": {}
        }, 
        {
            "source": "This notebook shows how to log the payload for the model deployed on custom model serving engine using Watson OpenScale python sdk.", 
            "cell_type": "markdown", 
            "metadata": {}
        }, 
        {
            "source": "Contents\n- [1. Setup](#setup)\n- [2. Binding machine learning engine](#binding)\n- [3. Subscriptions](#subscription)\n- [4. Scoring and payload logging](#scoring)\n- [5. Feedback logging](#feedback)\n- [6. Data Mart](#datamart)", 
            "cell_type": "markdown", 
            "metadata": {}
        }, 
        {
            "source": "<a id=\"setup\"></a>\n## 1. Setup", 
            "cell_type": "markdown", 
            "metadata": {}
        }, 
        {
            "source": "### 1.0 Sample model creation using SPSS Modeler", 
            "cell_type": "markdown", 
            "metadata": {}
        }, 
        {
            "source": "- Download training data set from [here](https://github.com/pmservice/wml-sample-models/raw/master/spark/product-line-prediction/data/GoSales_Tx.csv)\n- Download SPSS Modeler stream from [here](https://gallery.cortanaintelligence.com/Experiment/German-credit-risk-created-on-1-9-2019)\n- Deploy the model using SPSS C&DS as web service", 
            "cell_type": "markdown", 
            "metadata": {}
        }, 
        {
            "source": "### 1.1 Installation and authentication", 
            "cell_type": "markdown", 
            "metadata": {}
        }, 
        {
            "execution_count": 1, 
            "cell_type": "code", 
            "metadata": {}, 
            "outputs": [
                {
                    "output_type": "stream", 
                    "name": "stdout", 
                    "text": "Successfully installed ibm-ai-openscale-2.0.6\r\n"
                }
            ], 
            "source": "!pip install --upgrade ibm-ai-openscale --no-cache | tail -n 1"
        }, 
        {
            "source": "!pip install --upgrade --index-url https://test.pypi.org/simple/ ibm-ai-openscale --no-cache | tail -n 1", 
            "cell_type": "markdown", 
            "metadata": {}
        }, 
        {
            "source": "Import and initiate.", 
            "cell_type": "markdown", 
            "metadata": {}
        }, 
        {
            "execution_count": null, 
            "cell_type": "code", 
            "metadata": {}, 
            "outputs": [], 
            "source": "from ibm_ai_openscale import APIClient4ICP\nfrom ibm_ai_openscale.supporting_classes import PayloadRecord\nfrom ibm_ai_openscale.supporting_classes.enums import InputDataType, ProblemType\nfrom ibm_ai_openscale.engines import *\nfrom ibm_ai_openscale.utils import *\nimport urllib3\nimport jaydebeapi\nimport os\n\nurllib3.disable_warnings(urllib3.exceptions.InsecureRequestWarning)"
        }, 
        {
            "source": "#### Let's define some constants required to set up data mart:\n\n- AIOS_CREDENTIALS (ICP)\n- DATABASE_CREDENTIALS (DB2 on ICP)\n- SCHEMA_NAME", 
            "cell_type": "markdown", 
            "metadata": {}
        }, 
        {
            "execution_count": 2, 
            "cell_type": "code", 
            "metadata": {}, 
            "outputs": [], 
            "source": "AIOS_CREDENTIALS = {\n    \"url\": \"***\",\n    \"username\": \"***\",\n    \"password\": \"***\"\n}"
        }, 
        {
            "execution_count": 3, 
            "cell_type": "code", 
            "metadata": {}, 
            "outputs": [], 
            "source": "# The code was removed by Watson Studio for sharing."
        }, 
        {
            "execution_count": 4, 
            "cell_type": "code", 
            "metadata": {}, 
            "outputs": [], 
            "source": "DATABASE_CREDENTIALS = {\n    \"jdbcurl\": \"***\",\n    \"hostname\": \"***\",\n    \"username\": \"***\",\n    \"password\": \"***\",\n    \"port\": 50000,\n    \"db\": \"***\",\n    \"dsn\": \"***\",\n    \"uri\": \"***\"\n}"
        }, 
        {
            "execution_count": 5, 
            "cell_type": "code", 
            "metadata": {}, 
            "outputs": [], 
            "source": "# The code was removed by Watson Studio for sharing."
        }, 
        {
            "execution_count": 6, 
            "cell_type": "code", 
            "metadata": {}, 
            "outputs": [], 
            "source": "SCHEMA_NAME = 'SPSSNOTEBOOK'"
        }, 
        {
            "execution_count": null, 
            "cell_type": "code", 
            "metadata": {}, 
            "outputs": [], 
            "source": "client = APIClient4ICP(AIOS_CREDENTIALS)"
        }, 
        {
            "execution_count": null, 
            "cell_type": "code", 
            "metadata": {}, 
            "outputs": [], 
            "source": "client.version"
        }, 
        {
            "source": "### 1.2 DataMart setup", 
            "cell_type": "markdown", 
            "metadata": {}
        }, 
        {
            "execution_count": 11, 
            "cell_type": "code", 
            "metadata": {}, 
            "outputs": [], 
            "source": "client.data_mart.setup(db_credentials=DATABASE_CREDENTIALS, schema=SCHEMA_NAME)"
        }, 
        {
            "execution_count": 44, 
            "cell_type": "code", 
            "metadata": {}, 
            "outputs": [], 
            "source": "data_mart_details = client.data_mart.get_details()"
        }, 
        {
            "source": "<a id=\"binding\"></a>\n## 2. Bind machine learning engines", 
            "cell_type": "markdown", 
            "metadata": {}
        }, 
        {
            "source": "### 2.1 Bind  `SPSS C&DS` machine learning engine\n\nProvide credentials using following fields:\n- `username`\n- `password`\n- `url`", 
            "cell_type": "markdown", 
            "metadata": {}
        }, 
        {
            "execution_count": 4, 
            "cell_type": "code", 
            "metadata": {}, 
            "outputs": [], 
            "source": "SPSS_CDS_ENGINE_CREDENTIALS = {\n        \"username\": \"***\",\n        \"password\": \"***\",\n        \"url\": \"***\",\n    }"
        }, 
        {
            "execution_count": 13, 
            "cell_type": "code", 
            "metadata": {}, 
            "outputs": [], 
            "source": "# The code was removed by Watson Studio for sharing."
        }, 
        {
            "execution_count": 14, 
            "cell_type": "code", 
            "metadata": {}, 
            "outputs": [], 
            "source": "binding_uid = client.data_mart.bindings.add('My SPSS C&DS engine', SPSSMachineLearningInstance(SPSS_CDS_ENGINE_CREDENTIALS))"
        }, 
        {
            "execution_count": 45, 
            "cell_type": "code", 
            "metadata": {}, 
            "outputs": [], 
            "source": "bindings_details = client.data_mart.bindings.get_details()"
        }, 
        {
            "execution_count": 46, 
            "cell_type": "code", 
            "metadata": {}, 
            "outputs": [
                {
                    "output_type": "display_data", 
                    "data": {
                        "text/html": "<HTML>\n        <body>\n            <h3>Service bindings</h3>\n            <table style='border: 1px solid #dddddd; font-family: Courier'>\n                <th style='border: 1px solid #dddddd'>uid</th><th style='border: 1px solid #dddddd'>name</th><th style='border: 1px solid #dddddd'>service_type</th><th style='border: 1px solid #dddddd'>created</th>\n                <tr><td style='border: 1px solid #dddddd'>4d880684-e7d1-4d80-aea5-0aa222eb7a03</td><td style='border: 1px solid #dddddd'>My SPSS C&DS engine</td><td style='border: 1px solid #dddddd'>spss_collaboration_and_deployment_services</td><td style='border: 1px solid #dddddd'>2019-01-31T14:27:31.969Z</td></tr>\n            </table>\n        </body>\n        </HTML>", 
                        "text/plain": "<IPython.core.display.HTML object>"
                    }, 
                    "metadata": {}
                }
            ], 
            "source": "client.data_mart.bindings.list()"
        }, 
        {
            "source": "<a id=\"subsciption\"></a>\n## 3. Subscriptions", 
            "cell_type": "markdown", 
            "metadata": {}
        }, 
        {
            "source": "### 3.1 Add subscriptions", 
            "cell_type": "markdown", 
            "metadata": {}
        }, 
        {
            "source": "List available deployments.\n\n**Note:** Depending on number of assets it may take some time.", 
            "cell_type": "markdown", 
            "metadata": {}
        }, 
        {
            "execution_count": 47, 
            "cell_type": "code", 
            "metadata": {}, 
            "outputs": [
                {
                    "output_type": "display_data", 
                    "data": {
                        "text/html": "<HTML>\n        <body>\n            <h3>Available assets</h3>\n            <table style='border: 1px solid #dddddd; font-family: Courier'>\n                <th style='border: 1px solid #dddddd'>source_uid</th><th style='border: 1px solid #dddddd'>name</th><th style='border: 1px solid #dddddd'>created</th><th style='border: 1px solid #dddddd'>type</th><th style='border: 1px solid #dddddd'>frameworks</th><th style='border: 1px solid #dddddd'>binding_uid</th><th style='border: 1px solid #dddddd'>is_subscribed</th>\n                <tr><td style='border: 1px solid #dddddd'>091edbc5c4e74be500000167bc5c18e058bf</td><td style='border: 1px solid #dddddd'>credit_risk_lr</td><td style='border: 1px solid #dddddd'>0000-01-01T00:00:00.0Z</td><td style='border: 1px solid #dddddd'>model</td><td style='border: 1px solid #dddddd'></td><td style='border: 1px solid #dddddd'>4d880684-e7d1-4d80-aea5-0aa222eb7a03</td><td style='border: 1px solid #dddddd'>True</td></tr><tr><td style='border: 1px solid #dddddd'>091edbc5c4e74be5000001686a7c7110ac0e</td><td style='border: 1px solid #dddddd'>credit_risk_c50_default</td><td style='border: 1px solid #dddddd'>0000-01-01T00:00:00.0Z</td><td style='border: 1px solid #dddddd'>model</td><td style='border: 1px solid #dddddd'></td><td style='border: 1px solid #dddddd'>4d880684-e7d1-4d80-aea5-0aa222eb7a03</td><td style='border: 1px solid #dddddd'>False</td></tr><tr><td style='border: 1px solid #dddddd'>091edbc5c4e74be5000001686a7c7110a1b1</td><td style='border: 1px solid #dddddd'>ai_credit_risk_blogistic</td><td style='border: 1px solid #dddddd'>0000-01-01T00:00:00.0Z</td><td style='border: 1px solid #dddddd'>model</td><td style='border: 1px solid #dddddd'></td><td style='border: 1px solid #dddddd'>4d880684-e7d1-4d80-aea5-0aa222eb7a03</td><td style='border: 1px solid #dddddd'>False</td></tr><tr><td style='border: 1px solid #dddddd'>091edbc5c4e74be5000001686a7c7110ac36</td><td style='border: 1px solid #dddddd'>credit_risk_gle_default</td><td style='border: 1px solid #dddddd'>0000-01-01T00:00:00.0Z</td><td style='border: 1px solid #dddddd'>model</td><td style='border: 1px solid #dddddd'></td><td style='border: 1px solid #dddddd'>4d880684-e7d1-4d80-aea5-0aa222eb7a03</td><td style='border: 1px solid #dddddd'>False</td></tr><tr><td style='border: 1px solid #dddddd'>091edbc5c4e74be5000001686a7c7110ac97</td><td style='border: 1px solid #dddddd'>credit_risk_random_trees_default</td><td style='border: 1px solid #dddddd'>0000-01-01T00:00:00.0Z</td><td style='border: 1px solid #dddddd'>model</td><td style='border: 1px solid #dddddd'></td><td style='border: 1px solid #dddddd'>4d880684-e7d1-4d80-aea5-0aa222eb7a03</td><td style='border: 1px solid #dddddd'>False</td></tr><tr><td style='border: 1px solid #dddddd'>091edbc5418240f600000166f5190140d404</td><td style='border: 1px solid #dddddd'>Drug1n</td><td style='border: 1px solid #dddddd'>0000-01-01T00:00:00.0Z</td><td style='border: 1px solid #dddddd'>model</td><td style='border: 1px solid #dddddd'></td><td style='border: 1px solid #dddddd'>4d880684-e7d1-4d80-aea5-0aa222eb7a03</td><td style='border: 1px solid #dddddd'>False</td></tr><tr><td style='border: 1px solid #dddddd'>091edbc5c4e74be5000001686a7c7110ac66</td><td style='border: 1px solid #dddddd'>credit_risk_lsvm_default</td><td style='border: 1px solid #dddddd'>0000-01-01T00:00:00.0Z</td><td style='border: 1px solid #dddddd'>model</td><td style='border: 1px solid #dddddd'></td><td style='border: 1px solid #dddddd'>4d880684-e7d1-4d80-aea5-0aa222eb7a03</td><td style='border: 1px solid #dddddd'>False</td></tr><tr><td style='border: 1px solid #dddddd'>091edbc5c4e74be5000001686a7c7110990e</td><td style='border: 1px solid #dddddd'>ai_credit_risk_mlogistic</td><td style='border: 1px solid #dddddd'>0000-01-01T00:00:00.0Z</td><td style='border: 1px solid #dddddd'>model</td><td style='border: 1px solid #dddddd'></td><td style='border: 1px solid #dddddd'>4d880684-e7d1-4d80-aea5-0aa222eb7a03</td><td style='border: 1px solid #dddddd'>False</td></tr><tr><td style='border: 1px solid #dddddd'>091edbc5c4e74be5000001686a7c71109872</td><td style='border: 1px solid #dddddd'>ai_credit_risk_btree</td><td style='border: 1px solid #dddddd'>0000-01-01T00:00:00.0Z</td><td style='border: 1px solid #dddddd'>model</td><td style='border: 1px solid #dddddd'></td><td style='border: 1px solid #dddddd'>4d880684-e7d1-4d80-aea5-0aa222eb7a03</td><td style='border: 1px solid #dddddd'>False</td></tr><tr><td style='border: 1px solid #dddddd'>091edbc5c4e74be5000001686a7c7110ac2e</td><td style='border: 1px solid #dddddd'>credit_risk_crt_default</td><td style='border: 1px solid #dddddd'>0000-01-01T00:00:00.0Z</td><td style='border: 1px solid #dddddd'>model</td><td style='border: 1px solid #dddddd'></td><td style='border: 1px solid #dddddd'>4d880684-e7d1-4d80-aea5-0aa222eb7a03</td><td style='border: 1px solid #dddddd'>False</td></tr><tr><td style='border: 1px solid #dddddd'>091edbc5c4e74be5000001686a7c7110ac7e</td><td style='border: 1px solid #dddddd'>credit_risk_quest_all</td><td style='border: 1px solid #dddddd'>0000-01-01T00:00:00.0Z</td><td style='border: 1px solid #dddddd'>model</td><td style='border: 1px solid #dddddd'></td><td style='border: 1px solid #dddddd'>4d880684-e7d1-4d80-aea5-0aa222eb7a03</td><td style='border: 1px solid #dddddd'>False</td></tr><tr><td style='border: 1px solid #dddddd'>091edbc5c4e74be5000001686a7c7110acaf</td><td style='border: 1px solid #dddddd'>credit_risk_tree_as_defult</td><td style='border: 1px solid #dddddd'>0000-01-01T00:00:00.0Z</td><td style='border: 1px solid #dddddd'>model</td><td style='border: 1px solid #dddddd'></td><td style='border: 1px solid #dddddd'>4d880684-e7d1-4d80-aea5-0aa222eb7a03</td><td style='border: 1px solid #dddddd'>False</td></tr><tr><td style='border: 1px solid #dddddd'>091edbc5c4e74be5000001686a7c7110aca7</td><td style='border: 1px solid #dddddd'>credit_risk_svm_default</td><td style='border: 1px solid #dddddd'>0000-01-01T00:00:00.0Z</td><td style='border: 1px solid #dddddd'>model</td><td style='border: 1px solid #dddddd'></td><td style='border: 1px solid #dddddd'>4d880684-e7d1-4d80-aea5-0aa222eb7a03</td><td style='border: 1px solid #dddddd'>False</td></tr><tr><td style='border: 1px solid #dddddd'>091edbc5c4e74be5000001686a7c71109918</td><td style='border: 1px solid #dddddd'>ai_housing_model_crt</td><td style='border: 1px solid #dddddd'>0000-01-01T00:00:00.0Z</td><td style='border: 1px solid #dddddd'>model</td><td style='border: 1px solid #dddddd'></td><td style='border: 1px solid #dddddd'>4d880684-e7d1-4d80-aea5-0aa222eb7a03</td><td style='border: 1px solid #dddddd'>False</td></tr><tr><td style='border: 1px solid #dddddd'>091edbc5c4e74be5000001686a7c7110ac86</td><td style='border: 1px solid #dddddd'>credit_risk_quest_default</td><td style='border: 1px solid #dddddd'>0000-01-01T00:00:00.0Z</td><td style='border: 1px solid #dddddd'>model</td><td style='border: 1px solid #dddddd'></td><td style='border: 1px solid #dddddd'>4d880684-e7d1-4d80-aea5-0aa222eb7a03</td><td style='border: 1px solid #dddddd'>False</td></tr><tr><td style='border: 1px solid #dddddd'>091edbc5c4e74be5000001686a7c7110ac16</td><td style='border: 1px solid #dddddd'>credit_risk_chaid_all</td><td style='border: 1px solid #dddddd'>0000-01-01T00:00:00.0Z</td><td style='border: 1px solid #dddddd'>model</td><td style='border: 1px solid #dddddd'></td><td style='border: 1px solid #dddddd'>4d880684-e7d1-4d80-aea5-0aa222eb7a03</td><td style='border: 1px solid #dddddd'>False</td></tr><tr><td style='border: 1px solid #dddddd'>091edbc5c4e74be5000001686a7c7110ac56</td><td style='border: 1px solid #dddddd'>credit_risk_logistic_default</td><td style='border: 1px solid #dddddd'>0000-01-01T00:00:00.0Z</td><td style='border: 1px solid #dddddd'>model</td><td style='border: 1px solid #dddddd'></td><td style='border: 1px solid #dddddd'>4d880684-e7d1-4d80-aea5-0aa222eb7a03</td><td style='border: 1px solid #dddddd'>False</td></tr><tr><td style='border: 1px solid #dddddd'>091edbc5c4e74be5000001686a7c7110cafe</td><td style='border: 1px solid #dddddd'>german_credit_risk_tutorial</td><td style='border: 1px solid #dddddd'>0000-01-01T00:00:00.0Z</td><td style='border: 1px solid #dddddd'>model</td><td style='border: 1px solid #dddddd'></td><td style='border: 1px solid #dddddd'>4d880684-e7d1-4d80-aea5-0aa222eb7a03</td><td style='border: 1px solid #dddddd'>False</td></tr><tr><td style='border: 1px solid #dddddd'>091edbc5c4e74be5000001686a7c7110ac6e</td><td style='border: 1px solid #dddddd'>credit_risk_mlp_all</td><td style='border: 1px solid #dddddd'>0000-01-01T00:00:00.0Z</td><td style='border: 1px solid #dddddd'>model</td><td style='border: 1px solid #dddddd'></td><td style='border: 1px solid #dddddd'>4d880684-e7d1-4d80-aea5-0aa222eb7a03</td><td style='border: 1px solid #dddddd'>False</td></tr><tr><td style='border: 1px solid #dddddd'>091edbc5c4e74be5000001686a7c7110ac46</td><td style='border: 1px solid #dddddd'>credit_risk_knn_default</td><td style='border: 1px solid #dddddd'>0000-01-01T00:00:00.0Z</td><td style='border: 1px solid #dddddd'>model</td><td style='border: 1px solid #dddddd'></td><td style='border: 1px solid #dddddd'>4d880684-e7d1-4d80-aea5-0aa222eb7a03</td><td style='border: 1px solid #dddddd'>False</td></tr><tr><td style='border: 1px solid #dddddd'>091edbc5c4e74be5000001686a7c7110992c</td><td style='border: 1px solid #dddddd'>ai_drug_mlp</td><td style='border: 1px solid #dddddd'>0000-01-01T00:00:00.0Z</td><td style='border: 1px solid #dddddd'>model</td><td style='border: 1px solid #dddddd'></td><td style='border: 1px solid #dddddd'>4d880684-e7d1-4d80-aea5-0aa222eb7a03</td><td style='border: 1px solid #dddddd'>False</td></tr><tr><td style='border: 1px solid #dddddd'>091edbc5c4e74be5000001686a7c7110ac3e</td><td style='border: 1px solid #dddddd'>credit_risk_knn_all</td><td style='border: 1px solid #dddddd'>0000-01-01T00:00:00.0Z</td><td style='border: 1px solid #dddddd'>model</td><td style='border: 1px solid #dddddd'></td><td style='border: 1px solid #dddddd'>4d880684-e7d1-4d80-aea5-0aa222eb7a03</td><td style='border: 1px solid #dddddd'>False</td></tr><tr><td style='border: 1px solid #dddddd'>091edbc5c4e74be5000001686a7c7110ac5e</td><td style='border: 1px solid #dddddd'>credit_risk_lsvm_all</td><td style='border: 1px solid #dddddd'>0000-01-01T00:00:00.0Z</td><td style='border: 1px solid #dddddd'>model</td><td style='border: 1px solid #dddddd'></td><td style='border: 1px solid #dddddd'>4d880684-e7d1-4d80-aea5-0aa222eb7a03</td><td style='border: 1px solid #dddddd'>False</td></tr><tr><td style='border: 1px solid #dddddd'>091edbc5c4e74be500000167bc5c18e0595e</td><td style='border: 1px solid #dddddd'>house_prices</td><td style='border: 1px solid #dddddd'>0000-01-01T00:00:00.0Z</td><td style='border: 1px solid #dddddd'>model</td><td style='border: 1px solid #dddddd'></td><td style='border: 1px solid #dddddd'>4d880684-e7d1-4d80-aea5-0aa222eb7a03</td><td style='border: 1px solid #dddddd'>False</td></tr><tr><td style='border: 1px solid #dddddd'>091edbc5c4e74be5000001686a7c7110ac9f</td><td style='border: 1px solid #dddddd'>credit_risk_svm_all</td><td style='border: 1px solid #dddddd'>0000-01-01T00:00:00.0Z</td><td style='border: 1px solid #dddddd'>model</td><td style='border: 1px solid #dddddd'></td><td style='border: 1px solid #dddddd'>4d880684-e7d1-4d80-aea5-0aa222eb7a03</td><td style='border: 1px solid #dddddd'>False</td></tr><tr><td style='border: 1px solid #dddddd'>091edbc5c4e74be5000001686a7c7110ac76</td><td style='border: 1px solid #dddddd'>credit_risk_mlp_default</td><td style='border: 1px solid #dddddd'>0000-01-01T00:00:00.0Z</td><td style='border: 1px solid #dddddd'>model</td><td style='border: 1px solid #dddddd'></td><td style='border: 1px solid #dddddd'>4d880684-e7d1-4d80-aea5-0aa222eb7a03</td><td style='border: 1px solid #dddddd'>False</td></tr><tr><td style='border: 1px solid #dddddd'>091edbc5c4e74be5000001686a7c7110ac06</td><td style='border: 1px solid #dddddd'>credit_risk_c50_all</td><td style='border: 1px solid #dddddd'>0000-01-01T00:00:00.0Z</td><td style='border: 1px solid #dddddd'>model</td><td style='border: 1px solid #dddddd'></td><td style='border: 1px solid #dddddd'>4d880684-e7d1-4d80-aea5-0aa222eb7a03</td><td style='border: 1px solid #dddddd'>False</td></tr><tr><td style='border: 1px solid #dddddd'>091edbc5c4e74be5000001686a7c7110cb48</td><td style='border: 1px solid #dddddd'>boston_house_prices</td><td style='border: 1px solid #dddddd'>0000-01-01T00:00:00.0Z</td><td style='border: 1px solid #dddddd'>model</td><td style='border: 1px solid #dddddd'></td><td style='border: 1px solid #dddddd'>4d880684-e7d1-4d80-aea5-0aa222eb7a03</td><td style='border: 1px solid #dddddd'>False</td></tr><tr><td style='border: 1px solid #dddddd'>091edbc5c4e74be5000001686a7c7110a1f3</td><td style='border: 1px solid #dddddd'>ai_drug_svm</td><td style='border: 1px solid #dddddd'>0000-01-01T00:00:00.0Z</td><td style='border: 1px solid #dddddd'>model</td><td style='border: 1px solid #dddddd'></td><td style='border: 1px solid #dddddd'>4d880684-e7d1-4d80-aea5-0aa222eb7a03</td><td style='border: 1px solid #dddddd'>False</td></tr><tr><td style='border: 1px solid #dddddd'>091edbc5c4e74be5000001686a7c7110ac1e</td><td style='border: 1px solid #dddddd'>credit_risk_chaid_default</td><td style='border: 1px solid #dddddd'>0000-01-01T00:00:00.0Z</td><td style='border: 1px solid #dddddd'>model</td><td style='border: 1px solid #dddddd'></td><td style='border: 1px solid #dddddd'>4d880684-e7d1-4d80-aea5-0aa222eb7a03</td><td style='border: 1px solid #dddddd'>False</td></tr><tr><td style='border: 1px solid #dddddd'>091edbc5c4e74be5000001686a7c7110a105</td><td style='border: 1px solid #dddddd'>ai_drug_mlp_proba</td><td style='border: 1px solid #dddddd'>0000-01-01T00:00:00.0Z</td><td style='border: 1px solid #dddddd'>model</td><td style='border: 1px solid #dddddd'></td><td style='border: 1px solid #dddddd'>4d880684-e7d1-4d80-aea5-0aa222eb7a03</td><td style='border: 1px solid #dddddd'>False</td></tr><tr><td style='border: 1px solid #dddddd'>091edbc5c4e74be5000001686a7c7110abfb</td><td style='border: 1px solid #dddddd'>credit_risk_bayes_net_default</td><td style='border: 1px solid #dddddd'>0000-01-01T00:00:00.0Z</td><td style='border: 1px solid #dddddd'>model</td><td style='border: 1px solid #dddddd'></td><td style='border: 1px solid #dddddd'>4d880684-e7d1-4d80-aea5-0aa222eb7a03</td><td style='border: 1px solid #dddddd'>False</td></tr><tr><td style='border: 1px solid #dddddd'>091edbc5c4e74be500000167bc5c18e0703a</td><td style='border: 1px solid #dddddd'>credit_risk_btree</td><td style='border: 1px solid #dddddd'>0000-01-01T00:00:00.0Z</td><td style='border: 1px solid #dddddd'>model</td><td style='border: 1px solid #dddddd'></td><td style='border: 1px solid #dddddd'>4d880684-e7d1-4d80-aea5-0aa222eb7a03</td><td style='border: 1px solid #dddddd'>False</td></tr>\n            </table>\n        </body>\n        </HTML>", 
                        "text/plain": "<IPython.core.display.HTML object>"
                    }, 
                    "metadata": {}
                }
            ], 
            "source": "client.data_mart.bindings.list_assets()"
        }, 
        {
            "source": "**Action:** Assign your credit risk model source_uid to `source_uid` variable below.", 
            "cell_type": "markdown", 
            "metadata": {}
        }, 
        {
            "execution_count": 18, 
            "cell_type": "code", 
            "metadata": {}, 
            "outputs": [], 
            "source": "source_uid = '091edbc5c4e74be500000167bc5c18e058bf'"
        }, 
        {
            "execution_count": 19, 
            "cell_type": "code", 
            "metadata": {}, 
            "outputs": [], 
            "source": "subscription = client.data_mart.subscriptions.add(\n    SPSSMachineLearningAsset(source_uid=source_uid,\n                             binding_uid=binding_uid,\n                             input_data_type=InputDataType.STRUCTURED,\n                             problem_type=ProblemType.BINARY_CLASSIFICATION,\n                             label_column=\"Risk\",\n                             prediction_column=\"$L-Risk\",\n                             class_probability_columns=[\"$LP-Risk\", \"$LRP-Risk\"]))"
        }, 
        {
            "source": "#### Get subscriptions list", 
            "cell_type": "markdown", 
            "metadata": {}
        }, 
        {
            "execution_count": 48, 
            "cell_type": "code", 
            "metadata": {}, 
            "outputs": [], 
            "source": "subscriptions = client.data_mart.subscriptions.get_details()"
        }, 
        {
            "execution_count": 49, 
            "cell_type": "code", 
            "metadata": {}, 
            "outputs": [
                {
                    "output_type": "stream", 
                    "name": "stdout", 
                    "text": "['091edbc5c4e74be500000167bc5c18e058bf']\n"
                }
            ], 
            "source": "subscriptions_uids = client.data_mart.subscriptions.get_uids()\nprint(subscriptions_uids)"
        }, 
        {
            "source": "#### List subscriptions", 
            "cell_type": "markdown", 
            "metadata": {}
        }, 
        {
            "execution_count": 50, 
            "cell_type": "code", 
            "metadata": {}, 
            "outputs": [
                {
                    "output_type": "display_data", 
                    "data": {
                        "text/html": "<HTML>\n        <body>\n            <h3>Subscriptions</h3>\n            <table style='border: 1px solid #dddddd; font-family: Courier'>\n                <th style='border: 1px solid #dddddd'>uid</th><th style='border: 1px solid #dddddd'>name</th><th style='border: 1px solid #dddddd'>type</th><th style='border: 1px solid #dddddd'>binding_uid</th><th style='border: 1px solid #dddddd'>created</th>\n                <tr><td style='border: 1px solid #dddddd'>091edbc5c4e74be500000167bc5c18e058bf</td><td style='border: 1px solid #dddddd'>credit_risk_lr</td><td style='border: 1px solid #dddddd'>model</td><td style='border: 1px solid #dddddd'>4d880684-e7d1-4d80-aea5-0aa222eb7a03</td><td style='border: 1px solid #dddddd'>2019-01-31T14:27:49.861Z</td></tr>\n            </table>\n        </body>\n        </HTML>", 
                        "text/plain": "<IPython.core.display.HTML object>"
                    }, 
                    "metadata": {}
                }
            ], 
            "source": "client.data_mart.subscriptions.list()"
        }, 
        {
            "source": "<a id=\"scoring\"></a>\n## 4. Scoring and payload logging", 
            "cell_type": "markdown", 
            "metadata": {}
        }, 
        {
            "source": "### 4.1 Score the credit risk model and measure response time", 
            "cell_type": "markdown", 
            "metadata": {}
        }, 
        {
            "execution_count": 51, 
            "cell_type": "code", 
            "metadata": {}, 
            "outputs": [
                {
                    "output_type": "stream", 
                    "name": "stdout", 
                    "text": "{\"providedBy\":\"credit_risk_lr\",\"id\":\"763bef38-2ed2-4fb1-8d90-b0da6f0f4d4d\",\"columnNames\":{\"name\":[\"CheckingStatus\",\"LoanDuration\",\"CreditHistory\",\"LoanPurpose\",\"LoanAmount\",\"ExistingSavings\",\"EmploymentDuration\",\"InstallmentPercent\",\"Sex\",\"OthersOnLoan\",\"CurrentResidenceDuration\",\"OwnsProperty\",\"Age\",\"InstallmentPlans\",\"Housing\",\"ExistingCreditsCount\",\"Job\",\"Dependents\",\"Telephone\",\"ForeignWorker\",\"Risk\",\"$L-Risk\",\"$LP-Risk\",\"$LRP-Risk\"]},\"rowValues\":[{\"value\":[{\"value\":\"0_to_200\"},{\"value\":\"31\"},{\"value\":\"credits_paid_to_date\"},{\"value\":\"other\"},{\"value\":\"1889\"},{\"value\":\"100_to_500\"},{\"value\":\"less_1\"},{\"value\":\"3\"},{\"value\":\"female\"},{\"value\":\"none\"},{\"value\":\"3\"},{\"value\":\"savings_insurance\"},{\"value\":\"32\"},{\"value\":\"none\"},{\"value\":\"own\"},{\"value\":\"1\"},{\"value\":\"skilled\"},{\"value\":\"1\"},{\"value\":\"none\"},{\"value\":\"yes\"},{\"value\":\"\"},{\"value\":\"No Risk\"},{\"value\":\"0.9042000385999679\"},{\"value\":\"0.09579996140003211\"}]}],\"returnedRequestInputTable\":[{\"id\":\"id17STY5BAZ1Y\",\"name\":\"credit_risk_training.csv\",\"returnedRequestInputRow\":[{\"returnedRequestInputValue\":[{\"name\":\"CheckingStatus\",\"type\":\"string\",\"value\":\"0_to_200\"},{\"name\":\"LoanDuration\",\"type\":\"long\",\"value\":\"31\"},{\"name\":\"CreditHistory\",\"type\":\"string\",\"value\":\"credits_paid_to_date\"},{\"name\":\"LoanPurpose\",\"type\":\"string\",\"value\":\"other\"},{\"name\":\"LoanAmount\",\"type\":\"long\",\"value\":\"1889\"},{\"name\":\"ExistingSavings\",\"type\":\"string\",\"value\":\"100_to_500\"},{\"name\":\"EmploymentDuration\",\"type\":\"string\",\"value\":\"less_1\"},{\"name\":\"InstallmentPercent\",\"type\":\"long\",\"value\":\"3\"},{\"name\":\"Sex\",\"type\":\"string\",\"value\":\"female\"},{\"name\":\"OthersOnLoan\",\"type\":\"string\",\"value\":\"none\"},{\"name\":\"CurrentResidenceDuration\",\"type\":\"long\",\"value\":\"3\"},{\"name\":\"OwnsProperty\",\"type\":\"string\",\"value\":\"savings_insurance\"},{\"name\":\"Age\",\"type\":\"long\",\"value\":\"32\"},{\"name\":\"InstallmentPlans\",\"type\":\"string\",\"value\":\"none\"},{\"name\":\"Housing\",\"type\":\"string\",\"value\":\"own\"},{\"name\":\"ExistingCreditsCount\",\"type\":\"long\",\"value\":\"1\"},{\"name\":\"Job\",\"type\":\"string\",\"value\":\"skilled\"},{\"name\":\"Dependents\",\"type\":\"long\",\"value\":\"1\"},{\"name\":\"Telephone\",\"type\":\"string\",\"value\":\"none\"},{\"name\":\"ForeignWorker\",\"type\":\"string\",\"value\":\"yes\"},{\"name\":\"Risk\",\"type\":\"string\",\"value\":\"\"}]}]}]}\n{'id': '763bef38-2ed2-4fb1-8d90-b0da6f0f4d4d', 'returnedRequestInputTable': [{'id': 'id17STY5BAZ1Y', 'returnedRequestInputRow': [{'returnedRequestInputValue': [{'type': 'string', 'value': '0_to_200', 'name': 'CheckingStatus'}, {'type': 'long', 'value': '31', 'name': 'LoanDuration'}, {'type': 'string', 'value': 'credits_paid_to_date', 'name': 'CreditHistory'}, {'type': 'string', 'value': 'other', 'name': 'LoanPurpose'}, {'type': 'long', 'value': '1889', 'name': 'LoanAmount'}, {'type': 'string', 'value': '100_to_500', 'name': 'ExistingSavings'}, {'type': 'string', 'value': 'less_1', 'name': 'EmploymentDuration'}, {'type': 'long', 'value': '3', 'name': 'InstallmentPercent'}, {'type': 'string', 'value': 'female', 'name': 'Sex'}, {'type': 'string', 'value': 'none', 'name': 'OthersOnLoan'}, {'type': 'long', 'value': '3', 'name': 'CurrentResidenceDuration'}, {'type': 'string', 'value': 'savings_insurance', 'name': 'OwnsProperty'}, {'type': 'long', 'value': '32', 'name': 'Age'}, {'type': 'string', 'value': 'none', 'name': 'InstallmentPlans'}, {'type': 'string', 'value': 'own', 'name': 'Housing'}, {'type': 'long', 'value': '1', 'name': 'ExistingCreditsCount'}, {'type': 'string', 'value': 'skilled', 'name': 'Job'}, {'type': 'long', 'value': '1', 'name': 'Dependents'}, {'type': 'string', 'value': 'none', 'name': 'Telephone'}, {'type': 'string', 'value': 'yes', 'name': 'ForeignWorker'}, {'type': 'string', 'value': '', 'name': 'Risk'}]}], 'name': 'credit_risk_training.csv'}], 'rowValues': [{'value': [{'value': '0_to_200'}, {'value': '31'}, {'value': 'credits_paid_to_date'}, {'value': 'other'}, {'value': '1889'}, {'value': '100_to_500'}, {'value': 'less_1'}, {'value': '3'}, {'value': 'female'}, {'value': 'none'}, {'value': '3'}, {'value': 'savings_insurance'}, {'value': '32'}, {'value': 'none'}, {'value': 'own'}, {'value': '1'}, {'value': 'skilled'}, {'value': '1'}, {'value': 'none'}, {'value': 'yes'}, {'value': ''}, {'value': 'No Risk'}, {'value': '0.9042000385999679'}, {'value': '0.09579996140003211'}]}], 'providedBy': 'credit_risk_lr', 'columnNames': {'name': ['CheckingStatus', 'LoanDuration', 'CreditHistory', 'LoanPurpose', 'LoanAmount', 'ExistingSavings', 'EmploymentDuration', 'InstallmentPercent', 'Sex', 'OthersOnLoan', 'CurrentResidenceDuration', 'OwnsProperty', 'Age', 'InstallmentPlans', 'Housing', 'ExistingCreditsCount', 'Job', 'Dependents', 'Telephone', 'ForeignWorker', 'Risk', '$L-Risk', '$LP-Risk', '$LRP-Risk']}}\n"
                }
            ], 
            "source": "import requests\nfrom requests.auth import HTTPBasicAuth\nimport time\nimport json\n\nsubscription_details = subscription.get_details()\nscoring_endpoint = subscription_details['entity']['deployments'][0]['scoring_endpoint']['url']\ninput_table_id = subscription_details['entity']['asset_properties']['input_data_schema']['id']\nid = subscription_details['entity']['asset']['name']\n\nscoring_payload = {'requestInputTable': [{'name': 'credit_risk_training.csv', 'requestInputRow': [{'input': [\n            {'name': 'CheckingStatus', 'value': '0_to_200'}, {'name': 'LoanDuration', 'value': '31'},\n            {'name': 'CreditHistory', 'value': 'credits_paid_to_date'}, {'name': 'LoanPurpose', 'value': 'other'},\n            {'name': 'LoanAmount', 'value': '1889'}, {'name': 'ExistingSavings', 'value': '100_to_500'},\n            {'name': 'EmploymentDuration', 'value': 'less_1'}, {'name': 'InstallmentPercent', 'value': '3'},\n            {'name': 'Sex', 'value': 'female'}, {'name': 'OthersOnLoan', 'value': 'none'},\n            {'name': 'CurrentResidenceDuration', 'value': '3'}, {'name': 'OwnsProperty', 'value': 'savings_insurance'},\n            {'name': 'Age', 'value': '32'}, {'name': 'InstallmentPlans', 'value': 'none'},\n            {'name': 'Housing', 'value': 'own'}, {'name': 'ExistingCreditsCount', 'value': '1'},\n            {'name': 'Job', 'value': 'skilled'}, {'name': 'Dependents', 'value': '1'},\n            {'name': 'Telephone', 'value': 'none'}, {'name': 'ForeignWorker', 'value': 'yes'},\n            {'name': 'Risk', 'value': ''}]}]}], 'id': id}\n\nstart_time = time.time()\nresp_score = requests.post(url=scoring_endpoint, json=scoring_payload, auth=HTTPBasicAuth(username=SPSS_CDS_ENGINE_CREDENTIALS['username'], password=SPSS_CDS_ENGINE_CREDENTIALS['password']))\n\nprint(resp_score.text)\nresponse_time = int((time.time() - start_time)*1000)\nresult = resp_score.json()\n\nprint(str(result))"
        }, 
        {
            "source": "### 4.2 Store the request and response in payload logging table", 
            "cell_type": "markdown", 
            "metadata": {}
        }, 
        {
            "source": "#### Store the payload using Python SDK", 
            "cell_type": "markdown", 
            "metadata": {}
        }, 
        {
            "source": "**Hint:** You can embed payload logging code into your application so it is logged automatically each time you score the model.", 
            "cell_type": "markdown", 
            "metadata": {}
        }, 
        {
            "execution_count": 52, 
            "cell_type": "code", 
            "metadata": {}, 
            "outputs": [
                {
                    "output_type": "stream", 
                    "name": "stdout", 
                    "text": "Waiting 10 seconds for propagation...\n"
                }
            ], 
            "source": "records_list = [PayloadRecord(request=scoring_payload, response=result, response_time=response_time), \n                PayloadRecord(request=scoring_payload, response=result, response_time=response_time)]\n\nfor i in range(1, 10):\n    records_list.append(PayloadRecord(request=scoring_payload, response=result, response_time=response_time))\n\nsubscription.payload_logging.store(records=records_list)\n\nprint(\"Waiting 10 seconds for propagation...\")\ntime.sleep(10)"
        }, 
        {
            "source": "<a id=\"feedback\"></a>\n## 5. Feedback logging & quality (accuracy) monitoring", 
            "cell_type": "markdown", 
            "metadata": {}
        }, 
        {
            "source": "### Enable quality monitoring", 
            "cell_type": "markdown", 
            "metadata": {}
        }, 
        {
            "source": "You need to provide the monitoring `threshold` and `min_records` (minimal number of feedback records).", 
            "cell_type": "markdown", 
            "metadata": {}
        }, 
        {
            "execution_count": 25, 
            "cell_type": "code", 
            "metadata": {}, 
            "outputs": [], 
            "source": "subscription.quality_monitoring.enable(threshold=0.7, min_records=10)"
        }, 
        {
            "source": "### Feedback records logging", 
            "cell_type": "markdown", 
            "metadata": {}
        }, 
        {
            "source": "Feedback records are used to evaluate your model. The predicted values are compared to real values (feedback records).", 
            "cell_type": "markdown", 
            "metadata": {}
        }, 
        {
            "source": "You can check the schema of feedback table using below method.", 
            "cell_type": "markdown", 
            "metadata": {}
        }, 
        {
            "execution_count": 53, 
            "cell_type": "code", 
            "metadata": {}, 
            "outputs": [
                {
                    "output_type": "display_data", 
                    "data": {
                        "text/html": "<HTML>\n        <body>\n            <h3>Schema of Feedback_091edbc5c4e74be500000167bc5c18e058bf</h3>\n            <table style='border: 1px solid #dddddd; font-family: Courier'>\n                <th style='border: 1px solid #dddddd'>name</th><th style='border: 1px solid #dddddd'>type</th><th style='border: 1px solid #dddddd'>nullable</th>\n                <tr><td style='border: 1px solid #dddddd'>CheckingStatus</td><td style='border: 1px solid #dddddd'>string</td><td style='border: 1px solid #dddddd'>True</td></tr><tr><td style='border: 1px solid #dddddd'>LoanDuration</td><td style='border: 1px solid #dddddd'>string</td><td style='border: 1px solid #dddddd'>True</td></tr><tr><td style='border: 1px solid #dddddd'>CreditHistory</td><td style='border: 1px solid #dddddd'>string</td><td style='border: 1px solid #dddddd'>True</td></tr><tr><td style='border: 1px solid #dddddd'>LoanPurpose</td><td style='border: 1px solid #dddddd'>string</td><td style='border: 1px solid #dddddd'>True</td></tr><tr><td style='border: 1px solid #dddddd'>LoanAmount</td><td style='border: 1px solid #dddddd'>string</td><td style='border: 1px solid #dddddd'>True</td></tr><tr><td style='border: 1px solid #dddddd'>ExistingSavings</td><td style='border: 1px solid #dddddd'>string</td><td style='border: 1px solid #dddddd'>True</td></tr><tr><td style='border: 1px solid #dddddd'>EmploymentDuration</td><td style='border: 1px solid #dddddd'>string</td><td style='border: 1px solid #dddddd'>True</td></tr><tr><td style='border: 1px solid #dddddd'>InstallmentPercent</td><td style='border: 1px solid #dddddd'>string</td><td style='border: 1px solid #dddddd'>True</td></tr><tr><td style='border: 1px solid #dddddd'>Sex</td><td style='border: 1px solid #dddddd'>string</td><td style='border: 1px solid #dddddd'>True</td></tr><tr><td style='border: 1px solid #dddddd'>OthersOnLoan</td><td style='border: 1px solid #dddddd'>string</td><td style='border: 1px solid #dddddd'>True</td></tr><tr><td style='border: 1px solid #dddddd'>CurrentResidenceDuration</td><td style='border: 1px solid #dddddd'>string</td><td style='border: 1px solid #dddddd'>True</td></tr><tr><td style='border: 1px solid #dddddd'>OwnsProperty</td><td style='border: 1px solid #dddddd'>string</td><td style='border: 1px solid #dddddd'>True</td></tr><tr><td style='border: 1px solid #dddddd'>Age</td><td style='border: 1px solid #dddddd'>string</td><td style='border: 1px solid #dddddd'>True</td></tr><tr><td style='border: 1px solid #dddddd'>InstallmentPlans</td><td style='border: 1px solid #dddddd'>string</td><td style='border: 1px solid #dddddd'>True</td></tr><tr><td style='border: 1px solid #dddddd'>Housing</td><td style='border: 1px solid #dddddd'>string</td><td style='border: 1px solid #dddddd'>True</td></tr><tr><td style='border: 1px solid #dddddd'>ExistingCreditsCount</td><td style='border: 1px solid #dddddd'>string</td><td style='border: 1px solid #dddddd'>True</td></tr><tr><td style='border: 1px solid #dddddd'>Job</td><td style='border: 1px solid #dddddd'>string</td><td style='border: 1px solid #dddddd'>True</td></tr><tr><td style='border: 1px solid #dddddd'>Dependents</td><td style='border: 1px solid #dddddd'>string</td><td style='border: 1px solid #dddddd'>True</td></tr><tr><td style='border: 1px solid #dddddd'>Telephone</td><td style='border: 1px solid #dddddd'>string</td><td style='border: 1px solid #dddddd'>True</td></tr><tr><td style='border: 1px solid #dddddd'>ForeignWorker</td><td style='border: 1px solid #dddddd'>string</td><td style='border: 1px solid #dddddd'>True</td></tr><tr><td style='border: 1px solid #dddddd'>Risk</td><td style='border: 1px solid #dddddd'>string</td><td style='border: 1px solid #dddddd'>True</td></tr><tr><td style='border: 1px solid #dddddd'>_training</td><td style='border: 1px solid #dddddd'>timestamp</td><td style='border: 1px solid #dddddd'>False</td></tr>\n            </table>\n        </body>\n        </HTML>", 
                        "text/plain": "<IPython.core.display.HTML object>"
                    }, 
                    "metadata": {}
                }
            ], 
            "source": "subscription.feedback_logging.print_table_schema()"
        }, 
        {
            "source": "The feedback records can be send to feedback table using below code.", 
            "cell_type": "markdown", 
            "metadata": {}
        }, 
        {
            "source": "#### Store feedback using CSV format from string", 
            "cell_type": "markdown", 
            "metadata": {}
        }, 
        {
            "execution_count": 54, 
            "cell_type": "code", 
            "metadata": {}, 
            "outputs": [], 
            "source": "from ibm_ai_openscale.supporting_classes.enums import FeedbackFormat\n\nfeedback_records = \"0_to_200,31,credits_paid_to_date,other,1889,100_to_500,less_1,3,female,none,3,savings_insurance,32,none,own,1,skilled,1,none,yes,Risk\"\n\nfor i in range(0, 10):\n    feedback_records = feedback_records + '\\n' + feedback_records\n\nsubscription.feedback_logging.store(feedback_data=feedback_records, feedback_format=FeedbackFormat.CSV)"
        }, 
        {
            "source": "#### Store feedback using CSV format from file", 
            "cell_type": "markdown", 
            "metadata": {}
        }, 
        {
            "execution_count": 5, 
            "cell_type": "code", 
            "metadata": {}, 
            "outputs": [
                {
                    "output_type": "stream", 
                    "name": "stdout", 
                    "text": "--2019-02-01 10:18:28--  https://raw.githubusercontent.com/pmservice/wml-sample-models/master/spss/credit-risk/data/credit_risk_feedback.csv\nResolving raw.githubusercontent.com (raw.githubusercontent.com)... 151.101.48.133\nConnecting to raw.githubusercontent.com (raw.githubusercontent.com)|151.101.48.133|:443... connected.\nHTTP request sent, awaiting response... 200 OK\nLength: 40768 (40K) [text/plain]\nSaving to: \u2018credit_risk_feedback.csv\u2019\n\n100%[======================================>] 40,768      --.-K/s   in 0.002s  \n\n2019-02-01 10:18:28 (20.4 MB/s) - \u2018credit_risk_feedback.csv\u2019 saved [40768/40768]\n\n"
                }
            ], 
            "source": "!wget https://raw.githubusercontent.com/pmservice/wml-sample-models/master/spss/credit-risk/data/credit_risk_feedback.csv"
        }, 
        {
            "execution_count": 55, 
            "cell_type": "code", 
            "metadata": {}, 
            "outputs": [], 
            "source": "with open('credit_risk_feedback.csv', 'rb') as csvFile:\n    subscription.feedback_logging.store(feedback_data=csvFile, feedback_format=FeedbackFormat.CSV, data_header=True, data_delimiter=',')"
        }, 
        {
            "execution_count": 56, 
            "cell_type": "code", 
            "metadata": {}, 
            "outputs": [
                {
                    "output_type": "stream", 
                    "name": "stdout", 
                    "text": "       LoanDuration    LoanAmount  InstallmentPercent  \\\ncount  13072.000000  13072.000000        13072.000000   \nmean      23.650704   3106.216187            2.986536   \nstd       10.578620   2278.356968            0.985769   \nmin        4.000000    250.000000            1.000000   \n25%       15.000000   1889.000000            2.000000   \n50%       26.000000   2073.000000            3.000000   \n75%       31.000000   4701.250000            4.000000   \nmax       64.000000  11676.000000            6.000000   \n\n       CurrentResidenceDuration           Age  ExistingCreditsCount  \\\ncount              13072.000000  13072.000000          13072.000000   \nmean                   2.888464     35.008262              1.356334   \nstd                    0.977733      9.461142              0.532488   \nmin                    1.000000     19.000000              1.000000   \n25%                    2.000000     30.000000              1.000000   \n50%                    3.000000     32.000000              1.000000   \n75%                    3.000000     41.000000              2.000000   \nmax                    6.000000     74.000000              4.000000   \n\n         Dependents  \ncount  13072.000000  \nmean       1.125918  \nstd        0.331770  \nmin        1.000000  \n25%        1.000000  \n50%        1.000000  \n75%        1.000000  \nmax        2.000000  \n"
                }
            ], 
            "source": "subscription.feedback_logging.describe_table()"
        }, 
        {
            "source": "### Run quality monitoring on demand", 
            "cell_type": "markdown", 
            "metadata": {}
        }, 
        {
            "source": "By default, quality monitoring is run on hourly schedule. You can also trigger it on demand using below code.", 
            "cell_type": "markdown", 
            "metadata": {}
        }, 
        {
            "execution_count": 57, 
            "cell_type": "code", 
            "metadata": {}, 
            "outputs": [
                {
                    "output_type": "stream", 
                    "name": "stdout", 
                    "text": "\n\n================================================================================\n\n Waiting for end of quality monitoring run 0d1611f3-3853-4b18-ab19-408fc6facf5c \n\n================================================================================\n\n\n\ninitializing.\nrunning\ncompleted\n\n---------------------------\n Successfully finished run \n---------------------------\n\n\n"
                }
            ], 
            "source": "run_details = subscription.quality_monitoring.run(background_mode=False)"
        }, 
        {
            "source": "### Show the quality metrics", 
            "cell_type": "markdown", 
            "metadata": {}
        }, 
        {
            "execution_count": 58, 
            "cell_type": "code", 
            "metadata": {}, 
            "outputs": [
                {
                    "output_type": "display_data", 
                    "data": {
                        "text/html": "<HTML>\n        <body>\n            <h3>QualityMetrics (binding_id=4d880684-e7d1-4d80-aea5-0aa222eb7a03, subscription_id=091edbc5c4e74be500000167bc5c18e058bf)</h3>\n            <table style='border: 1px solid #dddddd; font-family: Courier'>\n                <th style='border: 1px solid #dddddd'>ts</th><th style='border: 1px solid #dddddd'>quality</th><th style='border: 1px solid #dddddd'>quality_threshold</th><th style='border: 1px solid #dddddd'>binding_id</th><th style='border: 1px solid #dddddd'>subscription_id</th><th style='border: 1px solid #dddddd'>deployment_id</th><th style='border: 1px solid #dddddd'>process</th><th style='border: 1px solid #dddddd'>asset_revision</th>\n                <tr><td style='border: 1px solid #dddddd'>2019-01-31 14:29:00.336000+00:00</td><td style='border: 1px solid #dddddd'>0.6820698807446189</td><td style='border: 1px solid #dddddd'>0.7</td><td style='border: 1px solid #dddddd'>4d880684-e7d1-4d80-aea5-0aa222eb7a03</td><td style='border: 1px solid #dddddd'>091edbc5c4e74be500000167bc5c18e058bf</td><td style='border: 1px solid #dddddd'>credit_risk_lr</td><td style='border: 1px solid #dddddd'>Accuracy_evaluation_3c7dd95d-75a5-4fce-808a-d078a41ef460</td><td style='border: 1px solid #dddddd'></td></tr><tr><td style='border: 1px solid #dddddd'>2019-01-31 15:28:26.733000+00:00</td><td style='border: 1px solid #dddddd'>0.6820698807446189</td><td style='border: 1px solid #dddddd'>0.7</td><td style='border: 1px solid #dddddd'>4d880684-e7d1-4d80-aea5-0aa222eb7a03</td><td style='border: 1px solid #dddddd'>091edbc5c4e74be500000167bc5c18e058bf</td><td style='border: 1px solid #dddddd'>credit_risk_lr</td><td style='border: 1px solid #dddddd'>Accuracy_evaluation_873bd20f-459a-4538-b35a-87bcef9e4082</td><td style='border: 1px solid #dddddd'></td></tr><tr><td style='border: 1px solid #dddddd'>2019-01-31 15:46:16.213000+00:00</td><td style='border: 1px solid #dddddd'>0.6660663007833076</td><td style='border: 1px solid #dddddd'>0.7</td><td style='border: 1px solid #dddddd'>4d880684-e7d1-4d80-aea5-0aa222eb7a03</td><td style='border: 1px solid #dddddd'>091edbc5c4e74be500000167bc5c18e058bf</td><td style='border: 1px solid #dddddd'>credit_risk_lr</td><td style='border: 1px solid #dddddd'>Accuracy_evaluation_0d1611f3-3853-4b18-ab19-408fc6facf5c</td><td style='border: 1px solid #dddddd'></td></tr>\n            </table>\n        </body>\n        </HTML>", 
                        "text/plain": "<IPython.core.display.HTML object>"
                    }, 
                    "metadata": {}
                }
            ], 
            "source": "subscription.quality_monitoring.show_table()"
        }, 
        {
            "source": "Get all calculated metrics.", 
            "cell_type": "markdown", 
            "metadata": {}
        }, 
        {
            "execution_count": 59, 
            "cell_type": "code", 
            "metadata": {}, 
            "outputs": [], 
            "source": "deployment_uids = subscription.get_deployment_uids()"
        }, 
        {
            "execution_count": 60, 
            "cell_type": "code", 
            "metadata": {}, 
            "outputs": [
                {
                    "execution_count": 60, 
                    "metadata": {}, 
                    "data": {
                        "text/plain": "{'end': '2019-01-31T15:47:09.924963Z',\n 'metrics': [{'process': 'Accuracy_evaluation_3c7dd95d-75a5-4fce-808a-d078a41ef460',\n   'timestamp': '2019-01-31T14:29:00.336Z',\n   'value': {'metrics': [{'name': 'areaUnderROC', 'value': 0.6820698807446189},\n     {'name': 'areaUnderPR', 'value': 0.36673970362466657}],\n    'quality': 0.6820698807446189,\n    'threshold': 0.7}},\n  {'process': 'Accuracy_evaluation_873bd20f-459a-4538-b35a-87bcef9e4082',\n   'timestamp': '2019-01-31T15:28:26.733Z',\n   'value': {'metrics': [{'name': 'areaUnderROC', 'value': 0.6820698807446189},\n     {'name': 'areaUnderPR', 'value': 0.36673970362466657}],\n    'quality': 0.6820698807446189,\n    'threshold': 0.7}},\n  {'process': 'Accuracy_evaluation_0d1611f3-3853-4b18-ab19-408fc6facf5c',\n   'timestamp': '2019-01-31T15:46:16.213Z',\n   'value': {'metrics': [{'name': 'areaUnderROC', 'value': 0.6660663007833076},\n     {'name': 'areaUnderPR', 'value': 0.3365131212972492}],\n    'quality': 0.6660663007833076,\n    'threshold': 0.7}}],\n 'start': '2019-01-31T13:27:49.861Z'}"
                    }, 
                    "output_type": "execute_result"
                }
            ], 
            "source": "subscription.quality_monitoring.get_metrics(deployment_uid=deployment_uids[0])"
        }, 
        {
            "source": "<a id=\"datamart\"></a>\n## 6. Get the logged data", 
            "cell_type": "markdown", 
            "metadata": {}
        }, 
        {
            "source": "### 6.1 Payload logging", 
            "cell_type": "markdown", 
            "metadata": {}
        }, 
        {
            "source": "#### Show (preview) the table", 
            "cell_type": "markdown", 
            "metadata": {}
        }, 
        {
            "execution_count": 38, 
            "cell_type": "code", 
            "metadata": {}, 
            "outputs": [
                {
                    "output_type": "display_data", 
                    "data": {
                        "text/html": "<HTML>\n        <body>\n            <h3>Payload_091edbc5c4e74be500000167bc5c18e058bf (binding_id=4d880684-e7d1-4d80-aea5-0aa222eb7a03, subscription_id=091edbc5c4e74be500000167bc5c18e058bf)</h3>\n            <table style='border: 1px solid #dddddd; font-family: Courier'>\n                <th style='border: 1px solid #dddddd'>scoring_id</th><th style='border: 1px solid #dddddd'>scoring_timestamp</th><th style='border: 1px solid #dddddd'>deployment_id</th><th style='border: 1px solid #dddddd'>asset_revision</th><th style='border: 1px solid #dddddd'>CheckingStatus</th><th style='border: 1px solid #dddddd'>LoanDuration</th><th style='border: 1px solid #dddddd'>CreditHistory</th><th style='border: 1px solid #dddddd'>LoanPurpose</th><th style='border: 1px solid #dddddd'>LoanAmount</th><th style='border: 1px solid #dddddd'>ExistingSavings</th><th style='border: 1px solid #dddddd'>EmploymentDuration</th><th style='border: 1px solid #dddddd'>InstallmentPercent</th><th style='border: 1px solid #dddddd'>Sex</th><th style='border: 1px solid #dddddd'>OthersOnLoan</th><th style='border: 1px solid #dddddd'>CurrentResidenceDuration</th><th style='border: 1px solid #dddddd'>OwnsProperty</th><th style='border: 1px solid #dddddd'>Age</th><th style='border: 1px solid #dddddd'>InstallmentPlans</th><th style='border: 1px solid #dddddd'>Housing</th><th style='border: 1px solid #dddddd'>ExistingCreditsCount</th><th style='border: 1px solid #dddddd'>Job</th><th style='border: 1px solid #dddddd'>Dependents</th><th style='border: 1px solid #dddddd'>Telephone</th><th style='border: 1px solid #dddddd'>ForeignWorker</th><th style='border: 1px solid #dddddd'>Risk</th><th style='border: 1px solid #dddddd'>$L-Risk</th><th style='border: 1px solid #dddddd'>$LP-Risk</th><th style='border: 1px solid #dddddd'>$LRP-Risk</th>\n                <tr><td style='border: 1px solid #dddddd'>353c1a50-b3fc-44db-a31e-b436b18e2d74-1</td><td style='border: 1px solid #dddddd'>2019-01-31 14:28:15.297799+00:00</td><td style='border: 1px solid #dddddd'>credit_risk_lr</td><td style='border: 1px solid #dddddd'>None</td><td style='border: 1px solid #dddddd'>0_to_200</td><td style='border: 1px solid #dddddd'>31</td><td style='border: 1px solid #dddddd'>credits_paid_to_date</td><td style='border: 1px solid #dddddd'>other</td><td style='border: 1px solid #dddddd'>1889</td><td style='border: 1px solid #dddddd'>100_to_500</td><td style='border: 1px solid #dddddd'>less_1</td><td style='border: 1px solid #dddddd'>3</td><td style='border: 1px solid #dddddd'>female</td><td style='border: 1px solid #dddddd'>none</td><td style='border: 1px solid #dddddd'>3</td><td style='border: 1px solid #dddddd'>savings_insurance</td><td style='border: 1px solid #dddddd'>32</td><td style='border: 1px solid #dddddd'>none</td><td style='border: 1px solid #dddddd'>own</td><td style='border: 1px solid #dddddd'>1</td><td style='border: 1px solid #dddddd'>skilled</td><td style='border: 1px solid #dddddd'>1</td><td style='border: 1px solid #dddddd'>none</td><td style='border: 1px solid #dddddd'>yes</td><td style='border: 1px solid #dddddd'></td><td style='border: 1px solid #dddddd'>No Risk</td><td style='border: 1px solid #dddddd'>0.9042000385999679</td><td style='border: 1px solid #dddddd'>0.09579996140003211</td></tr><tr><td style='border: 1px solid #dddddd'>070157fb-c316-4b80-bd93-6a63fec42ca6-1</td><td style='border: 1px solid #dddddd'>2019-01-31 14:28:15.297778+00:00</td><td style='border: 1px solid #dddddd'>credit_risk_lr</td><td style='border: 1px solid #dddddd'>None</td><td style='border: 1px solid #dddddd'>0_to_200</td><td style='border: 1px solid #dddddd'>31</td><td style='border: 1px solid #dddddd'>credits_paid_to_date</td><td style='border: 1px solid #dddddd'>other</td><td style='border: 1px solid #dddddd'>1889</td><td style='border: 1px solid #dddddd'>100_to_500</td><td style='border: 1px solid #dddddd'>less_1</td><td style='border: 1px solid #dddddd'>3</td><td style='border: 1px solid #dddddd'>female</td><td style='border: 1px solid #dddddd'>none</td><td style='border: 1px solid #dddddd'>3</td><td style='border: 1px solid #dddddd'>savings_insurance</td><td style='border: 1px solid #dddddd'>32</td><td style='border: 1px solid #dddddd'>none</td><td style='border: 1px solid #dddddd'>own</td><td style='border: 1px solid #dddddd'>1</td><td style='border: 1px solid #dddddd'>skilled</td><td style='border: 1px solid #dddddd'>1</td><td style='border: 1px solid #dddddd'>none</td><td style='border: 1px solid #dddddd'>yes</td><td style='border: 1px solid #dddddd'></td><td style='border: 1px solid #dddddd'>No Risk</td><td style='border: 1px solid #dddddd'>0.9042000385999679</td><td style='border: 1px solid #dddddd'>0.09579996140003211</td></tr><tr><td style='border: 1px solid #dddddd'>42e776fd-e4f8-4908-8862-8db26d6cabb7-1</td><td style='border: 1px solid #dddddd'>2019-01-31 14:28:15.297756+00:00</td><td style='border: 1px solid #dddddd'>credit_risk_lr</td><td style='border: 1px solid #dddddd'>None</td><td style='border: 1px solid #dddddd'>0_to_200</td><td style='border: 1px solid #dddddd'>31</td><td style='border: 1px solid #dddddd'>credits_paid_to_date</td><td style='border: 1px solid #dddddd'>other</td><td style='border: 1px solid #dddddd'>1889</td><td style='border: 1px solid #dddddd'>100_to_500</td><td style='border: 1px solid #dddddd'>less_1</td><td style='border: 1px solid #dddddd'>3</td><td style='border: 1px solid #dddddd'>female</td><td style='border: 1px solid #dddddd'>none</td><td style='border: 1px solid #dddddd'>3</td><td style='border: 1px solid #dddddd'>savings_insurance</td><td style='border: 1px solid #dddddd'>32</td><td style='border: 1px solid #dddddd'>none</td><td style='border: 1px solid #dddddd'>own</td><td style='border: 1px solid #dddddd'>1</td><td style='border: 1px solid #dddddd'>skilled</td><td style='border: 1px solid #dddddd'>1</td><td style='border: 1px solid #dddddd'>none</td><td style='border: 1px solid #dddddd'>yes</td><td style='border: 1px solid #dddddd'></td><td style='border: 1px solid #dddddd'>No Risk</td><td style='border: 1px solid #dddddd'>0.9042000385999679</td><td style='border: 1px solid #dddddd'>0.09579996140003211</td></tr><tr><td style='border: 1px solid #dddddd'>86014e49-e941-41a4-b4e0-e91bbb945417-1</td><td style='border: 1px solid #dddddd'>2019-01-31 14:28:15.297735+00:00</td><td style='border: 1px solid #dddddd'>credit_risk_lr</td><td style='border: 1px solid #dddddd'>None</td><td style='border: 1px solid #dddddd'>0_to_200</td><td style='border: 1px solid #dddddd'>31</td><td style='border: 1px solid #dddddd'>credits_paid_to_date</td><td style='border: 1px solid #dddddd'>other</td><td style='border: 1px solid #dddddd'>1889</td><td style='border: 1px solid #dddddd'>100_to_500</td><td style='border: 1px solid #dddddd'>less_1</td><td style='border: 1px solid #dddddd'>3</td><td style='border: 1px solid #dddddd'>female</td><td style='border: 1px solid #dddddd'>none</td><td style='border: 1px solid #dddddd'>3</td><td style='border: 1px solid #dddddd'>savings_insurance</td><td style='border: 1px solid #dddddd'>32</td><td style='border: 1px solid #dddddd'>none</td><td style='border: 1px solid #dddddd'>own</td><td style='border: 1px solid #dddddd'>1</td><td style='border: 1px solid #dddddd'>skilled</td><td style='border: 1px solid #dddddd'>1</td><td style='border: 1px solid #dddddd'>none</td><td style='border: 1px solid #dddddd'>yes</td><td style='border: 1px solid #dddddd'></td><td style='border: 1px solid #dddddd'>No Risk</td><td style='border: 1px solid #dddddd'>0.9042000385999679</td><td style='border: 1px solid #dddddd'>0.09579996140003211</td></tr><tr><td style='border: 1px solid #dddddd'>1c853762-8896-427f-940a-8065e4d11eb9-1</td><td style='border: 1px solid #dddddd'>2019-01-31 14:28:15.297714+00:00</td><td style='border: 1px solid #dddddd'>credit_risk_lr</td><td style='border: 1px solid #dddddd'>None</td><td style='border: 1px solid #dddddd'>0_to_200</td><td style='border: 1px solid #dddddd'>31</td><td style='border: 1px solid #dddddd'>credits_paid_to_date</td><td style='border: 1px solid #dddddd'>other</td><td style='border: 1px solid #dddddd'>1889</td><td style='border: 1px solid #dddddd'>100_to_500</td><td style='border: 1px solid #dddddd'>less_1</td><td style='border: 1px solid #dddddd'>3</td><td style='border: 1px solid #dddddd'>female</td><td style='border: 1px solid #dddddd'>none</td><td style='border: 1px solid #dddddd'>3</td><td style='border: 1px solid #dddddd'>savings_insurance</td><td style='border: 1px solid #dddddd'>32</td><td style='border: 1px solid #dddddd'>none</td><td style='border: 1px solid #dddddd'>own</td><td style='border: 1px solid #dddddd'>1</td><td style='border: 1px solid #dddddd'>skilled</td><td style='border: 1px solid #dddddd'>1</td><td style='border: 1px solid #dddddd'>none</td><td style='border: 1px solid #dddddd'>yes</td><td style='border: 1px solid #dddddd'></td><td style='border: 1px solid #dddddd'>No Risk</td><td style='border: 1px solid #dddddd'>0.9042000385999679</td><td style='border: 1px solid #dddddd'>0.09579996140003211</td></tr><tr><td style='border: 1px solid #dddddd'>1432a3ca-5d46-4063-838e-b7c1e7479ae4-1</td><td style='border: 1px solid #dddddd'>2019-01-31 14:28:15.297693+00:00</td><td style='border: 1px solid #dddddd'>credit_risk_lr</td><td style='border: 1px solid #dddddd'>None</td><td style='border: 1px solid #dddddd'>0_to_200</td><td style='border: 1px solid #dddddd'>31</td><td style='border: 1px solid #dddddd'>credits_paid_to_date</td><td style='border: 1px solid #dddddd'>other</td><td style='border: 1px solid #dddddd'>1889</td><td style='border: 1px solid #dddddd'>100_to_500</td><td style='border: 1px solid #dddddd'>less_1</td><td style='border: 1px solid #dddddd'>3</td><td style='border: 1px solid #dddddd'>female</td><td style='border: 1px solid #dddddd'>none</td><td style='border: 1px solid #dddddd'>3</td><td style='border: 1px solid #dddddd'>savings_insurance</td><td style='border: 1px solid #dddddd'>32</td><td style='border: 1px solid #dddddd'>none</td><td style='border: 1px solid #dddddd'>own</td><td style='border: 1px solid #dddddd'>1</td><td style='border: 1px solid #dddddd'>skilled</td><td style='border: 1px solid #dddddd'>1</td><td style='border: 1px solid #dddddd'>none</td><td style='border: 1px solid #dddddd'>yes</td><td style='border: 1px solid #dddddd'></td><td style='border: 1px solid #dddddd'>No Risk</td><td style='border: 1px solid #dddddd'>0.9042000385999679</td><td style='border: 1px solid #dddddd'>0.09579996140003211</td></tr><tr><td style='border: 1px solid #dddddd'>4a8cdf12-0a8b-473d-bd8c-5be5a6185aed-1</td><td style='border: 1px solid #dddddd'>2019-01-31 14:28:15.297672+00:00</td><td style='border: 1px solid #dddddd'>credit_risk_lr</td><td style='border: 1px solid #dddddd'>None</td><td style='border: 1px solid #dddddd'>0_to_200</td><td style='border: 1px solid #dddddd'>31</td><td style='border: 1px solid #dddddd'>credits_paid_to_date</td><td style='border: 1px solid #dddddd'>other</td><td style='border: 1px solid #dddddd'>1889</td><td style='border: 1px solid #dddddd'>100_to_500</td><td style='border: 1px solid #dddddd'>less_1</td><td style='border: 1px solid #dddddd'>3</td><td style='border: 1px solid #dddddd'>female</td><td style='border: 1px solid #dddddd'>none</td><td style='border: 1px solid #dddddd'>3</td><td style='border: 1px solid #dddddd'>savings_insurance</td><td style='border: 1px solid #dddddd'>32</td><td style='border: 1px solid #dddddd'>none</td><td style='border: 1px solid #dddddd'>own</td><td style='border: 1px solid #dddddd'>1</td><td style='border: 1px solid #dddddd'>skilled</td><td style='border: 1px solid #dddddd'>1</td><td style='border: 1px solid #dddddd'>none</td><td style='border: 1px solid #dddddd'>yes</td><td style='border: 1px solid #dddddd'></td><td style='border: 1px solid #dddddd'>No Risk</td><td style='border: 1px solid #dddddd'>0.9042000385999679</td><td style='border: 1px solid #dddddd'>0.09579996140003211</td></tr><tr><td style='border: 1px solid #dddddd'>bfc81a00-bfbe-468c-b006-4dbf304ecbab-1</td><td style='border: 1px solid #dddddd'>2019-01-31 14:28:15.297650+00:00</td><td style='border: 1px solid #dddddd'>credit_risk_lr</td><td style='border: 1px solid #dddddd'>None</td><td style='border: 1px solid #dddddd'>0_to_200</td><td style='border: 1px solid #dddddd'>31</td><td style='border: 1px solid #dddddd'>credits_paid_to_date</td><td style='border: 1px solid #dddddd'>other</td><td style='border: 1px solid #dddddd'>1889</td><td style='border: 1px solid #dddddd'>100_to_500</td><td style='border: 1px solid #dddddd'>less_1</td><td style='border: 1px solid #dddddd'>3</td><td style='border: 1px solid #dddddd'>female</td><td style='border: 1px solid #dddddd'>none</td><td style='border: 1px solid #dddddd'>3</td><td style='border: 1px solid #dddddd'>savings_insurance</td><td style='border: 1px solid #dddddd'>32</td><td style='border: 1px solid #dddddd'>none</td><td style='border: 1px solid #dddddd'>own</td><td style='border: 1px solid #dddddd'>1</td><td style='border: 1px solid #dddddd'>skilled</td><td style='border: 1px solid #dddddd'>1</td><td style='border: 1px solid #dddddd'>none</td><td style='border: 1px solid #dddddd'>yes</td><td style='border: 1px solid #dddddd'></td><td style='border: 1px solid #dddddd'>No Risk</td><td style='border: 1px solid #dddddd'>0.9042000385999679</td><td style='border: 1px solid #dddddd'>0.09579996140003211</td></tr><tr><td style='border: 1px solid #dddddd'>2b2f8ef9-e2c8-4eb8-a0f1-1ccc3cee8d9a-1</td><td style='border: 1px solid #dddddd'>2019-01-31 14:28:15.297626+00:00</td><td style='border: 1px solid #dddddd'>credit_risk_lr</td><td style='border: 1px solid #dddddd'>None</td><td style='border: 1px solid #dddddd'>0_to_200</td><td style='border: 1px solid #dddddd'>31</td><td style='border: 1px solid #dddddd'>credits_paid_to_date</td><td style='border: 1px solid #dddddd'>other</td><td style='border: 1px solid #dddddd'>1889</td><td style='border: 1px solid #dddddd'>100_to_500</td><td style='border: 1px solid #dddddd'>less_1</td><td style='border: 1px solid #dddddd'>3</td><td style='border: 1px solid #dddddd'>female</td><td style='border: 1px solid #dddddd'>none</td><td style='border: 1px solid #dddddd'>3</td><td style='border: 1px solid #dddddd'>savings_insurance</td><td style='border: 1px solid #dddddd'>32</td><td style='border: 1px solid #dddddd'>none</td><td style='border: 1px solid #dddddd'>own</td><td style='border: 1px solid #dddddd'>1</td><td style='border: 1px solid #dddddd'>skilled</td><td style='border: 1px solid #dddddd'>1</td><td style='border: 1px solid #dddddd'>none</td><td style='border: 1px solid #dddddd'>yes</td><td style='border: 1px solid #dddddd'></td><td style='border: 1px solid #dddddd'>No Risk</td><td style='border: 1px solid #dddddd'>0.9042000385999679</td><td style='border: 1px solid #dddddd'>0.09579996140003211</td></tr><tr><td style='border: 1px solid #dddddd'>1a68b058-be06-40f8-a144-ee1a19c3571a-1</td><td style='border: 1px solid #dddddd'>2019-01-31 14:28:15.297597+00:00</td><td style='border: 1px solid #dddddd'>credit_risk_lr</td><td style='border: 1px solid #dddddd'>None</td><td style='border: 1px solid #dddddd'>0_to_200</td><td style='border: 1px solid #dddddd'>31</td><td style='border: 1px solid #dddddd'>credits_paid_to_date</td><td style='border: 1px solid #dddddd'>other</td><td style='border: 1px solid #dddddd'>1889</td><td style='border: 1px solid #dddddd'>100_to_500</td><td style='border: 1px solid #dddddd'>less_1</td><td style='border: 1px solid #dddddd'>3</td><td style='border: 1px solid #dddddd'>female</td><td style='border: 1px solid #dddddd'>none</td><td style='border: 1px solid #dddddd'>3</td><td style='border: 1px solid #dddddd'>savings_insurance</td><td style='border: 1px solid #dddddd'>32</td><td style='border: 1px solid #dddddd'>none</td><td style='border: 1px solid #dddddd'>own</td><td style='border: 1px solid #dddddd'>1</td><td style='border: 1px solid #dddddd'>skilled</td><td style='border: 1px solid #dddddd'>1</td><td style='border: 1px solid #dddddd'>none</td><td style='border: 1px solid #dddddd'>yes</td><td style='border: 1px solid #dddddd'></td><td style='border: 1px solid #dddddd'>No Risk</td><td style='border: 1px solid #dddddd'>0.9042000385999679</td><td style='border: 1px solid #dddddd'>0.09579996140003211</td></tr>\n            </table>\n        </body>\n        </HTML>", 
                        "text/plain": "<IPython.core.display.HTML object>"
                    }, 
                    "metadata": {}
                }
            ], 
            "source": "subscription.payload_logging.show_table()"
        }, 
        {
            "source": "#### Return the table content as pandas dataframe", 
            "cell_type": "markdown", 
            "metadata": {}
        }, 
        {
            "execution_count": 99, 
            "cell_type": "code", 
            "metadata": {}, 
            "outputs": [], 
            "source": "pandas_df = subscription.payload_logging.get_table_content(format='pandas')"
        }, 
        {
            "source": "### 6.2 Feedback logging", 
            "cell_type": "markdown", 
            "metadata": {}
        }, 
        {
            "source": "Check the schema of table.", 
            "cell_type": "markdown", 
            "metadata": {}
        }, 
        {
            "execution_count": 100, 
            "cell_type": "code", 
            "metadata": {}, 
            "outputs": [
                {
                    "output_type": "display_data", 
                    "data": {
                        "text/html": "<HTML>\n        <body>\n            <h3>Schema of Feedback_091edbc5c4e74be500000167bc5c18e058bf</h3>\n            <table style='border: 1px solid #dddddd; font-family: Courier'>\n                <th style='border: 1px solid #dddddd'>name</th><th style='border: 1px solid #dddddd'>type</th><th style='border: 1px solid #dddddd'>nullable</th>\n                <tr><td style='border: 1px solid #dddddd'>CheckingStatus</td><td style='border: 1px solid #dddddd'>string</td><td style='border: 1px solid #dddddd'>True</td></tr><tr><td style='border: 1px solid #dddddd'>LoanDuration</td><td style='border: 1px solid #dddddd'>string</td><td style='border: 1px solid #dddddd'>True</td></tr><tr><td style='border: 1px solid #dddddd'>CreditHistory</td><td style='border: 1px solid #dddddd'>string</td><td style='border: 1px solid #dddddd'>True</td></tr><tr><td style='border: 1px solid #dddddd'>LoanPurpose</td><td style='border: 1px solid #dddddd'>string</td><td style='border: 1px solid #dddddd'>True</td></tr><tr><td style='border: 1px solid #dddddd'>LoanAmount</td><td style='border: 1px solid #dddddd'>string</td><td style='border: 1px solid #dddddd'>True</td></tr><tr><td style='border: 1px solid #dddddd'>ExistingSavings</td><td style='border: 1px solid #dddddd'>string</td><td style='border: 1px solid #dddddd'>True</td></tr><tr><td style='border: 1px solid #dddddd'>EmploymentDuration</td><td style='border: 1px solid #dddddd'>string</td><td style='border: 1px solid #dddddd'>True</td></tr><tr><td style='border: 1px solid #dddddd'>InstallmentPercent</td><td style='border: 1px solid #dddddd'>string</td><td style='border: 1px solid #dddddd'>True</td></tr><tr><td style='border: 1px solid #dddddd'>Sex</td><td style='border: 1px solid #dddddd'>string</td><td style='border: 1px solid #dddddd'>True</td></tr><tr><td style='border: 1px solid #dddddd'>OthersOnLoan</td><td style='border: 1px solid #dddddd'>string</td><td style='border: 1px solid #dddddd'>True</td></tr><tr><td style='border: 1px solid #dddddd'>CurrentResidenceDuration</td><td style='border: 1px solid #dddddd'>string</td><td style='border: 1px solid #dddddd'>True</td></tr><tr><td style='border: 1px solid #dddddd'>OwnsProperty</td><td style='border: 1px solid #dddddd'>string</td><td style='border: 1px solid #dddddd'>True</td></tr><tr><td style='border: 1px solid #dddddd'>Age</td><td style='border: 1px solid #dddddd'>string</td><td style='border: 1px solid #dddddd'>True</td></tr><tr><td style='border: 1px solid #dddddd'>InstallmentPlans</td><td style='border: 1px solid #dddddd'>string</td><td style='border: 1px solid #dddddd'>True</td></tr><tr><td style='border: 1px solid #dddddd'>Housing</td><td style='border: 1px solid #dddddd'>string</td><td style='border: 1px solid #dddddd'>True</td></tr><tr><td style='border: 1px solid #dddddd'>ExistingCreditsCount</td><td style='border: 1px solid #dddddd'>string</td><td style='border: 1px solid #dddddd'>True</td></tr><tr><td style='border: 1px solid #dddddd'>Job</td><td style='border: 1px solid #dddddd'>string</td><td style='border: 1px solid #dddddd'>True</td></tr><tr><td style='border: 1px solid #dddddd'>Dependents</td><td style='border: 1px solid #dddddd'>string</td><td style='border: 1px solid #dddddd'>True</td></tr><tr><td style='border: 1px solid #dddddd'>Telephone</td><td style='border: 1px solid #dddddd'>string</td><td style='border: 1px solid #dddddd'>True</td></tr><tr><td style='border: 1px solid #dddddd'>ForeignWorker</td><td style='border: 1px solid #dddddd'>string</td><td style='border: 1px solid #dddddd'>True</td></tr><tr><td style='border: 1px solid #dddddd'>Risk</td><td style='border: 1px solid #dddddd'>string</td><td style='border: 1px solid #dddddd'>True</td></tr><tr><td style='border: 1px solid #dddddd'>_training</td><td style='border: 1px solid #dddddd'>timestamp</td><td style='border: 1px solid #dddddd'>False</td></tr>\n            </table>\n        </body>\n        </HTML>", 
                        "text/plain": "<IPython.core.display.HTML object>"
                    }, 
                    "metadata": {}
                }
            ], 
            "source": "subscription.feedback_logging.print_table_schema()"
        }, 
        {
            "source": "Preview table content.", 
            "cell_type": "markdown", 
            "metadata": {}
        }, 
        {
            "execution_count": 101, 
            "cell_type": "code", 
            "metadata": {}, 
            "outputs": [
                {
                    "output_type": "display_data", 
                    "data": {
                        "text/html": "<HTML>\n        <body>\n            <h3>Feedback_091edbc5c4e74be500000167bc5c18e058bf (binding_id=e30a1703-a74c-4066-8994-566c24857bae, subscription_id=091edbc5c4e74be500000167bc5c18e058bf)</h3>\n            <table style='border: 1px solid #dddddd; font-family: Courier'>\n                <th style='border: 1px solid #dddddd'>CheckingStatus</th><th style='border: 1px solid #dddddd'>LoanDuration</th><th style='border: 1px solid #dddddd'>CreditHistory</th><th style='border: 1px solid #dddddd'>LoanPurpose</th><th style='border: 1px solid #dddddd'>LoanAmount</th><th style='border: 1px solid #dddddd'>ExistingSavings</th><th style='border: 1px solid #dddddd'>EmploymentDuration</th><th style='border: 1px solid #dddddd'>InstallmentPercent</th><th style='border: 1px solid #dddddd'>Sex</th><th style='border: 1px solid #dddddd'>OthersOnLoan</th><th style='border: 1px solid #dddddd'>CurrentResidenceDuration</th><th style='border: 1px solid #dddddd'>OwnsProperty</th><th style='border: 1px solid #dddddd'>Age</th><th style='border: 1px solid #dddddd'>InstallmentPlans</th><th style='border: 1px solid #dddddd'>Housing</th><th style='border: 1px solid #dddddd'>ExistingCreditsCount</th><th style='border: 1px solid #dddddd'>Job</th><th style='border: 1px solid #dddddd'>Dependents</th><th style='border: 1px solid #dddddd'>Telephone</th><th style='border: 1px solid #dddddd'>ForeignWorker</th><th style='border: 1px solid #dddddd'>Risk</th><th style='border: 1px solid #dddddd'>_training</th>\n                <tr><td style='border: 1px solid #dddddd'>0_to_200</td><td style='border: 1px solid #dddddd'>31</td><td style='border: 1px solid #dddddd'>credits_paid_to_date</td><td style='border: 1px solid #dddddd'>other</td><td style='border: 1px solid #dddddd'>1889</td><td style='border: 1px solid #dddddd'>100_to_500</td><td style='border: 1px solid #dddddd'>less_1</td><td style='border: 1px solid #dddddd'>3</td><td style='border: 1px solid #dddddd'>female</td><td style='border: 1px solid #dddddd'>none</td><td style='border: 1px solid #dddddd'>3</td><td style='border: 1px solid #dddddd'>savings_insurance</td><td style='border: 1px solid #dddddd'>32</td><td style='border: 1px solid #dddddd'>none</td><td style='border: 1px solid #dddddd'>own</td><td style='border: 1px solid #dddddd'>1</td><td style='border: 1px solid #dddddd'>skilled</td><td style='border: 1px solid #dddddd'>1</td><td style='border: 1px solid #dddddd'>none</td><td style='border: 1px solid #dddddd'>yes</td><td style='border: 1px solid #dddddd'>Risk</td><td style='border: 1px solid #dddddd'>2019-01-30 07:47:16.470000+00:00</td></tr><tr><td style='border: 1px solid #dddddd'>0_to_200</td><td style='border: 1px solid #dddddd'>31</td><td style='border: 1px solid #dddddd'>credits_paid_to_date</td><td style='border: 1px solid #dddddd'>other</td><td style='border: 1px solid #dddddd'>1889</td><td style='border: 1px solid #dddddd'>100_to_500</td><td style='border: 1px solid #dddddd'>less_1</td><td style='border: 1px solid #dddddd'>3</td><td style='border: 1px solid #dddddd'>female</td><td style='border: 1px solid #dddddd'>none</td><td style='border: 1px solid #dddddd'>3</td><td style='border: 1px solid #dddddd'>savings_insurance</td><td style='border: 1px solid #dddddd'>32</td><td style='border: 1px solid #dddddd'>none</td><td style='border: 1px solid #dddddd'>own</td><td style='border: 1px solid #dddddd'>1</td><td style='border: 1px solid #dddddd'>skilled</td><td style='border: 1px solid #dddddd'>1</td><td style='border: 1px solid #dddddd'>none</td><td style='border: 1px solid #dddddd'>yes</td><td style='border: 1px solid #dddddd'>Risk</td><td style='border: 1px solid #dddddd'>2019-01-30 07:47:16.470000+00:00</td></tr><tr><td style='border: 1px solid #dddddd'>0_to_200</td><td style='border: 1px solid #dddddd'>31</td><td style='border: 1px solid #dddddd'>credits_paid_to_date</td><td style='border: 1px solid #dddddd'>other</td><td style='border: 1px solid #dddddd'>1889</td><td style='border: 1px solid #dddddd'>100_to_500</td><td style='border: 1px solid #dddddd'>less_1</td><td style='border: 1px solid #dddddd'>3</td><td style='border: 1px solid #dddddd'>female</td><td style='border: 1px solid #dddddd'>none</td><td style='border: 1px solid #dddddd'>3</td><td style='border: 1px solid #dddddd'>savings_insurance</td><td style='border: 1px solid #dddddd'>32</td><td style='border: 1px solid #dddddd'>none</td><td style='border: 1px solid #dddddd'>own</td><td style='border: 1px solid #dddddd'>1</td><td style='border: 1px solid #dddddd'>skilled</td><td style='border: 1px solid #dddddd'>1</td><td style='border: 1px solid #dddddd'>none</td><td style='border: 1px solid #dddddd'>yes</td><td style='border: 1px solid #dddddd'>Risk</td><td style='border: 1px solid #dddddd'>2019-01-30 07:47:16.470000+00:00</td></tr><tr><td style='border: 1px solid #dddddd'>0_to_200</td><td style='border: 1px solid #dddddd'>31</td><td style='border: 1px solid #dddddd'>credits_paid_to_date</td><td style='border: 1px solid #dddddd'>other</td><td style='border: 1px solid #dddddd'>1889</td><td style='border: 1px solid #dddddd'>100_to_500</td><td style='border: 1px solid #dddddd'>less_1</td><td style='border: 1px solid #dddddd'>3</td><td style='border: 1px solid #dddddd'>female</td><td style='border: 1px solid #dddddd'>none</td><td style='border: 1px solid #dddddd'>3</td><td style='border: 1px solid #dddddd'>savings_insurance</td><td style='border: 1px solid #dddddd'>32</td><td style='border: 1px solid #dddddd'>none</td><td style='border: 1px solid #dddddd'>own</td><td style='border: 1px solid #dddddd'>1</td><td style='border: 1px solid #dddddd'>skilled</td><td style='border: 1px solid #dddddd'>1</td><td style='border: 1px solid #dddddd'>none</td><td style='border: 1px solid #dddddd'>yes</td><td style='border: 1px solid #dddddd'>Risk</td><td style='border: 1px solid #dddddd'>2019-01-30 07:47:16.470000+00:00</td></tr><tr><td style='border: 1px solid #dddddd'>0_to_200</td><td style='border: 1px solid #dddddd'>31</td><td style='border: 1px solid #dddddd'>credits_paid_to_date</td><td style='border: 1px solid #dddddd'>other</td><td style='border: 1px solid #dddddd'>1889</td><td style='border: 1px solid #dddddd'>100_to_500</td><td style='border: 1px solid #dddddd'>less_1</td><td style='border: 1px solid #dddddd'>3</td><td style='border: 1px solid #dddddd'>female</td><td style='border: 1px solid #dddddd'>none</td><td style='border: 1px solid #dddddd'>3</td><td style='border: 1px solid #dddddd'>savings_insurance</td><td style='border: 1px solid #dddddd'>32</td><td style='border: 1px solid #dddddd'>none</td><td style='border: 1px solid #dddddd'>own</td><td style='border: 1px solid #dddddd'>1</td><td style='border: 1px solid #dddddd'>skilled</td><td style='border: 1px solid #dddddd'>1</td><td style='border: 1px solid #dddddd'>none</td><td style='border: 1px solid #dddddd'>yes</td><td style='border: 1px solid #dddddd'>Risk</td><td style='border: 1px solid #dddddd'>2019-01-30 07:47:16.470000+00:00</td></tr><tr><td style='border: 1px solid #dddddd'>0_to_200</td><td style='border: 1px solid #dddddd'>31</td><td style='border: 1px solid #dddddd'>credits_paid_to_date</td><td style='border: 1px solid #dddddd'>other</td><td style='border: 1px solid #dddddd'>1889</td><td style='border: 1px solid #dddddd'>100_to_500</td><td style='border: 1px solid #dddddd'>less_1</td><td style='border: 1px solid #dddddd'>3</td><td style='border: 1px solid #dddddd'>female</td><td style='border: 1px solid #dddddd'>none</td><td style='border: 1px solid #dddddd'>3</td><td style='border: 1px solid #dddddd'>savings_insurance</td><td style='border: 1px solid #dddddd'>32</td><td style='border: 1px solid #dddddd'>none</td><td style='border: 1px solid #dddddd'>own</td><td style='border: 1px solid #dddddd'>1</td><td style='border: 1px solid #dddddd'>skilled</td><td style='border: 1px solid #dddddd'>1</td><td style='border: 1px solid #dddddd'>none</td><td style='border: 1px solid #dddddd'>yes</td><td style='border: 1px solid #dddddd'>Risk</td><td style='border: 1px solid #dddddd'>2019-01-30 07:47:16.470000+00:00</td></tr><tr><td style='border: 1px solid #dddddd'>0_to_200</td><td style='border: 1px solid #dddddd'>31</td><td style='border: 1px solid #dddddd'>credits_paid_to_date</td><td style='border: 1px solid #dddddd'>other</td><td style='border: 1px solid #dddddd'>1889</td><td style='border: 1px solid #dddddd'>100_to_500</td><td style='border: 1px solid #dddddd'>less_1</td><td style='border: 1px solid #dddddd'>3</td><td style='border: 1px solid #dddddd'>female</td><td style='border: 1px solid #dddddd'>none</td><td style='border: 1px solid #dddddd'>3</td><td style='border: 1px solid #dddddd'>savings_insurance</td><td style='border: 1px solid #dddddd'>32</td><td style='border: 1px solid #dddddd'>none</td><td style='border: 1px solid #dddddd'>own</td><td style='border: 1px solid #dddddd'>1</td><td style='border: 1px solid #dddddd'>skilled</td><td style='border: 1px solid #dddddd'>1</td><td style='border: 1px solid #dddddd'>none</td><td style='border: 1px solid #dddddd'>yes</td><td style='border: 1px solid #dddddd'>Risk</td><td style='border: 1px solid #dddddd'>2019-01-30 07:47:16.470000+00:00</td></tr><tr><td style='border: 1px solid #dddddd'>0_to_200</td><td style='border: 1px solid #dddddd'>31</td><td style='border: 1px solid #dddddd'>credits_paid_to_date</td><td style='border: 1px solid #dddddd'>other</td><td style='border: 1px solid #dddddd'>1889</td><td style='border: 1px solid #dddddd'>100_to_500</td><td style='border: 1px solid #dddddd'>less_1</td><td style='border: 1px solid #dddddd'>3</td><td style='border: 1px solid #dddddd'>female</td><td style='border: 1px solid #dddddd'>none</td><td style='border: 1px solid #dddddd'>3</td><td style='border: 1px solid #dddddd'>savings_insurance</td><td style='border: 1px solid #dddddd'>32</td><td style='border: 1px solid #dddddd'>none</td><td style='border: 1px solid #dddddd'>own</td><td style='border: 1px solid #dddddd'>1</td><td style='border: 1px solid #dddddd'>skilled</td><td style='border: 1px solid #dddddd'>1</td><td style='border: 1px solid #dddddd'>none</td><td style='border: 1px solid #dddddd'>yes</td><td style='border: 1px solid #dddddd'>Risk</td><td style='border: 1px solid #dddddd'>2019-01-30 07:47:16.470000+00:00</td></tr><tr><td style='border: 1px solid #dddddd'>0_to_200</td><td style='border: 1px solid #dddddd'>31</td><td style='border: 1px solid #dddddd'>credits_paid_to_date</td><td style='border: 1px solid #dddddd'>other</td><td style='border: 1px solid #dddddd'>1889</td><td style='border: 1px solid #dddddd'>100_to_500</td><td style='border: 1px solid #dddddd'>less_1</td><td style='border: 1px solid #dddddd'>3</td><td style='border: 1px solid #dddddd'>female</td><td style='border: 1px solid #dddddd'>none</td><td style='border: 1px solid #dddddd'>3</td><td style='border: 1px solid #dddddd'>savings_insurance</td><td style='border: 1px solid #dddddd'>32</td><td style='border: 1px solid #dddddd'>none</td><td style='border: 1px solid #dddddd'>own</td><td style='border: 1px solid #dddddd'>1</td><td style='border: 1px solid #dddddd'>skilled</td><td style='border: 1px solid #dddddd'>1</td><td style='border: 1px solid #dddddd'>none</td><td style='border: 1px solid #dddddd'>yes</td><td style='border: 1px solid #dddddd'>Risk</td><td style='border: 1px solid #dddddd'>2019-01-30 07:47:16.470000+00:00</td></tr><tr><td style='border: 1px solid #dddddd'>0_to_200</td><td style='border: 1px solid #dddddd'>31</td><td style='border: 1px solid #dddddd'>credits_paid_to_date</td><td style='border: 1px solid #dddddd'>other</td><td style='border: 1px solid #dddddd'>1889</td><td style='border: 1px solid #dddddd'>100_to_500</td><td style='border: 1px solid #dddddd'>less_1</td><td style='border: 1px solid #dddddd'>3</td><td style='border: 1px solid #dddddd'>female</td><td style='border: 1px solid #dddddd'>none</td><td style='border: 1px solid #dddddd'>3</td><td style='border: 1px solid #dddddd'>savings_insurance</td><td style='border: 1px solid #dddddd'>32</td><td style='border: 1px solid #dddddd'>none</td><td style='border: 1px solid #dddddd'>own</td><td style='border: 1px solid #dddddd'>1</td><td style='border: 1px solid #dddddd'>skilled</td><td style='border: 1px solid #dddddd'>1</td><td style='border: 1px solid #dddddd'>none</td><td style='border: 1px solid #dddddd'>yes</td><td style='border: 1px solid #dddddd'>Risk</td><td style='border: 1px solid #dddddd'>2019-01-30 07:47:16.470000+00:00</td></tr>\n            </table>\n        </body>\n        </HTML>", 
                        "text/plain": "<IPython.core.display.HTML object>"
                    }, 
                    "metadata": {}
                }
            ], 
            "source": "subscription.feedback_logging.show_table()"
        }, 
        {
            "source": "Describe table (calulcate basic statistics).", 
            "cell_type": "markdown", 
            "metadata": {}
        }, 
        {
            "execution_count": 55, 
            "cell_type": "code", 
            "metadata": {}, 
            "outputs": [
                {
                    "output_type": "stream", 
                    "name": "stdout", 
                    "text": "       LoanAmount  LoanDuration  InstallmentPercent  ExistingCreditsCount  \\\ncount        20.0          20.0                20.0                  20.0   \nmean        884.0          18.0                 4.0                   1.0   \nstd           0.0           0.0                 0.0                   0.0   \nmin         884.0          18.0                 4.0                   1.0   \n25%         884.0          18.0                 4.0                   1.0   \n50%         884.0          18.0                 4.0                   1.0   \n75%         884.0          18.0                 4.0                   1.0   \nmax         884.0          18.0                 4.0                   1.0   \n\n        Age  Dependents  CurrentResidenceDuration  \ncount  20.0        20.0                      20.0  \nmean   36.0         2.0                       4.0  \nstd     0.0         0.0                       0.0  \nmin    36.0         2.0                       4.0  \n25%    36.0         2.0                       4.0  \n50%    36.0         2.0                       4.0  \n75%    36.0         2.0                       4.0  \nmax    36.0         2.0                       4.0  \n"
                }
            ], 
            "source": "subscription.feedback_logging.describe_table()"
        }, 
        {
            "source": "Get table content.", 
            "cell_type": "markdown", 
            "metadata": {}
        }, 
        {
            "execution_count": 102, 
            "cell_type": "code", 
            "metadata": {}, 
            "outputs": [], 
            "source": "feedback_pd = subscription.feedback_logging.get_table_content(format='pandas')"
        }, 
        {
            "source": "### 6.3 Quality metrics table", 
            "cell_type": "markdown", 
            "metadata": {}
        }, 
        {
            "execution_count": 103, 
            "cell_type": "code", 
            "metadata": {}, 
            "outputs": [
                {
                    "output_type": "display_data", 
                    "data": {
                        "text/html": "<HTML>\n        <body>\n            <h3>Schema of QualityMetrics</h3>\n            <table style='border: 1px solid #dddddd; font-family: Courier'>\n                <th style='border: 1px solid #dddddd'>name</th><th style='border: 1px solid #dddddd'>type</th><th style='border: 1px solid #dddddd'>nullable</th>\n                <tr><td style='border: 1px solid #dddddd'>ts</td><td style='border: 1px solid #dddddd'>timestamp</td><td style='border: 1px solid #dddddd'>False</td></tr><tr><td style='border: 1px solid #dddddd'>quality</td><td style='border: 1px solid #dddddd'>float</td><td style='border: 1px solid #dddddd'>False</td></tr><tr><td style='border: 1px solid #dddddd'>quality_threshold</td><td style='border: 1px solid #dddddd'>float</td><td style='border: 1px solid #dddddd'>False</td></tr><tr><td style='border: 1px solid #dddddd'>binding_id</td><td style='border: 1px solid #dddddd'>string</td><td style='border: 1px solid #dddddd'>False</td></tr><tr><td style='border: 1px solid #dddddd'>subscription_id</td><td style='border: 1px solid #dddddd'>string</td><td style='border: 1px solid #dddddd'>False</td></tr><tr><td style='border: 1px solid #dddddd'>deployment_id</td><td style='border: 1px solid #dddddd'>string</td><td style='border: 1px solid #dddddd'>True</td></tr><tr><td style='border: 1px solid #dddddd'>process</td><td style='border: 1px solid #dddddd'>string</td><td style='border: 1px solid #dddddd'>False</td></tr><tr><td style='border: 1px solid #dddddd'>asset_revision</td><td style='border: 1px solid #dddddd'>string</td><td style='border: 1px solid #dddddd'>True</td></tr>\n            </table>\n        </body>\n        </HTML>", 
                        "text/plain": "<IPython.core.display.HTML object>"
                    }, 
                    "metadata": {}
                }
            ], 
            "source": "subscription.quality_monitoring.print_table_schema()"
        }, 
        {
            "execution_count": 104, 
            "cell_type": "code", 
            "metadata": {}, 
            "outputs": [
                {
                    "output_type": "display_data", 
                    "data": {
                        "text/html": "<HTML>\n        <body>\n            <h3>QualityMetrics (binding_id=e30a1703-a74c-4066-8994-566c24857bae, subscription_id=091edbc5c4e74be500000167bc5c18e058bf)</h3>\n            <table style='border: 1px solid #dddddd; font-family: Courier'>\n                <th style='border: 1px solid #dddddd'>ts</th><th style='border: 1px solid #dddddd'>quality</th><th style='border: 1px solid #dddddd'>quality_threshold</th><th style='border: 1px solid #dddddd'>binding_id</th><th style='border: 1px solid #dddddd'>subscription_id</th><th style='border: 1px solid #dddddd'>deployment_id</th><th style='border: 1px solid #dddddd'>process</th><th style='border: 1px solid #dddddd'>asset_revision</th>\n                <tr><td style='border: 1px solid #dddddd'>2019-01-30 15:47:28.347000+00:00</td><td style='border: 1px solid #dddddd'>1.0</td><td style='border: 1px solid #dddddd'>0.7</td><td style='border: 1px solid #dddddd'>e30a1703-a74c-4066-8994-566c24857bae</td><td style='border: 1px solid #dddddd'>091edbc5c4e74be500000167bc5c18e058bf</td><td style='border: 1px solid #dddddd'>credit_risk_lr</td><td style='border: 1px solid #dddddd'>Accuracy_evaluation_3357659d-a791-4696-af3e-10e98612e984</td><td style='border: 1px solid #dddddd'></td></tr>\n            </table>\n        </body>\n        </HTML>", 
                        "text/plain": "<IPython.core.display.HTML object>"
                    }, 
                    "metadata": {}
                }
            ], 
            "source": "subscription.quality_monitoring.show_table()"
        }, 
        {
            "source": "### 6.4 Performance metrics table", 
            "cell_type": "markdown", 
            "metadata": {}
        }, 
        {
            "execution_count": 105, 
            "cell_type": "code", 
            "metadata": {}, 
            "outputs": [
                {
                    "output_type": "display_data", 
                    "data": {
                        "text/html": "<HTML>\n        <body>\n            <h3>Schema of PerformanceMetrics</h3>\n            <table style='border: 1px solid #dddddd; font-family: Courier'>\n                <th style='border: 1px solid #dddddd'>name</th><th style='border: 1px solid #dddddd'>type</th><th style='border: 1px solid #dddddd'>nullable</th>\n                <tr><td style='border: 1px solid #dddddd'>ts</td><td style='border: 1px solid #dddddd'>timestamp</td><td style='border: 1px solid #dddddd'>False</td></tr><tr><td style='border: 1px solid #dddddd'>scoring_time</td><td style='border: 1px solid #dddddd'>float</td><td style='border: 1px solid #dddddd'>False</td></tr><tr><td style='border: 1px solid #dddddd'>scoring_records</td><td style='border: 1px solid #dddddd'>object</td><td style='border: 1px solid #dddddd'>False</td></tr><tr><td style='border: 1px solid #dddddd'>binding_id</td><td style='border: 1px solid #dddddd'>string</td><td style='border: 1px solid #dddddd'>False</td></tr><tr><td style='border: 1px solid #dddddd'>subscription_id</td><td style='border: 1px solid #dddddd'>string</td><td style='border: 1px solid #dddddd'>False</td></tr><tr><td style='border: 1px solid #dddddd'>deployment_id</td><td style='border: 1px solid #dddddd'>string</td><td style='border: 1px solid #dddddd'>True</td></tr><tr><td style='border: 1px solid #dddddd'>process</td><td style='border: 1px solid #dddddd'>string</td><td style='border: 1px solid #dddddd'>False</td></tr><tr><td style='border: 1px solid #dddddd'>asset_revision</td><td style='border: 1px solid #dddddd'>string</td><td style='border: 1px solid #dddddd'>True</td></tr>\n            </table>\n        </body>\n        </HTML>", 
                        "text/plain": "<IPython.core.display.HTML object>"
                    }, 
                    "metadata": {}
                }
            ], 
            "source": "subscription.performance_monitoring.print_table_schema()"
        }, 
        {
            "execution_count": 70, 
            "cell_type": "code", 
            "metadata": {}, 
            "outputs": [
                {
                    "output_type": "display_data", 
                    "data": {
                        "text/html": "<HTML>\n        <body>\n            <h3>PerformanceMetrics (binding_id=7f9eeb14-3e89-4fd6-a86a-eaab255f02e4, subscription_id=091edbc5c4e74be500000167bc5c18e058bf)</h3>\n            <table style='border: 1px solid #dddddd; font-family: Courier'>\n                <th style='border: 1px solid #dddddd'>ts</th><th style='border: 1px solid #dddddd'>scoring_time</th><th style='border: 1px solid #dddddd'>scoring_records</th><th style='border: 1px solid #dddddd'>binding_id</th><th style='border: 1px solid #dddddd'>subscription_id</th><th style='border: 1px solid #dddddd'>deployment_id</th><th style='border: 1px solid #dddddd'>process</th><th style='border: 1px solid #dddddd'>asset_revision</th>\n                <tr><td style='border: 1px solid #dddddd'>2019-01-31 11:02:16.533079+00:00</td><td style='border: 1px solid #dddddd'>369.0</td><td style='border: 1px solid #dddddd'>1</td><td style='border: 1px solid #dddddd'>7f9eeb14-3e89-4fd6-a86a-eaab255f02e4</td><td style='border: 1px solid #dddddd'>091edbc5c4e74be500000167bc5c18e058bf</td><td style='border: 1px solid #dddddd'>credit_risk_lr</td><td style='border: 1px solid #dddddd'></td><td style='border: 1px solid #dddddd'></td></tr><tr><td style='border: 1px solid #dddddd'>2019-01-31 11:02:16.533164+00:00</td><td style='border: 1px solid #dddddd'>369.0</td><td style='border: 1px solid #dddddd'>1</td><td style='border: 1px solid #dddddd'>7f9eeb14-3e89-4fd6-a86a-eaab255f02e4</td><td style='border: 1px solid #dddddd'>091edbc5c4e74be500000167bc5c18e058bf</td><td style='border: 1px solid #dddddd'>credit_risk_lr</td><td style='border: 1px solid #dddddd'></td><td style='border: 1px solid #dddddd'></td></tr><tr><td style='border: 1px solid #dddddd'>2019-01-31 11:02:16.533208+00:00</td><td style='border: 1px solid #dddddd'>369.0</td><td style='border: 1px solid #dddddd'>1</td><td style='border: 1px solid #dddddd'>7f9eeb14-3e89-4fd6-a86a-eaab255f02e4</td><td style='border: 1px solid #dddddd'>091edbc5c4e74be500000167bc5c18e058bf</td><td style='border: 1px solid #dddddd'>credit_risk_lr</td><td style='border: 1px solid #dddddd'></td><td style='border: 1px solid #dddddd'></td></tr><tr><td style='border: 1px solid #dddddd'>2019-01-31 11:02:16.533243+00:00</td><td style='border: 1px solid #dddddd'>369.0</td><td style='border: 1px solid #dddddd'>1</td><td style='border: 1px solid #dddddd'>7f9eeb14-3e89-4fd6-a86a-eaab255f02e4</td><td style='border: 1px solid #dddddd'>091edbc5c4e74be500000167bc5c18e058bf</td><td style='border: 1px solid #dddddd'>credit_risk_lr</td><td style='border: 1px solid #dddddd'></td><td style='border: 1px solid #dddddd'></td></tr><tr><td style='border: 1px solid #dddddd'>2019-01-31 11:02:16.533276+00:00</td><td style='border: 1px solid #dddddd'>369.0</td><td style='border: 1px solid #dddddd'>1</td><td style='border: 1px solid #dddddd'>7f9eeb14-3e89-4fd6-a86a-eaab255f02e4</td><td style='border: 1px solid #dddddd'>091edbc5c4e74be500000167bc5c18e058bf</td><td style='border: 1px solid #dddddd'>credit_risk_lr</td><td style='border: 1px solid #dddddd'></td><td style='border: 1px solid #dddddd'></td></tr><tr><td style='border: 1px solid #dddddd'>2019-01-31 11:02:16.533309+00:00</td><td style='border: 1px solid #dddddd'>369.0</td><td style='border: 1px solid #dddddd'>1</td><td style='border: 1px solid #dddddd'>7f9eeb14-3e89-4fd6-a86a-eaab255f02e4</td><td style='border: 1px solid #dddddd'>091edbc5c4e74be500000167bc5c18e058bf</td><td style='border: 1px solid #dddddd'>credit_risk_lr</td><td style='border: 1px solid #dddddd'></td><td style='border: 1px solid #dddddd'></td></tr><tr><td style='border: 1px solid #dddddd'>2019-01-31 11:02:16.533340+00:00</td><td style='border: 1px solid #dddddd'>369.0</td><td style='border: 1px solid #dddddd'>1</td><td style='border: 1px solid #dddddd'>7f9eeb14-3e89-4fd6-a86a-eaab255f02e4</td><td style='border: 1px solid #dddddd'>091edbc5c4e74be500000167bc5c18e058bf</td><td style='border: 1px solid #dddddd'>credit_risk_lr</td><td style='border: 1px solid #dddddd'></td><td style='border: 1px solid #dddddd'></td></tr><tr><td style='border: 1px solid #dddddd'>2019-01-31 11:02:16.533372+00:00</td><td style='border: 1px solid #dddddd'>369.0</td><td style='border: 1px solid #dddddd'>1</td><td style='border: 1px solid #dddddd'>7f9eeb14-3e89-4fd6-a86a-eaab255f02e4</td><td style='border: 1px solid #dddddd'>091edbc5c4e74be500000167bc5c18e058bf</td><td style='border: 1px solid #dddddd'>credit_risk_lr</td><td style='border: 1px solid #dddddd'></td><td style='border: 1px solid #dddddd'></td></tr><tr><td style='border: 1px solid #dddddd'>2019-01-31 11:02:16.533406+00:00</td><td style='border: 1px solid #dddddd'>369.0</td><td style='border: 1px solid #dddddd'>1</td><td style='border: 1px solid #dddddd'>7f9eeb14-3e89-4fd6-a86a-eaab255f02e4</td><td style='border: 1px solid #dddddd'>091edbc5c4e74be500000167bc5c18e058bf</td><td style='border: 1px solid #dddddd'>credit_risk_lr</td><td style='border: 1px solid #dddddd'></td><td style='border: 1px solid #dddddd'></td></tr><tr><td style='border: 1px solid #dddddd'>2019-01-31 11:02:16.533440+00:00</td><td style='border: 1px solid #dddddd'>369.0</td><td style='border: 1px solid #dddddd'>1</td><td style='border: 1px solid #dddddd'>7f9eeb14-3e89-4fd6-a86a-eaab255f02e4</td><td style='border: 1px solid #dddddd'>091edbc5c4e74be500000167bc5c18e058bf</td><td style='border: 1px solid #dddddd'>credit_risk_lr</td><td style='border: 1px solid #dddddd'></td><td style='border: 1px solid #dddddd'></td></tr>\n            </table>\n        </body>\n        </HTML>", 
                        "text/plain": "<IPython.core.display.HTML object>"
                    }, 
                    "metadata": {}
                }
            ], 
            "source": "subscription.performance_monitoring.show_table()"
        }, 
        {
            "source": "### 6.5 Data Mart measurement facts table", 
            "cell_type": "markdown", 
            "metadata": {}
        }, 
        {
            "execution_count": 61, 
            "cell_type": "code", 
            "metadata": {}, 
            "outputs": [], 
            "source": "data_mart_metrics = client.data_mart.get_deployment_metrics()"
        }, 
        {
            "source": "---", 
            "cell_type": "markdown", 
            "metadata": {}
        }, 
        {
            "source": "### Authors\nLukasz Cmielowski, PhD, is an Automation Architect and Data Scientist at IBM with a track record of developing enterprise-level applications that substantially increases clients' ability to turn data into actionable knowledge.", 
            "cell_type": "markdown", 
            "metadata": {}
        }
    ], 
    "metadata": {
        "kernelspec": {
            "display_name": "Python 3.5", 
            "name": "python3", 
            "language": "python"
        }, 
        "language_info": {
            "mimetype": "text/x-python", 
            "nbconvert_exporter": "python", 
            "version": "3.5.5", 
            "name": "python", 
            "file_extension": ".py", 
            "pygments_lexer": "ipython3", 
            "codemirror_mode": {
                "version": 3, 
                "name": "ipython"
            }
        }
    }, 
    "nbformat": 4
}