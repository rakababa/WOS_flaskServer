{
    "nbformat_minor": 1, 
    "cells": [
        {
            "source": "<img src=\"https://github.com/pmservice/ai-openscale-tutorials/raw/master/notebooks/images/banner.png\" align=\"left\" alt=\"banner\">", 
            "cell_type": "markdown", 
            "metadata": {}
        }, 
        {
            "source": "# Working with SageMaker Machine Learning engine", 
            "cell_type": "markdown", 
            "metadata": {}
        }, 
        {
            "source": "This notebook shows how to log the payload for the model deployed on custom model serving engine using Watson OpenScale python sdk.", 
            "cell_type": "markdown", 
            "metadata": {}
        }, 
        {
            "source": "Contents\n- [1. Setup](#setup)\n- [2. Binding machine learning engine](#binding)\n- [3. Subscriptions](#subscription)\n- [4. Scoring and payload logging](#scoring)\n- [5. Feedback logging](#feedback)\n- [6. Data Mart](#datamart)", 
            "cell_type": "markdown", 
            "metadata": {}
        }, 
        {
            "source": "<a id=\"setup\"></a>\n## 1. Setup", 
            "cell_type": "markdown", 
            "metadata": {}
        }, 
        {
            "source": "### 1.0 Sample model creation using [Amazon SageMaker](https://aws.amazon.com/sagemaker/)", 
            "cell_type": "markdown", 
            "metadata": {}
        }, 
        {
            "source": "- Download sample notebook from [here](https://github.com/pmservice/ai-openscale-tutorials/blob/master/notebooks/Credit%20%20model%20with%20SageMaker%20linear-learner%20.ipynb)\n- Run the notebook to train a model and create deployment endpoint", 
            "cell_type": "markdown", 
            "metadata": {}
        }, 
        {
            "source": "### 1.1 Installation and authentication", 
            "cell_type": "markdown", 
            "metadata": {}
        }, 
        {
            "execution_count": 1, 
            "cell_type": "code", 
            "metadata": {}, 
            "outputs": [
                {
                    "output_type": "stream", 
                    "name": "stdout", 
                    "text": "Successfully installed boto3-1.9.67 botocore-1.12.67 cached-property-1.5.1 docker-3.6.0 docker-compose-1.23.2 docker-pycreds-0.4.0 dockerpty-0.4.1 docopt-0.6.2 protobuf3-to-dict-0.1.5 requests-2.20.1 sagemaker-1.16.3 texttable-0.9.1 websocket-client-0.54.0\r\n"
                }
            ], 
            "source": "!pip install sagemaker --no-cache | tail -n 1"
        }, 
        {
            "execution_count": 2, 
            "cell_type": "code", 
            "metadata": {}, 
            "outputs": [
                {
                    "output_type": "stream", 
                    "name": "stdout", 
                    "text": "Successfully installed ibm-ai-openscale-1.0.287\r\n"
                }
            ], 
            "source": "!pip install --upgrade ibm-ai-openscale --no-cache | tail -n 1"
        }, 
        {
            "source": "**Action:** Restart the kernel.", 
            "cell_type": "markdown", 
            "metadata": {}
        }, 
        {
            "source": "Import and initiate.", 
            "cell_type": "markdown", 
            "metadata": {}
        }, 
        {
            "execution_count": 3, 
            "cell_type": "code", 
            "metadata": {}, 
            "outputs": [
                {
                    "output_type": "stream", 
                    "name": "stderr", 
                    "text": "/opt/conda/envs/DSX-Python35/lib/python3.5/site-packages/sklearn/cross_validation.py:41: DeprecationWarning: This module was deprecated in version 0.18 in favor of the model_selection module into which all the refactored classes and functions are moved. Also note that the interface of the new CV iterators are different from that of this module. This module will be removed in 0.20.\n  \"This module will be removed in 0.20.\", DeprecationWarning)\n"
                }
            ], 
            "source": "from ibm_ai_openscale import APIClient\nfrom ibm_ai_openscale.supporting_classes import PayloadRecord\nfrom ibm_ai_openscale.supporting_classes.enums import InputDataType, ProblemType\nfrom ibm_ai_openscale.engines import *\nfrom ibm_ai_openscale.utils import *"
        }, 
        {
            "source": "#### ACTION: Get OpenScale `instance_guid` and `apikey`\n\nHow to install IBM Cloud (bluemix) console: [instruction](https://console.bluemix.net/docs/cli/reference/ibmcloud/download_cli.html#install_use)\n\nHow to get api key using bluemix console:\n```\nbx login --sso\nbx iam api-key-create 'my_key'\n```\n\nHow to get your OpenScale instance GUID\n\n- if your resource group is different than `default` switch to resource group containing OpenScale instance\n```\nbx target -g <myResourceGroup>\n```\n- get details of the instance\n```\nbx resource service-instance 'AI-OpenScale-instance_name'\n```", 
            "cell_type": "markdown", 
            "metadata": {}
        }, 
        {
            "source": "#### Let's define some constants required to set up data mart:\n\n- AIOS_CREDENTIALS\n- POSTGRES_CREDENTIALS\n- SCHEMA_NAME", 
            "cell_type": "markdown", 
            "metadata": {}
        }, 
        {
            "execution_count": 4, 
            "cell_type": "code", 
            "metadata": {}, 
            "outputs": [], 
            "source": "AIOS_CREDENTIALS = {\n  \"url\": \"https://api.aiopenscale.cloud.ibm.com\",\n  \"instance_guid\": \"***\",\n  \"apikey\": \"***\"\n}"
        }, 
        {
            "execution_count": 5, 
            "cell_type": "code", 
            "metadata": {}, 
            "outputs": [], 
            "source": "# The code was removed by Watson Studio for sharing."
        }, 
        {
            "execution_count": 6, 
            "cell_type": "code", 
            "metadata": {}, 
            "outputs": [], 
            "source": "POSTGRES_CREDENTIALS = {\n    \"db_type\": \"postgresql\",\n    \"uri_cli_1\": \"xxx\",\n    \"maps\": [],\n    \"instance_administration_api\": {\n        \"instance_id\": \"xxx\",\n        \"root\": \"xxx\",\n        \"deployment_id\": \"xxx\"\n    },\n    \"name\": \"xxx\",\n    \"uri_cli\": \"xxx\",\n    \"uri_direct_1\": \"xxx\",\n    \"ca_certificate_base64\": \"xxx\",\n    \"deployment_id\": \"xxx\",\n    \"uri\": \"xxx\"\n}"
        }, 
        {
            "execution_count": 7, 
            "cell_type": "code", 
            "metadata": {}, 
            "outputs": [], 
            "source": "# The code was removed by Watson Studio for sharing."
        }, 
        {
            "execution_count": 12, 
            "cell_type": "code", 
            "metadata": {}, 
            "outputs": [], 
            "source": "SCHEMA_NAME = 'data_mart_for_aws_sagemaker'"
        }, 
        {
            "source": "Create schema for data mart.", 
            "cell_type": "markdown", 
            "metadata": {}
        }, 
        {
            "execution_count": 13, 
            "cell_type": "code", 
            "metadata": {}, 
            "outputs": [], 
            "source": "create_postgres_schema(postgres_credentials=POSTGRES_CREDENTIALS, schema_name=SCHEMA_NAME)"
        }, 
        {
            "execution_count": 14, 
            "cell_type": "code", 
            "metadata": {}, 
            "outputs": [], 
            "source": "client = APIClient(AIOS_CREDENTIALS)"
        }, 
        {
            "execution_count": 15, 
            "cell_type": "code", 
            "metadata": {}, 
            "outputs": [
                {
                    "execution_count": 15, 
                    "metadata": {}, 
                    "data": {
                        "text/plain": "'1.0.287'"
                    }, 
                    "output_type": "execute_result"
                }
            ], 
            "source": "client.version"
        }, 
        {
            "source": "### 1.2 DataMart setup", 
            "cell_type": "markdown", 
            "metadata": {}
        }, 
        {
            "execution_count": 17, 
            "cell_type": "code", 
            "metadata": {}, 
            "outputs": [], 
            "source": "client.data_mart.setup(db_credentials=POSTGRES_CREDENTIALS, schema=SCHEMA_NAME)"
        }, 
        {
            "execution_count": 18, 
            "cell_type": "code", 
            "metadata": {}, 
            "outputs": [], 
            "source": "data_mart_details = client.data_mart.get_details()"
        }, 
        {
            "source": "<a id=\"binding\"></a>\n## 2. Bind machine learning engines", 
            "cell_type": "markdown", 
            "metadata": {}
        }, 
        {
            "source": "### 2.1 Bind  `SageMaker` machine learning engine\n\nProvide credentials using following fields:\n- `access_key_id`\n- `secret_access_key`\n- `region`", 
            "cell_type": "markdown", 
            "metadata": {}
        }, 
        {
            "execution_count": 19, 
            "cell_type": "code", 
            "metadata": {}, 
            "outputs": [], 
            "source": "SAGEMAKER_ENGINE_CREDENTIALS = {\n        \"access_key_id\": \"***\",\n        \"secret_access_key\": \"***\",\n        \"region\": \"***\"\n}"
        }, 
        {
            "execution_count": 20, 
            "cell_type": "code", 
            "metadata": {}, 
            "outputs": [], 
            "source": "# The code was removed by Watson Studio for sharing."
        }, 
        {
            "execution_count": 21, 
            "cell_type": "code", 
            "metadata": {}, 
            "outputs": [], 
            "source": "binding_uid = client.data_mart.bindings.add('My SageMaker engine', SageMakerMachineLearningInstance(SAGEMAKER_ENGINE_CREDENTIALS))"
        }, 
        {
            "execution_count": 22, 
            "cell_type": "code", 
            "metadata": {}, 
            "outputs": [], 
            "source": "bindings_details = client.data_mart.bindings.get_details()"
        }, 
        {
            "execution_count": 23, 
            "cell_type": "code", 
            "metadata": {}, 
            "outputs": [
                {
                    "output_type": "display_data", 
                    "data": {
                        "text/html": "<HTML>\n        <body>\n            <h3>Service bindings</h3>\n            <table style='border: 1px solid #dddddd; font-family: Courier'>\n                <th style='border: 1px solid #dddddd'>uid</th><th style='border: 1px solid #dddddd'>name</th><th style='border: 1px solid #dddddd'>service_type</th><th style='border: 1px solid #dddddd'>created</th>\n                <tr><td style='border: 1px solid #dddddd'>e407d23c-dad5-4675-bb05-05180c6424f1</td><td style='border: 1px solid #dddddd'>My SageMaker engine</td><td style='border: 1px solid #dddddd'>amazon_sagemaker</td><td style='border: 1px solid #dddddd'>2018-12-18T14:48:50.750Z</td></tr>\n            </table>\n        </body>\n        </HTML>", 
                        "text/plain": "<IPython.core.display.HTML object>"
                    }, 
                    "metadata": {}
                }
            ], 
            "source": "client.data_mart.bindings.list()"
        }, 
        {
            "source": "<a id=\"subsciption\"></a>\n## 3. Subscriptions", 
            "cell_type": "markdown", 
            "metadata": {}
        }, 
        {
            "source": "### 3.1 Add subscriptions", 
            "cell_type": "markdown", 
            "metadata": {}
        }, 
        {
            "source": "List available deployments.\n\n**Note:** Depending on number of assets it may take some time.", 
            "cell_type": "markdown", 
            "metadata": {}
        }, 
        {
            "execution_count": 24, 
            "cell_type": "code", 
            "metadata": {}, 
            "outputs": [
                {
                    "output_type": "display_data", 
                    "data": {
                        "text/html": "<HTML>\n        <body>\n            <h3>Available assets</h3>\n            <table style='border: 1px solid #dddddd; font-family: Courier'>\n                <th style='border: 1px solid #dddddd'>source_uid</th><th style='border: 1px solid #dddddd'>name</th><th style='border: 1px solid #dddddd'>created</th><th style='border: 1px solid #dddddd'>type</th><th style='border: 1px solid #dddddd'>frameworks</th><th style='border: 1px solid #dddddd'>binding_uid</th><th style='border: 1px solid #dddddd'>is_subscribed</th>\n                <tr><td style='border: 1px solid #dddddd'>e506b314bfec52b83800b2696372045b</td><td style='border: 1px solid #dddddd'>Breast-cancer-linear-learner-2018-12-17-16-11-17</td><td style='border: 1px solid #dddddd'>2018-12-17T16:27:15.010Z</td><td style='border: 1px solid #dddddd'>model</td><td style='border: 1px solid #dddddd'></td><td style='border: 1px solid #dddddd'>e407d23c-dad5-4675-bb05-05180c6424f1</td><td style='border: 1px solid #dddddd'>False</td></tr><tr><td style='border: 1px solid #dddddd'>b43f50a20656d2c886e0d2410dc57323</td><td style='border: 1px solid #dddddd'>factorization-machines-2018-10-18-12-58-24-328</td><td style='border: 1px solid #dddddd'>2018-10-18T12:58:24.456Z</td><td style='border: 1px solid #dddddd'>model</td><td style='border: 1px solid #dddddd'></td><td style='border: 1px solid #dddddd'>e407d23c-dad5-4675-bb05-05180c6424f1</td><td style='border: 1px solid #dddddd'>False</td></tr><tr><td style='border: 1px solid #dddddd'>0530ab0cd4f4dd5486b19c08df8b6914</td><td style='border: 1px solid #dddddd'>DEMO-multi-classification-2018-10-10-14-26-26</td><td style='border: 1px solid #dddddd'>2018-10-10T14:31:44.348Z</td><td style='border: 1px solid #dddddd'>model</td><td style='border: 1px solid #dddddd'></td><td style='border: 1px solid #dddddd'>e407d23c-dad5-4675-bb05-05180c6424f1</td><td style='border: 1px solid #dddddd'>False</td></tr><tr><td style='border: 1px solid #dddddd'>85aba02937c71f90ae3db6d98214766d</td><td style='border: 1px solid #dddddd'>DEMO-classification-2018-10-10-13-24-25</td><td style='border: 1px solid #dddddd'>2018-10-10T13:29:38.548Z</td><td style='border: 1px solid #dddddd'>model</td><td style='border: 1px solid #dddddd'></td><td style='border: 1px solid #dddddd'>e407d23c-dad5-4675-bb05-05180c6424f1</td><td style='border: 1px solid #dddddd'>False</td></tr>\n            </table>\n        </body>\n        </HTML>", 
                        "text/plain": "<IPython.core.display.HTML object>"
                    }, 
                    "metadata": {}
                }
            ], 
            "source": "client.data_mart.bindings.list_assets()"
        }, 
        {
            "source": "**Action:** Assign your source_uid to `source_uid` variable below.", 
            "cell_type": "markdown", 
            "metadata": {}
        }, 
        {
            "execution_count": 25, 
            "cell_type": "code", 
            "metadata": {}, 
            "outputs": [], 
            "source": "source_uid = '0530ab0cd4f4dd5486b19c08df8b6914'"
        }, 
        {
            "execution_count": 26, 
            "cell_type": "code", 
            "metadata": {}, 
            "outputs": [], 
            "source": "subscription = client.data_mart.subscriptions.add(\n    SageMakerMachineLearningAsset(\n                source_uid=source_uid,\n                binding_uid=binding_uid,\n                input_data_type=InputDataType.STRUCTURED,\n                problem_type=ProblemType.MULTICLASS_CLASSIFICATION,\n                label_column='diagnosis',\n                probability_column='score',\n                prediction_column='predicted_label'))"
        }, 
        {
            "source": "#### Get subscriptions list", 
            "cell_type": "markdown", 
            "metadata": {}
        }, 
        {
            "execution_count": 27, 
            "cell_type": "code", 
            "metadata": {}, 
            "outputs": [], 
            "source": "subscriptions = client.data_mart.subscriptions.get_details()"
        }, 
        {
            "execution_count": 28, 
            "cell_type": "code", 
            "metadata": {}, 
            "outputs": [
                {
                    "output_type": "stream", 
                    "name": "stdout", 
                    "text": "['0530ab0cd4f4dd5486b19c08df8b6914']\n"
                }
            ], 
            "source": "subscriptions_uids = client.data_mart.subscriptions.get_uids()\nprint(subscriptions_uids)"
        }, 
        {
            "source": "#### List subscriptions", 
            "cell_type": "markdown", 
            "metadata": {}
        }, 
        {
            "execution_count": 29, 
            "cell_type": "code", 
            "metadata": {}, 
            "outputs": [
                {
                    "output_type": "display_data", 
                    "data": {
                        "text/html": "<HTML>\n        <body>\n            <h3>Subscriptions</h3>\n            <table style='border: 1px solid #dddddd; font-family: Courier'>\n                <th style='border: 1px solid #dddddd'>uid</th><th style='border: 1px solid #dddddd'>name</th><th style='border: 1px solid #dddddd'>type</th><th style='border: 1px solid #dddddd'>binding_uid</th><th style='border: 1px solid #dddddd'>created</th>\n                <tr><td style='border: 1px solid #dddddd'>0530ab0cd4f4dd5486b19c08df8b6914</td><td style='border: 1px solid #dddddd'>DEMO-multi-classification-2018-10-10-14-26-26</td><td style='border: 1px solid #dddddd'>model</td><td style='border: 1px solid #dddddd'>e407d23c-dad5-4675-bb05-05180c6424f1</td><td style='border: 1px solid #dddddd'>2018-12-18T14:48:58.002Z</td></tr>\n            </table>\n        </body>\n        </HTML>", 
                        "text/plain": "<IPython.core.display.HTML object>"
                    }, 
                    "metadata": {}
                }
            ], 
            "source": "client.data_mart.subscriptions.list()"
        }, 
        {
            "source": "<a id=\"scoring\"></a>\n## 4. Scoring and payload logging", 
            "cell_type": "markdown", 
            "metadata": {}
        }, 
        {
            "source": "### 4.1 Score the product line model and measure response time", 
            "cell_type": "markdown", 
            "metadata": {}
        }, 
        {
            "execution_count": 37, 
            "cell_type": "code", 
            "metadata": {}, 
            "outputs": [
                {
                    "output_type": "stream", 
                    "name": "stdout", 
                    "text": "{\n  \"predictions\": [\n    {\n      \"score\": [\n        5.532644564709699e-09,\n        1.0\n      ],\n      \"predicted_label\": 1.0\n    },\n    {\n      \"score\": [\n        5.532644564709699e-09,\n        1.0\n      ],\n      \"predicted_label\": 1.0\n    }\n  ]\n}\n"
                }
            ], 
            "source": "import requests\nimport time\nimport json\nimport boto3\n\nbinding_details = client.data_mart.bindings.get_details(binding_uid=binding_uid)\nsubscription_details = subscription.get_details()\n\naccess_id = binding_details['entity']['credentials']['access_key_id']\naccess_key = binding_details['entity']['credentials']['secret_access_key']\nregion = binding_details['entity']['credentials']['region']\nendpoint_name = subscription_details['entity']['deployments'][0]['name']\nruntime = boto3.client('sagemaker-runtime', region_name=region, aws_access_key_id=access_id, aws_secret_access_key=access_key)\n\nfields = ['radius_mean', 'texture_mean', 'perimeter_mean', 'area_mean', 'smoothness_mean', 'compactness_mean',\n          'concavity_mean', 'concave points_mean', 'symmetry_mean', 'fractal_dimension_mean', 'radius_se',\n          'texture_se', 'perimeter_se', 'area_se', 'smoothness_se', 'compactness_se', 'concavity_se',\n          'concave points_se', 'symmetry_se', 'fractal_dimension_se', 'radius_worst', 'texture_worst',\n          'perimeter_worst', 'area_worst', 'smoothness_worst', 'compactness_worst', 'concavity_worst',\n          'concave points_worst', 'symmetry_worst', 'fractal_dimension_worst']\n        \npayload = \"17.02,23.98,112.8,899.3,0.1197,0.1496,0.2417,0.1203,0.2248,0.06382,0.6009,1.398,3.999,67.78,0.008268,0.03082,0.05042,0.01112,0.02102,0.003854,20.88,32.09,136.1,1344,0.1634,0.3559,0.5588,0.1847,0.353,0.08482\\n17.02,23.98,112.8,899.3,0.1197,0.1496,0.2417,0.1203,0.2248,0.06382,0.6009,1.398,3.999,67.78,0.008268,0.03082,0.05042,0.01112,0.02102,0.003854,20.88,32.09,136.1,1344,0.1634,0.3559,0.5588,0.1847,0.353,0.08482\"\n\nstart_time = time.time()\nresponse = runtime.invoke_endpoint(EndpointName=endpoint_name, ContentType='text/csv', Body=payload)\nresponse_time = int((time.time() - start_time)*1000)\nresult = json.loads(response['Body'].read().decode())\n\nprint(json.dumps(result, indent=2))"
        }, 
        {
            "source": "### 4.2 Store the request and response in payload logging table", 
            "cell_type": "markdown", 
            "metadata": {}
        }, 
        {
            "source": "#### Transform the model's input and output to the format compatible with OpenScale standard.", 
            "cell_type": "markdown", 
            "metadata": {}
        }, 
        {
            "execution_count": 38, 
            "cell_type": "code", 
            "metadata": {}, 
            "outputs": [], 
            "source": "values = []\n\nfor v in payload.split('\\n'):\n    values.append([float(s) for s in v.split(',')])\n\nrequest_data = {'fields': fields, 'values': values}\n\nresponse_data = {'fields': list(result['predictions'][0]),\n            'values': [list(x.values()) for x in result['predictions']]}"
        }, 
        {
            "source": "#### Store the payload using Python SDK", 
            "cell_type": "markdown", 
            "metadata": {}
        }, 
        {
            "source": "**Hint:** You can embed payload logging code into your custom deployment so it is logged automatically each time you score the model.", 
            "cell_type": "markdown", 
            "metadata": {}
        }, 
        {
            "execution_count": 39, 
            "cell_type": "code", 
            "metadata": {}, 
            "outputs": [], 
            "source": "records_list = [PayloadRecord(request=request_data, response=response_data, response_time=response_time), \n                PayloadRecord(request=request_data, response=response_data, response_time=response_time)]\n\nfor i in range(1, 10):\n    records_list.append(PayloadRecord(request=request_data, response=response_data, response_time=response_time))\n\nsubscription.payload_logging.store(records=records_list)"
        }, 
        {
            "source": "#### Store the payload using REST API", 
            "cell_type": "markdown", 
            "metadata": {}
        }, 
        {
            "source": "Get the token first.", 
            "cell_type": "markdown", 
            "metadata": {}
        }, 
        {
            "execution_count": 40, 
            "cell_type": "code", 
            "metadata": {}, 
            "outputs": [], 
            "source": "token_endpoint = \"https://iam.bluemix.net/identity/token\"\nheaders = {\n    \"Content-Type\": \"application/x-www-form-urlencoded\",\n    \"Accept\": \"application/json\"\n}\n\ndata = {\n    \"grant_type\":\"urn:ibm:params:oauth:grant-type:apikey\",\n    \"apikey\":AIOS_CREDENTIALS[\"apikey\"]\n}\n\nreq = requests.post(token_endpoint, data=data, headers=headers)\ntoken = req.json()['access_token']"
        }, 
        {
            "source": "Store the payload.", 
            "cell_type": "markdown", 
            "metadata": {}
        }, 
        {
            "execution_count": 41, 
            "cell_type": "code", 
            "metadata": {}, 
            "outputs": [
                {
                    "output_type": "stream", 
                    "name": "stdout", 
                    "text": "Request OK: True\n"
                }
            ], 
            "source": "import requests, uuid\n\nPAYLOAD_STORING_HREF_PATTERN = '{}/v1/data_marts/{}/scoring_payloads'\nendpoint = PAYLOAD_STORING_HREF_PATTERN.format(AIOS_CREDENTIALS['url'], AIOS_CREDENTIALS['data_mart_id'])\n\npayload = [{\n    'binding_id': binding_uid, \n    'deployment_id': subscription.get_details()['entity']['deployments'][0]['deployment_id'], \n    'subscription_id': subscription.uid, \n    'scoring_id': str(uuid.uuid4()), \n    'response': response_data,\n    'request': request_data\n}]\n\n\nheaders = {\"Authorization\": \"Bearer \" + token}\n      \nreq_response = requests.post(endpoint, json=payload, headers = headers)\n\nprint(\"Request OK: \" + str(req_response.ok))"
        }, 
        {
            "source": "<a id=\"feedback\"></a>\n## 5. Feedback logging & quality (accuracy) monitoring", 
            "cell_type": "markdown", 
            "metadata": {}
        }, 
        {
            "source": "### Enable quality monitoring", 
            "cell_type": "markdown", 
            "metadata": {}
        }, 
        {
            "source": "You need to provide the monitoring `threshold` and `min_records` (minimal number of feedback records).", 
            "cell_type": "markdown", 
            "metadata": {}
        }, 
        {
            "execution_count": 46, 
            "cell_type": "code", 
            "metadata": {}, 
            "outputs": [], 
            "source": "subscription.quality_monitoring.enable(threshold=0.7, min_records=5)"
        }, 
        {
            "source": "### Feedback records logging", 
            "cell_type": "markdown", 
            "metadata": {}
        }, 
        {
            "source": "Feedback records are used to evaluate your model. The predicted values are compared to real values (feedback records).", 
            "cell_type": "markdown", 
            "metadata": {}
        }, 
        {
            "source": "You can check the schema of feedback table using below method.", 
            "cell_type": "markdown", 
            "metadata": {}
        }, 
        {
            "execution_count": 43, 
            "cell_type": "code", 
            "metadata": {}, 
            "outputs": [
                {
                    "output_type": "display_data", 
                    "data": {
                        "text/html": "<HTML>\n        <body>\n            <h3>Schema of Feedback_0530ab0cd4f4dd5486b19c08df8b6914</h3>\n            <table style='border: 1px solid #dddddd; font-family: Courier'>\n                <th style='border: 1px solid #dddddd'>name</th><th style='border: 1px solid #dddddd'>type</th><th style='border: 1px solid #dddddd'>nullable</th>\n                <tr><td style='border: 1px solid #dddddd'>radius_mean</td><td style='border: 1px solid #dddddd'>double</td><td style='border: 1px solid #dddddd'>True</td></tr><tr><td style='border: 1px solid #dddddd'>texture_mean</td><td style='border: 1px solid #dddddd'>double</td><td style='border: 1px solid #dddddd'>True</td></tr><tr><td style='border: 1px solid #dddddd'>perimeter_mean</td><td style='border: 1px solid #dddddd'>double</td><td style='border: 1px solid #dddddd'>True</td></tr><tr><td style='border: 1px solid #dddddd'>area_mean</td><td style='border: 1px solid #dddddd'>double</td><td style='border: 1px solid #dddddd'>True</td></tr><tr><td style='border: 1px solid #dddddd'>smoothness_mean</td><td style='border: 1px solid #dddddd'>double</td><td style='border: 1px solid #dddddd'>True</td></tr><tr><td style='border: 1px solid #dddddd'>compactness_mean</td><td style='border: 1px solid #dddddd'>double</td><td style='border: 1px solid #dddddd'>True</td></tr><tr><td style='border: 1px solid #dddddd'>concavity_mean</td><td style='border: 1px solid #dddddd'>double</td><td style='border: 1px solid #dddddd'>True</td></tr><tr><td style='border: 1px solid #dddddd'>concave points_mean</td><td style='border: 1px solid #dddddd'>double</td><td style='border: 1px solid #dddddd'>True</td></tr><tr><td style='border: 1px solid #dddddd'>symmetry_mean</td><td style='border: 1px solid #dddddd'>double</td><td style='border: 1px solid #dddddd'>True</td></tr><tr><td style='border: 1px solid #dddddd'>fractal_dimension_mean</td><td style='border: 1px solid #dddddd'>double</td><td style='border: 1px solid #dddddd'>True</td></tr><tr><td style='border: 1px solid #dddddd'>radius_se</td><td style='border: 1px solid #dddddd'>double</td><td style='border: 1px solid #dddddd'>True</td></tr><tr><td style='border: 1px solid #dddddd'>texture_se</td><td style='border: 1px solid #dddddd'>double</td><td style='border: 1px solid #dddddd'>True</td></tr><tr><td style='border: 1px solid #dddddd'>perimeter_se</td><td style='border: 1px solid #dddddd'>double</td><td style='border: 1px solid #dddddd'>True</td></tr><tr><td style='border: 1px solid #dddddd'>area_se</td><td style='border: 1px solid #dddddd'>double</td><td style='border: 1px solid #dddddd'>True</td></tr><tr><td style='border: 1px solid #dddddd'>smoothness_se</td><td style='border: 1px solid #dddddd'>double</td><td style='border: 1px solid #dddddd'>True</td></tr><tr><td style='border: 1px solid #dddddd'>compactness_se</td><td style='border: 1px solid #dddddd'>double</td><td style='border: 1px solid #dddddd'>True</td></tr><tr><td style='border: 1px solid #dddddd'>concavity_se</td><td style='border: 1px solid #dddddd'>double</td><td style='border: 1px solid #dddddd'>True</td></tr><tr><td style='border: 1px solid #dddddd'>concave points_se</td><td style='border: 1px solid #dddddd'>double</td><td style='border: 1px solid #dddddd'>True</td></tr><tr><td style='border: 1px solid #dddddd'>symmetry_se</td><td style='border: 1px solid #dddddd'>double</td><td style='border: 1px solid #dddddd'>True</td></tr><tr><td style='border: 1px solid #dddddd'>fractal_dimension_se</td><td style='border: 1px solid #dddddd'>double</td><td style='border: 1px solid #dddddd'>True</td></tr><tr><td style='border: 1px solid #dddddd'>radius_worst</td><td style='border: 1px solid #dddddd'>double</td><td style='border: 1px solid #dddddd'>True</td></tr><tr><td style='border: 1px solid #dddddd'>texture_worst</td><td style='border: 1px solid #dddddd'>double</td><td style='border: 1px solid #dddddd'>True</td></tr><tr><td style='border: 1px solid #dddddd'>perimeter_worst</td><td style='border: 1px solid #dddddd'>double</td><td style='border: 1px solid #dddddd'>True</td></tr><tr><td style='border: 1px solid #dddddd'>area_worst</td><td style='border: 1px solid #dddddd'>double</td><td style='border: 1px solid #dddddd'>True</td></tr><tr><td style='border: 1px solid #dddddd'>smoothness_worst</td><td style='border: 1px solid #dddddd'>double</td><td style='border: 1px solid #dddddd'>True</td></tr><tr><td style='border: 1px solid #dddddd'>compactness_worst</td><td style='border: 1px solid #dddddd'>double</td><td style='border: 1px solid #dddddd'>True</td></tr><tr><td style='border: 1px solid #dddddd'>concavity_worst</td><td style='border: 1px solid #dddddd'>double</td><td style='border: 1px solid #dddddd'>True</td></tr><tr><td style='border: 1px solid #dddddd'>concave points_worst</td><td style='border: 1px solid #dddddd'>double</td><td style='border: 1px solid #dddddd'>True</td></tr><tr><td style='border: 1px solid #dddddd'>symmetry_worst</td><td style='border: 1px solid #dddddd'>double</td><td style='border: 1px solid #dddddd'>True</td></tr><tr><td style='border: 1px solid #dddddd'>fractal_dimension_worst</td><td style='border: 1px solid #dddddd'>double</td><td style='border: 1px solid #dddddd'>True</td></tr><tr><td style='border: 1px solid #dddddd'>diagnosis</td><td style='border: 1px solid #dddddd'>double</td><td style='border: 1px solid #dddddd'>True</td></tr><tr><td style='border: 1px solid #dddddd'>_training</td><td style='border: 1px solid #dddddd'>timestamp</td><td style='border: 1px solid #dddddd'>False</td></tr>\n            </table>\n        </body>\n        </HTML>", 
                        "text/plain": "<IPython.core.display.HTML object>"
                    }, 
                    "metadata": {}
                }
            ], 
            "source": "subscription.feedback_logging.print_table_schema()"
        }, 
        {
            "source": "The feedback records can be send to feedback table using below code.", 
            "cell_type": "markdown", 
            "metadata": {}
        }, 
        {
            "execution_count": 44, 
            "cell_type": "code", 
            "metadata": {}, 
            "outputs": [], 
            "source": "feedback_records = []\n\nfields = ['radius_mean', 'texture_mean', 'perimeter_mean', 'area_mean', 'smoothness_mean', 'compactness_mean',\n          'concavity_mean', 'concave points_mean', 'symmetry_mean', 'fractal_dimension_mean', 'radius_se',\n          'texture_se', 'perimeter_se', 'area_se', 'smoothness_se', 'compactness_se', 'concavity_se',\n          'concave points_se', 'symmetry_se', 'fractal_dimension_se', 'radius_worst', 'texture_worst',\n          'perimeter_worst', 'area_worst', 'smoothness_worst', 'compactness_worst', 'concavity_worst',\n          'concave points_worst', 'symmetry_worst', 'fractal_dimension_worst', 'diagnosis']\n\nfor i in range(1, 10):\n    feedback_records.append([17.02,23.98,112.8,899.3,0.1197,0.1496,0.2417,0.1203,0.2248,0.06382,0.6009,1.398,3.999,67.78,0.008268,0.03082,0.05042,0.01112,0.02102,0.003854,20.88,32.09,136.1,1344,0.1634,0.3559,0.5588,0.1847,0.353,0.08482, 1])\n\nsubscription.feedback_logging.store(feedback_data=feedback_records, fields=fields)"
        }, 
        {
            "source": "### Run quality monitoring on demand", 
            "cell_type": "markdown", 
            "metadata": {}
        }, 
        {
            "source": "By default, quality monitoring is run on hourly schedule. You can also trigger it on demand using below code.", 
            "cell_type": "markdown", 
            "metadata": {}
        }, 
        {
            "execution_count": 47, 
            "cell_type": "code", 
            "metadata": {}, 
            "outputs": [], 
            "source": "run_details = subscription.quality_monitoring.run()"
        }, 
        {
            "source": "Since the monitoring runs in the background you can use below method to check the status of the job.", 
            "cell_type": "markdown", 
            "metadata": {}
        }, 
        {
            "execution_count": 48, 
            "cell_type": "code", 
            "metadata": {}, 
            "outputs": [
                {
                    "output_type": "stream", 
                    "name": "stdout", 
                    "text": "Run status: initializing\nRun status: completed\n"
                }
            ], 
            "source": "status = run_details['status']\nid = run_details['id']\n\nprint(\"Run status: {}\".format(status))\n\nstart_time = time.time()\nelapsed_time = 0\n\nwhile status != 'completed' and elapsed_time < 60:\n    time.sleep(10)\n    run_details = subscription.quality_monitoring.get_run_details(run_uid=id)\n    status = run_details['status']\n    elapsed_time = time.time() - start_time\n    print(\"Run status: {}\".format(status))"
        }, 
        {
            "source": "### Show the quality metrics", 
            "cell_type": "markdown", 
            "metadata": {}
        }, 
        {
            "execution_count": 49, 
            "cell_type": "code", 
            "metadata": {}, 
            "outputs": [
                {
                    "output_type": "display_data", 
                    "data": {
                        "text/html": "<HTML>\n        <body>\n            <h3>QualityMetrics (binding_id=e407d23c-dad5-4675-bb05-05180c6424f1, subscription_id=0530ab0cd4f4dd5486b19c08df8b6914)</h3>\n            <table style='border: 1px solid #dddddd; font-family: Courier'>\n                <th style='border: 1px solid #dddddd'>ts</th><th style='border: 1px solid #dddddd'>quality</th><th style='border: 1px solid #dddddd'>quality_threshold</th><th style='border: 1px solid #dddddd'>binding_id</th><th style='border: 1px solid #dddddd'>subscription_id</th><th style='border: 1px solid #dddddd'>deployment_id</th><th style='border: 1px solid #dddddd'>process</th><th style='border: 1px solid #dddddd'>asset_revision</th>\n                <tr><td style='border: 1px solid #dddddd'>2018-12-18 14:55:14.589000+00:00</td><td style='border: 1px solid #dddddd'>1.0</td><td style='border: 1px solid #dddddd'>0.7</td><td style='border: 1px solid #dddddd'>e407d23c-dad5-4675-bb05-05180c6424f1</td><td style='border: 1px solid #dddddd'>0530ab0cd4f4dd5486b19c08df8b6914</td><td style='border: 1px solid #dddddd'>37a83f399e6dc3b9d08d7d01fe690665</td><td style='border: 1px solid #dddddd'>Accuracy_evaluation_7e20be61-a3a4-40ae-ae9e-b1ad3631ddc2</td><td style='border: 1px solid #dddddd'></td></tr>\n            </table>\n        </body>\n        </HTML>", 
                        "text/plain": "<IPython.core.display.HTML object>"
                    }, 
                    "metadata": {}
                }
            ], 
            "source": "subscription.quality_monitoring.show_table()"
        }, 
        {
            "source": "Get all calculated metrics.", 
            "cell_type": "markdown", 
            "metadata": {}
        }, 
        {
            "execution_count": 50, 
            "cell_type": "code", 
            "metadata": {}, 
            "outputs": [], 
            "source": "deployment_uids = subscription.get_deployment_uids()"
        }, 
        {
            "execution_count": 51, 
            "cell_type": "code", 
            "metadata": {}, 
            "outputs": [
                {
                    "execution_count": 51, 
                    "metadata": {}, 
                    "data": {
                        "text/plain": "{'end': '2018-12-18T14:55:54.066335Z',\n 'metrics': [{'process': 'Accuracy_evaluation_7e20be61-a3a4-40ae-ae9e-b1ad3631ddc2',\n   'timestamp': '2018-12-18T14:55:14.589Z',\n   'value': {'metrics': [{'name': 'weightedTruePositiveRate', 'value': 1.0},\n     {'name': 'accuracy', 'value': 1.0},\n     {'name': 'weightedFMeasure', 'value': 1.0},\n     {'name': 'weightedRecall', 'value': 1.0},\n     {'name': 'weightedFalsePositiveRate', 'value': None},\n     {'name': 'weightedPrecision', 'value': 1.0}],\n    'quality': 1.0,\n    'threshold': 0.7}}],\n 'start': '2018-12-18T13:53:17.330Z'}"
                    }, 
                    "output_type": "execute_result"
                }
            ], 
            "source": "subscription.quality_monitoring.get_metrics(deployment_uid=deployment_uids[0])"
        }, 
        {
            "source": "<a id=\"datamart\"></a>\n## 6. Get the logged data", 
            "cell_type": "markdown", 
            "metadata": {}
        }, 
        {
            "source": "### 6.1 Payload logging", 
            "cell_type": "markdown", 
            "metadata": {}
        }, 
        {
            "source": "#### Print schema of payload_logging table", 
            "cell_type": "markdown", 
            "metadata": {}
        }, 
        {
            "execution_count": 52, 
            "cell_type": "code", 
            "metadata": {}, 
            "outputs": [
                {
                    "output_type": "display_data", 
                    "data": {
                        "text/html": "<HTML>\n        <body>\n            <h3>Schema of Payload_0530ab0cd4f4dd5486b19c08df8b6914</h3>\n            <table style='border: 1px solid #dddddd; font-family: Courier'>\n                <th style='border: 1px solid #dddddd'>name</th><th style='border: 1px solid #dddddd'>type</th><th style='border: 1px solid #dddddd'>nullable</th>\n                <tr><td style='border: 1px solid #dddddd'>scoring_id</td><td style='border: 1px solid #dddddd'>string</td><td style='border: 1px solid #dddddd'>False</td></tr><tr><td style='border: 1px solid #dddddd'>scoring_timestamp</td><td style='border: 1px solid #dddddd'>timestamp</td><td style='border: 1px solid #dddddd'>False</td></tr><tr><td style='border: 1px solid #dddddd'>deployment_id</td><td style='border: 1px solid #dddddd'>string</td><td style='border: 1px solid #dddddd'>False</td></tr><tr><td style='border: 1px solid #dddddd'>asset_revision</td><td style='border: 1px solid #dddddd'>string</td><td style='border: 1px solid #dddddd'>True</td></tr><tr><td style='border: 1px solid #dddddd'>radius_mean</td><td style='border: 1px solid #dddddd'>double</td><td style='border: 1px solid #dddddd'>True</td></tr><tr><td style='border: 1px solid #dddddd'>texture_mean</td><td style='border: 1px solid #dddddd'>double</td><td style='border: 1px solid #dddddd'>True</td></tr><tr><td style='border: 1px solid #dddddd'>perimeter_mean</td><td style='border: 1px solid #dddddd'>double</td><td style='border: 1px solid #dddddd'>True</td></tr><tr><td style='border: 1px solid #dddddd'>area_mean</td><td style='border: 1px solid #dddddd'>double</td><td style='border: 1px solid #dddddd'>True</td></tr><tr><td style='border: 1px solid #dddddd'>smoothness_mean</td><td style='border: 1px solid #dddddd'>double</td><td style='border: 1px solid #dddddd'>True</td></tr><tr><td style='border: 1px solid #dddddd'>compactness_mean</td><td style='border: 1px solid #dddddd'>double</td><td style='border: 1px solid #dddddd'>True</td></tr><tr><td style='border: 1px solid #dddddd'>concavity_mean</td><td style='border: 1px solid #dddddd'>double</td><td style='border: 1px solid #dddddd'>True</td></tr><tr><td style='border: 1px solid #dddddd'>concave points_mean</td><td style='border: 1px solid #dddddd'>double</td><td style='border: 1px solid #dddddd'>True</td></tr><tr><td style='border: 1px solid #dddddd'>symmetry_mean</td><td style='border: 1px solid #dddddd'>double</td><td style='border: 1px solid #dddddd'>True</td></tr><tr><td style='border: 1px solid #dddddd'>fractal_dimension_mean</td><td style='border: 1px solid #dddddd'>double</td><td style='border: 1px solid #dddddd'>True</td></tr><tr><td style='border: 1px solid #dddddd'>radius_se</td><td style='border: 1px solid #dddddd'>double</td><td style='border: 1px solid #dddddd'>True</td></tr><tr><td style='border: 1px solid #dddddd'>texture_se</td><td style='border: 1px solid #dddddd'>double</td><td style='border: 1px solid #dddddd'>True</td></tr><tr><td style='border: 1px solid #dddddd'>perimeter_se</td><td style='border: 1px solid #dddddd'>double</td><td style='border: 1px solid #dddddd'>True</td></tr><tr><td style='border: 1px solid #dddddd'>area_se</td><td style='border: 1px solid #dddddd'>double</td><td style='border: 1px solid #dddddd'>True</td></tr><tr><td style='border: 1px solid #dddddd'>smoothness_se</td><td style='border: 1px solid #dddddd'>double</td><td style='border: 1px solid #dddddd'>True</td></tr><tr><td style='border: 1px solid #dddddd'>compactness_se</td><td style='border: 1px solid #dddddd'>double</td><td style='border: 1px solid #dddddd'>True</td></tr><tr><td style='border: 1px solid #dddddd'>concavity_se</td><td style='border: 1px solid #dddddd'>double</td><td style='border: 1px solid #dddddd'>True</td></tr><tr><td style='border: 1px solid #dddddd'>concave points_se</td><td style='border: 1px solid #dddddd'>double</td><td style='border: 1px solid #dddddd'>True</td></tr><tr><td style='border: 1px solid #dddddd'>symmetry_se</td><td style='border: 1px solid #dddddd'>double</td><td style='border: 1px solid #dddddd'>True</td></tr><tr><td style='border: 1px solid #dddddd'>fractal_dimension_se</td><td style='border: 1px solid #dddddd'>double</td><td style='border: 1px solid #dddddd'>True</td></tr><tr><td style='border: 1px solid #dddddd'>radius_worst</td><td style='border: 1px solid #dddddd'>double</td><td style='border: 1px solid #dddddd'>True</td></tr><tr><td style='border: 1px solid #dddddd'>texture_worst</td><td style='border: 1px solid #dddddd'>double</td><td style='border: 1px solid #dddddd'>True</td></tr><tr><td style='border: 1px solid #dddddd'>perimeter_worst</td><td style='border: 1px solid #dddddd'>double</td><td style='border: 1px solid #dddddd'>True</td></tr><tr><td style='border: 1px solid #dddddd'>area_worst</td><td style='border: 1px solid #dddddd'>double</td><td style='border: 1px solid #dddddd'>True</td></tr><tr><td style='border: 1px solid #dddddd'>smoothness_worst</td><td style='border: 1px solid #dddddd'>double</td><td style='border: 1px solid #dddddd'>True</td></tr><tr><td style='border: 1px solid #dddddd'>compactness_worst</td><td style='border: 1px solid #dddddd'>double</td><td style='border: 1px solid #dddddd'>True</td></tr><tr><td style='border: 1px solid #dddddd'>concavity_worst</td><td style='border: 1px solid #dddddd'>double</td><td style='border: 1px solid #dddddd'>True</td></tr><tr><td style='border: 1px solid #dddddd'>concave points_worst</td><td style='border: 1px solid #dddddd'>double</td><td style='border: 1px solid #dddddd'>True</td></tr><tr><td style='border: 1px solid #dddddd'>symmetry_worst</td><td style='border: 1px solid #dddddd'>double</td><td style='border: 1px solid #dddddd'>True</td></tr><tr><td style='border: 1px solid #dddddd'>fractal_dimension_worst</td><td style='border: 1px solid #dddddd'>double</td><td style='border: 1px solid #dddddd'>True</td></tr><tr><td style='border: 1px solid #dddddd'>score</td><td style='border: 1px solid #dddddd'>{'containsNull': True, 'elementType': 'double', 'type': 'array'}</td><td style='border: 1px solid #dddddd'>True</td></tr><tr><td style='border: 1px solid #dddddd'>predicted_label</td><td style='border: 1px solid #dddddd'>double</td><td style='border: 1px solid #dddddd'>True</td></tr>\n            </table>\n        </body>\n        </HTML>", 
                        "text/plain": "<IPython.core.display.HTML object>"
                    }, 
                    "metadata": {}
                }
            ], 
            "source": "subscription.payload_logging.print_table_schema()"
        }, 
        {
            "source": "#### Show (preview) the table", 
            "cell_type": "markdown", 
            "metadata": {}
        }, 
        {
            "execution_count": 53, 
            "cell_type": "code", 
            "metadata": {}, 
            "outputs": [
                {
                    "output_type": "stream", 
                    "name": "stdout", 
                    "text": "        radius_mean  texture_mean  perimeter_mean     area_mean  \\\ncount  4.600000e+01  4.600000e+01    4.600000e+01  4.600000e+01   \nmean   1.702000e+01  2.398000e+01    1.128000e+02  8.993000e+02   \nstd    1.077591e-14  1.436789e-14    8.620731e-14  2.298862e-13   \nmin    1.702000e+01  2.398000e+01    1.128000e+02  8.993000e+02   \n25%    1.702000e+01  2.398000e+01    1.128000e+02  8.993000e+02   \n50%    1.702000e+01  2.398000e+01    1.128000e+02  8.993000e+02   \n75%    1.702000e+01  2.398000e+01    1.128000e+02  8.993000e+02   \nmax    1.702000e+01  2.398000e+01    1.128000e+02  8.993000e+02   \n\n       smoothness_mean  compactness_mean  concavity_mean  concave points_mean  \\\ncount     4.600000e+01      4.600000e+01    4.600000e+01         4.600000e+01   \nmean      1.197000e-01      1.496000e-01    2.417000e-01         1.203000e-01   \nstd       7.015569e-17      1.403114e-16    1.683737e-16         4.209341e-17   \nmin       1.197000e-01      1.496000e-01    2.417000e-01         1.203000e-01   \n25%       1.197000e-01      1.496000e-01    2.417000e-01         1.203000e-01   \n50%       1.197000e-01      1.496000e-01    2.417000e-01         1.203000e-01   \n75%       1.197000e-01      1.496000e-01    2.417000e-01         1.203000e-01   \nmax       1.197000e-01      1.496000e-01    2.417000e-01         1.203000e-01   \n\n       symmetry_mean  fractal_dimension_mean       ...         texture_worst  \\\ncount   4.600000e+01            4.600000e+01       ...          4.600000e+01   \nmean    2.248000e-01            6.382000e-02       ...          3.209000e+01   \nstd     8.418683e-17            7.015569e-17       ...          1.436789e-14   \nmin     2.248000e-01            6.382000e-02       ...          3.209000e+01   \n25%     2.248000e-01            6.382000e-02       ...          3.209000e+01   \n50%     2.248000e-01            6.382000e-02       ...          3.209000e+01   \n75%     2.248000e-01            6.382000e-02       ...          3.209000e+01   \nmax     2.248000e-01            6.382000e-02       ...          3.209000e+01   \n\n       perimeter_worst  area_worst  smoothness_worst  compactness_worst  \\\ncount     4.600000e+01        46.0      4.600000e+01       4.600000e+01   \nmean      1.361000e+02      1344.0      1.634000e-01       3.559000e-01   \nstd       8.620731e-14         0.0      1.683737e-16       5.612455e-17   \nmin       1.361000e+02      1344.0      1.634000e-01       3.559000e-01   \n25%       1.361000e+02      1344.0      1.634000e-01       3.559000e-01   \n50%       1.361000e+02      1344.0      1.634000e-01       3.559000e-01   \n75%       1.361000e+02      1344.0      1.634000e-01       3.559000e-01   \nmax       1.361000e+02      1344.0      1.634000e-01       3.559000e-01   \n\n       concavity_worst  concave points_worst  symmetry_worst  \\\ncount     4.600000e+01          4.600000e+01    4.600000e+01   \nmean      5.588000e-01          1.847000e-01    3.530000e-01   \nstd       4.489964e-16          8.418683e-17    1.683737e-16   \nmin       5.588000e-01          1.847000e-01    3.530000e-01   \n25%       5.588000e-01          1.847000e-01    3.530000e-01   \n50%       5.588000e-01          1.847000e-01    3.530000e-01   \n75%       5.588000e-01          1.847000e-01    3.530000e-01   \nmax       5.588000e-01          1.847000e-01    3.530000e-01   \n\n       fractal_dimension_worst  predicted_label  \ncount             4.600000e+01             46.0  \nmean              8.482000e-02              1.0  \nstd               8.418683e-17              0.0  \nmin               8.482000e-02              1.0  \n25%               8.482000e-02              1.0  \n50%               8.482000e-02              1.0  \n75%               8.482000e-02              1.0  \nmax               8.482000e-02              1.0  \n\n[8 rows x 31 columns]\n"
                }, 
                {
                    "execution_count": 53, 
                    "metadata": {}, 
                    "data": {
                        "text/html": "<div>\n<style scoped>\n    .dataframe tbody tr th:only-of-type {\n        vertical-align: middle;\n    }\n\n    .dataframe tbody tr th {\n        vertical-align: top;\n    }\n\n    .dataframe thead th {\n        text-align: right;\n    }\n</style>\n<table border=\"1\" class=\"dataframe\">\n  <thead>\n    <tr style=\"text-align: right;\">\n      <th></th>\n      <th>radius_mean</th>\n      <th>texture_mean</th>\n      <th>perimeter_mean</th>\n      <th>area_mean</th>\n      <th>smoothness_mean</th>\n      <th>compactness_mean</th>\n      <th>concavity_mean</th>\n      <th>concave points_mean</th>\n      <th>symmetry_mean</th>\n      <th>fractal_dimension_mean</th>\n      <th>...</th>\n      <th>texture_worst</th>\n      <th>perimeter_worst</th>\n      <th>area_worst</th>\n      <th>smoothness_worst</th>\n      <th>compactness_worst</th>\n      <th>concavity_worst</th>\n      <th>concave points_worst</th>\n      <th>symmetry_worst</th>\n      <th>fractal_dimension_worst</th>\n      <th>predicted_label</th>\n    </tr>\n  </thead>\n  <tbody>\n    <tr>\n      <th>count</th>\n      <td>4.600000e+01</td>\n      <td>4.600000e+01</td>\n      <td>4.600000e+01</td>\n      <td>4.600000e+01</td>\n      <td>4.600000e+01</td>\n      <td>4.600000e+01</td>\n      <td>4.600000e+01</td>\n      <td>4.600000e+01</td>\n      <td>4.600000e+01</td>\n      <td>4.600000e+01</td>\n      <td>...</td>\n      <td>4.600000e+01</td>\n      <td>4.600000e+01</td>\n      <td>46.0</td>\n      <td>4.600000e+01</td>\n      <td>4.600000e+01</td>\n      <td>4.600000e+01</td>\n      <td>4.600000e+01</td>\n      <td>4.600000e+01</td>\n      <td>4.600000e+01</td>\n      <td>46.0</td>\n    </tr>\n    <tr>\n      <th>mean</th>\n      <td>1.702000e+01</td>\n      <td>2.398000e+01</td>\n      <td>1.128000e+02</td>\n      <td>8.993000e+02</td>\n      <td>1.197000e-01</td>\n      <td>1.496000e-01</td>\n      <td>2.417000e-01</td>\n      <td>1.203000e-01</td>\n      <td>2.248000e-01</td>\n      <td>6.382000e-02</td>\n      <td>...</td>\n      <td>3.209000e+01</td>\n      <td>1.361000e+02</td>\n      <td>1344.0</td>\n      <td>1.634000e-01</td>\n      <td>3.559000e-01</td>\n      <td>5.588000e-01</td>\n      <td>1.847000e-01</td>\n      <td>3.530000e-01</td>\n      <td>8.482000e-02</td>\n      <td>1.0</td>\n    </tr>\n    <tr>\n      <th>std</th>\n      <td>1.077591e-14</td>\n      <td>1.436789e-14</td>\n      <td>8.620731e-14</td>\n      <td>2.298862e-13</td>\n      <td>7.015569e-17</td>\n      <td>1.403114e-16</td>\n      <td>1.683737e-16</td>\n      <td>4.209341e-17</td>\n      <td>8.418683e-17</td>\n      <td>7.015569e-17</td>\n      <td>...</td>\n      <td>1.436789e-14</td>\n      <td>8.620731e-14</td>\n      <td>0.0</td>\n      <td>1.683737e-16</td>\n      <td>5.612455e-17</td>\n      <td>4.489964e-16</td>\n      <td>8.418683e-17</td>\n      <td>1.683737e-16</td>\n      <td>8.418683e-17</td>\n      <td>0.0</td>\n    </tr>\n    <tr>\n      <th>min</th>\n      <td>1.702000e+01</td>\n      <td>2.398000e+01</td>\n      <td>1.128000e+02</td>\n      <td>8.993000e+02</td>\n      <td>1.197000e-01</td>\n      <td>1.496000e-01</td>\n      <td>2.417000e-01</td>\n      <td>1.203000e-01</td>\n      <td>2.248000e-01</td>\n      <td>6.382000e-02</td>\n      <td>...</td>\n      <td>3.209000e+01</td>\n      <td>1.361000e+02</td>\n      <td>1344.0</td>\n      <td>1.634000e-01</td>\n      <td>3.559000e-01</td>\n      <td>5.588000e-01</td>\n      <td>1.847000e-01</td>\n      <td>3.530000e-01</td>\n      <td>8.482000e-02</td>\n      <td>1.0</td>\n    </tr>\n    <tr>\n      <th>25%</th>\n      <td>1.702000e+01</td>\n      <td>2.398000e+01</td>\n      <td>1.128000e+02</td>\n      <td>8.993000e+02</td>\n      <td>1.197000e-01</td>\n      <td>1.496000e-01</td>\n      <td>2.417000e-01</td>\n      <td>1.203000e-01</td>\n      <td>2.248000e-01</td>\n      <td>6.382000e-02</td>\n      <td>...</td>\n      <td>3.209000e+01</td>\n      <td>1.361000e+02</td>\n      <td>1344.0</td>\n      <td>1.634000e-01</td>\n      <td>3.559000e-01</td>\n      <td>5.588000e-01</td>\n      <td>1.847000e-01</td>\n      <td>3.530000e-01</td>\n      <td>8.482000e-02</td>\n      <td>1.0</td>\n    </tr>\n    <tr>\n      <th>50%</th>\n      <td>1.702000e+01</td>\n      <td>2.398000e+01</td>\n      <td>1.128000e+02</td>\n      <td>8.993000e+02</td>\n      <td>1.197000e-01</td>\n      <td>1.496000e-01</td>\n      <td>2.417000e-01</td>\n      <td>1.203000e-01</td>\n      <td>2.248000e-01</td>\n      <td>6.382000e-02</td>\n      <td>...</td>\n      <td>3.209000e+01</td>\n      <td>1.361000e+02</td>\n      <td>1344.0</td>\n      <td>1.634000e-01</td>\n      <td>3.559000e-01</td>\n      <td>5.588000e-01</td>\n      <td>1.847000e-01</td>\n      <td>3.530000e-01</td>\n      <td>8.482000e-02</td>\n      <td>1.0</td>\n    </tr>\n    <tr>\n      <th>75%</th>\n      <td>1.702000e+01</td>\n      <td>2.398000e+01</td>\n      <td>1.128000e+02</td>\n      <td>8.993000e+02</td>\n      <td>1.197000e-01</td>\n      <td>1.496000e-01</td>\n      <td>2.417000e-01</td>\n      <td>1.203000e-01</td>\n      <td>2.248000e-01</td>\n      <td>6.382000e-02</td>\n      <td>...</td>\n      <td>3.209000e+01</td>\n      <td>1.361000e+02</td>\n      <td>1344.0</td>\n      <td>1.634000e-01</td>\n      <td>3.559000e-01</td>\n      <td>5.588000e-01</td>\n      <td>1.847000e-01</td>\n      <td>3.530000e-01</td>\n      <td>8.482000e-02</td>\n      <td>1.0</td>\n    </tr>\n    <tr>\n      <th>max</th>\n      <td>1.702000e+01</td>\n      <td>2.398000e+01</td>\n      <td>1.128000e+02</td>\n      <td>8.993000e+02</td>\n      <td>1.197000e-01</td>\n      <td>1.496000e-01</td>\n      <td>2.417000e-01</td>\n      <td>1.203000e-01</td>\n      <td>2.248000e-01</td>\n      <td>6.382000e-02</td>\n      <td>...</td>\n      <td>3.209000e+01</td>\n      <td>1.361000e+02</td>\n      <td>1344.0</td>\n      <td>1.634000e-01</td>\n      <td>3.559000e-01</td>\n      <td>5.588000e-01</td>\n      <td>1.847000e-01</td>\n      <td>3.530000e-01</td>\n      <td>8.482000e-02</td>\n      <td>1.0</td>\n    </tr>\n  </tbody>\n</table>\n<p>8 rows \u00d7 31 columns</p>\n</div>", 
                        "text/plain": "        radius_mean  texture_mean  perimeter_mean     area_mean  \\\ncount  4.600000e+01  4.600000e+01    4.600000e+01  4.600000e+01   \nmean   1.702000e+01  2.398000e+01    1.128000e+02  8.993000e+02   \nstd    1.077591e-14  1.436789e-14    8.620731e-14  2.298862e-13   \nmin    1.702000e+01  2.398000e+01    1.128000e+02  8.993000e+02   \n25%    1.702000e+01  2.398000e+01    1.128000e+02  8.993000e+02   \n50%    1.702000e+01  2.398000e+01    1.128000e+02  8.993000e+02   \n75%    1.702000e+01  2.398000e+01    1.128000e+02  8.993000e+02   \nmax    1.702000e+01  2.398000e+01    1.128000e+02  8.993000e+02   \n\n       smoothness_mean  compactness_mean  concavity_mean  concave points_mean  \\\ncount     4.600000e+01      4.600000e+01    4.600000e+01         4.600000e+01   \nmean      1.197000e-01      1.496000e-01    2.417000e-01         1.203000e-01   \nstd       7.015569e-17      1.403114e-16    1.683737e-16         4.209341e-17   \nmin       1.197000e-01      1.496000e-01    2.417000e-01         1.203000e-01   \n25%       1.197000e-01      1.496000e-01    2.417000e-01         1.203000e-01   \n50%       1.197000e-01      1.496000e-01    2.417000e-01         1.203000e-01   \n75%       1.197000e-01      1.496000e-01    2.417000e-01         1.203000e-01   \nmax       1.197000e-01      1.496000e-01    2.417000e-01         1.203000e-01   \n\n       symmetry_mean  fractal_dimension_mean       ...         texture_worst  \\\ncount   4.600000e+01            4.600000e+01       ...          4.600000e+01   \nmean    2.248000e-01            6.382000e-02       ...          3.209000e+01   \nstd     8.418683e-17            7.015569e-17       ...          1.436789e-14   \nmin     2.248000e-01            6.382000e-02       ...          3.209000e+01   \n25%     2.248000e-01            6.382000e-02       ...          3.209000e+01   \n50%     2.248000e-01            6.382000e-02       ...          3.209000e+01   \n75%     2.248000e-01            6.382000e-02       ...          3.209000e+01   \nmax     2.248000e-01            6.382000e-02       ...          3.209000e+01   \n\n       perimeter_worst  area_worst  smoothness_worst  compactness_worst  \\\ncount     4.600000e+01        46.0      4.600000e+01       4.600000e+01   \nmean      1.361000e+02      1344.0      1.634000e-01       3.559000e-01   \nstd       8.620731e-14         0.0      1.683737e-16       5.612455e-17   \nmin       1.361000e+02      1344.0      1.634000e-01       3.559000e-01   \n25%       1.361000e+02      1344.0      1.634000e-01       3.559000e-01   \n50%       1.361000e+02      1344.0      1.634000e-01       3.559000e-01   \n75%       1.361000e+02      1344.0      1.634000e-01       3.559000e-01   \nmax       1.361000e+02      1344.0      1.634000e-01       3.559000e-01   \n\n       concavity_worst  concave points_worst  symmetry_worst  \\\ncount     4.600000e+01          4.600000e+01    4.600000e+01   \nmean      5.588000e-01          1.847000e-01    3.530000e-01   \nstd       4.489964e-16          8.418683e-17    1.683737e-16   \nmin       5.588000e-01          1.847000e-01    3.530000e-01   \n25%       5.588000e-01          1.847000e-01    3.530000e-01   \n50%       5.588000e-01          1.847000e-01    3.530000e-01   \n75%       5.588000e-01          1.847000e-01    3.530000e-01   \nmax       5.588000e-01          1.847000e-01    3.530000e-01   \n\n       fractal_dimension_worst  predicted_label  \ncount             4.600000e+01             46.0  \nmean              8.482000e-02              1.0  \nstd               8.418683e-17              0.0  \nmin               8.482000e-02              1.0  \n25%               8.482000e-02              1.0  \n50%               8.482000e-02              1.0  \n75%               8.482000e-02              1.0  \nmax               8.482000e-02              1.0  \n\n[8 rows x 31 columns]"
                    }, 
                    "output_type": "execute_result"
                }
            ], 
            "source": "subscription.payload_logging.describe_table()"
        }, 
        {
            "source": "#### Return the table content as pandas dataframe", 
            "cell_type": "markdown", 
            "metadata": {}
        }, 
        {
            "execution_count": 54, 
            "cell_type": "code", 
            "metadata": {}, 
            "outputs": [], 
            "source": "pandas_df = subscription.payload_logging.get_table_content(format='pandas')"
        }, 
        {
            "source": "### 6.2 Feddback logging", 
            "cell_type": "markdown", 
            "metadata": {}
        }, 
        {
            "source": "Check the schema of table.", 
            "cell_type": "markdown", 
            "metadata": {}
        }, 
        {
            "execution_count": 55, 
            "cell_type": "code", 
            "metadata": {}, 
            "outputs": [
                {
                    "output_type": "display_data", 
                    "data": {
                        "text/html": "<HTML>\n        <body>\n            <h3>Schema of Feedback_0530ab0cd4f4dd5486b19c08df8b6914</h3>\n            <table style='border: 1px solid #dddddd; font-family: Courier'>\n                <th style='border: 1px solid #dddddd'>name</th><th style='border: 1px solid #dddddd'>type</th><th style='border: 1px solid #dddddd'>nullable</th>\n                <tr><td style='border: 1px solid #dddddd'>radius_mean</td><td style='border: 1px solid #dddddd'>double</td><td style='border: 1px solid #dddddd'>True</td></tr><tr><td style='border: 1px solid #dddddd'>texture_mean</td><td style='border: 1px solid #dddddd'>double</td><td style='border: 1px solid #dddddd'>True</td></tr><tr><td style='border: 1px solid #dddddd'>perimeter_mean</td><td style='border: 1px solid #dddddd'>double</td><td style='border: 1px solid #dddddd'>True</td></tr><tr><td style='border: 1px solid #dddddd'>area_mean</td><td style='border: 1px solid #dddddd'>double</td><td style='border: 1px solid #dddddd'>True</td></tr><tr><td style='border: 1px solid #dddddd'>smoothness_mean</td><td style='border: 1px solid #dddddd'>double</td><td style='border: 1px solid #dddddd'>True</td></tr><tr><td style='border: 1px solid #dddddd'>compactness_mean</td><td style='border: 1px solid #dddddd'>double</td><td style='border: 1px solid #dddddd'>True</td></tr><tr><td style='border: 1px solid #dddddd'>concavity_mean</td><td style='border: 1px solid #dddddd'>double</td><td style='border: 1px solid #dddddd'>True</td></tr><tr><td style='border: 1px solid #dddddd'>concave points_mean</td><td style='border: 1px solid #dddddd'>double</td><td style='border: 1px solid #dddddd'>True</td></tr><tr><td style='border: 1px solid #dddddd'>symmetry_mean</td><td style='border: 1px solid #dddddd'>double</td><td style='border: 1px solid #dddddd'>True</td></tr><tr><td style='border: 1px solid #dddddd'>fractal_dimension_mean</td><td style='border: 1px solid #dddddd'>double</td><td style='border: 1px solid #dddddd'>True</td></tr><tr><td style='border: 1px solid #dddddd'>radius_se</td><td style='border: 1px solid #dddddd'>double</td><td style='border: 1px solid #dddddd'>True</td></tr><tr><td style='border: 1px solid #dddddd'>texture_se</td><td style='border: 1px solid #dddddd'>double</td><td style='border: 1px solid #dddddd'>True</td></tr><tr><td style='border: 1px solid #dddddd'>perimeter_se</td><td style='border: 1px solid #dddddd'>double</td><td style='border: 1px solid #dddddd'>True</td></tr><tr><td style='border: 1px solid #dddddd'>area_se</td><td style='border: 1px solid #dddddd'>double</td><td style='border: 1px solid #dddddd'>True</td></tr><tr><td style='border: 1px solid #dddddd'>smoothness_se</td><td style='border: 1px solid #dddddd'>double</td><td style='border: 1px solid #dddddd'>True</td></tr><tr><td style='border: 1px solid #dddddd'>compactness_se</td><td style='border: 1px solid #dddddd'>double</td><td style='border: 1px solid #dddddd'>True</td></tr><tr><td style='border: 1px solid #dddddd'>concavity_se</td><td style='border: 1px solid #dddddd'>double</td><td style='border: 1px solid #dddddd'>True</td></tr><tr><td style='border: 1px solid #dddddd'>concave points_se</td><td style='border: 1px solid #dddddd'>double</td><td style='border: 1px solid #dddddd'>True</td></tr><tr><td style='border: 1px solid #dddddd'>symmetry_se</td><td style='border: 1px solid #dddddd'>double</td><td style='border: 1px solid #dddddd'>True</td></tr><tr><td style='border: 1px solid #dddddd'>fractal_dimension_se</td><td style='border: 1px solid #dddddd'>double</td><td style='border: 1px solid #dddddd'>True</td></tr><tr><td style='border: 1px solid #dddddd'>radius_worst</td><td style='border: 1px solid #dddddd'>double</td><td style='border: 1px solid #dddddd'>True</td></tr><tr><td style='border: 1px solid #dddddd'>texture_worst</td><td style='border: 1px solid #dddddd'>double</td><td style='border: 1px solid #dddddd'>True</td></tr><tr><td style='border: 1px solid #dddddd'>perimeter_worst</td><td style='border: 1px solid #dddddd'>double</td><td style='border: 1px solid #dddddd'>True</td></tr><tr><td style='border: 1px solid #dddddd'>area_worst</td><td style='border: 1px solid #dddddd'>double</td><td style='border: 1px solid #dddddd'>True</td></tr><tr><td style='border: 1px solid #dddddd'>smoothness_worst</td><td style='border: 1px solid #dddddd'>double</td><td style='border: 1px solid #dddddd'>True</td></tr><tr><td style='border: 1px solid #dddddd'>compactness_worst</td><td style='border: 1px solid #dddddd'>double</td><td style='border: 1px solid #dddddd'>True</td></tr><tr><td style='border: 1px solid #dddddd'>concavity_worst</td><td style='border: 1px solid #dddddd'>double</td><td style='border: 1px solid #dddddd'>True</td></tr><tr><td style='border: 1px solid #dddddd'>concave points_worst</td><td style='border: 1px solid #dddddd'>double</td><td style='border: 1px solid #dddddd'>True</td></tr><tr><td style='border: 1px solid #dddddd'>symmetry_worst</td><td style='border: 1px solid #dddddd'>double</td><td style='border: 1px solid #dddddd'>True</td></tr><tr><td style='border: 1px solid #dddddd'>fractal_dimension_worst</td><td style='border: 1px solid #dddddd'>double</td><td style='border: 1px solid #dddddd'>True</td></tr><tr><td style='border: 1px solid #dddddd'>diagnosis</td><td style='border: 1px solid #dddddd'>double</td><td style='border: 1px solid #dddddd'>True</td></tr><tr><td style='border: 1px solid #dddddd'>_training</td><td style='border: 1px solid #dddddd'>timestamp</td><td style='border: 1px solid #dddddd'>False</td></tr>\n            </table>\n        </body>\n        </HTML>", 
                        "text/plain": "<IPython.core.display.HTML object>"
                    }, 
                    "metadata": {}
                }
            ], 
            "source": "subscription.feedback_logging.print_table_schema()"
        }, 
        {
            "source": "Preview table content.", 
            "cell_type": "markdown", 
            "metadata": {}
        }, 
        {
            "execution_count": 56, 
            "cell_type": "code", 
            "metadata": {}, 
            "outputs": [
                {
                    "output_type": "display_data", 
                    "data": {
                        "text/html": "<HTML>\n        <body>\n            <h3>Feedback_0530ab0cd4f4dd5486b19c08df8b6914 (binding_id=e407d23c-dad5-4675-bb05-05180c6424f1, subscription_id=0530ab0cd4f4dd5486b19c08df8b6914)</h3>\n            <table style='border: 1px solid #dddddd; font-family: Courier'>\n                <th style='border: 1px solid #dddddd'>radius_mean</th><th style='border: 1px solid #dddddd'>texture_mean</th><th style='border: 1px solid #dddddd'>perimeter_mean</th><th style='border: 1px solid #dddddd'>area_mean</th><th style='border: 1px solid #dddddd'>smoothness_mean</th><th style='border: 1px solid #dddddd'>compactness_mean</th><th style='border: 1px solid #dddddd'>concavity_mean</th><th style='border: 1px solid #dddddd'>concave points_mean</th><th style='border: 1px solid #dddddd'>symmetry_mean</th><th style='border: 1px solid #dddddd'>fractal_dimension_mean</th><th style='border: 1px solid #dddddd'>radius_se</th><th style='border: 1px solid #dddddd'>texture_se</th><th style='border: 1px solid #dddddd'>perimeter_se</th><th style='border: 1px solid #dddddd'>area_se</th><th style='border: 1px solid #dddddd'>smoothness_se</th><th style='border: 1px solid #dddddd'>compactness_se</th><th style='border: 1px solid #dddddd'>concavity_se</th><th style='border: 1px solid #dddddd'>concave points_se</th><th style='border: 1px solid #dddddd'>symmetry_se</th><th style='border: 1px solid #dddddd'>fractal_dimension_se</th><th style='border: 1px solid #dddddd'>radius_worst</th><th style='border: 1px solid #dddddd'>texture_worst</th><th style='border: 1px solid #dddddd'>perimeter_worst</th><th style='border: 1px solid #dddddd'>area_worst</th><th style='border: 1px solid #dddddd'>smoothness_worst</th><th style='border: 1px solid #dddddd'>compactness_worst</th><th style='border: 1px solid #dddddd'>concavity_worst</th><th style='border: 1px solid #dddddd'>concave points_worst</th><th style='border: 1px solid #dddddd'>symmetry_worst</th><th style='border: 1px solid #dddddd'>fractal_dimension_worst</th><th style='border: 1px solid #dddddd'>diagnosis</th><th style='border: 1px solid #dddddd'>_training</th>\n                <tr><td style='border: 1px solid #dddddd'>17.02</td><td style='border: 1px solid #dddddd'>23.98</td><td style='border: 1px solid #dddddd'>112.8</td><td style='border: 1px solid #dddddd'>899.3</td><td style='border: 1px solid #dddddd'>0.1197</td><td style='border: 1px solid #dddddd'>0.1496</td><td style='border: 1px solid #dddddd'>0.2417</td><td style='border: 1px solid #dddddd'>0.1203</td><td style='border: 1px solid #dddddd'>0.2248</td><td style='border: 1px solid #dddddd'>0.06382</td><td style='border: 1px solid #dddddd'>0.6009</td><td style='border: 1px solid #dddddd'>1.398</td><td style='border: 1px solid #dddddd'>3.999</td><td style='border: 1px solid #dddddd'>67.78</td><td style='border: 1px solid #dddddd'>0.008268</td><td style='border: 1px solid #dddddd'>0.03082</td><td style='border: 1px solid #dddddd'>0.05042</td><td style='border: 1px solid #dddddd'>0.01112</td><td style='border: 1px solid #dddddd'>0.02102</td><td style='border: 1px solid #dddddd'>0.003854</td><td style='border: 1px solid #dddddd'>20.88</td><td style='border: 1px solid #dddddd'>32.09</td><td style='border: 1px solid #dddddd'>136.1</td><td style='border: 1px solid #dddddd'>1344.0</td><td style='border: 1px solid #dddddd'>0.1634</td><td style='border: 1px solid #dddddd'>0.3559</td><td style='border: 1px solid #dddddd'>0.5588</td><td style='border: 1px solid #dddddd'>0.1847</td><td style='border: 1px solid #dddddd'>0.353</td><td style='border: 1px solid #dddddd'>0.08482</td><td style='border: 1px solid #dddddd'>1.0</td><td style='border: 1px solid #dddddd'>2018-12-18 14:54:46.373000+00:00</td></tr><tr><td style='border: 1px solid #dddddd'>17.02</td><td style='border: 1px solid #dddddd'>23.98</td><td style='border: 1px solid #dddddd'>112.8</td><td style='border: 1px solid #dddddd'>899.3</td><td style='border: 1px solid #dddddd'>0.1197</td><td style='border: 1px solid #dddddd'>0.1496</td><td style='border: 1px solid #dddddd'>0.2417</td><td style='border: 1px solid #dddddd'>0.1203</td><td style='border: 1px solid #dddddd'>0.2248</td><td style='border: 1px solid #dddddd'>0.06382</td><td style='border: 1px solid #dddddd'>0.6009</td><td style='border: 1px solid #dddddd'>1.398</td><td style='border: 1px solid #dddddd'>3.999</td><td style='border: 1px solid #dddddd'>67.78</td><td style='border: 1px solid #dddddd'>0.008268</td><td style='border: 1px solid #dddddd'>0.03082</td><td style='border: 1px solid #dddddd'>0.05042</td><td style='border: 1px solid #dddddd'>0.01112</td><td style='border: 1px solid #dddddd'>0.02102</td><td style='border: 1px solid #dddddd'>0.003854</td><td style='border: 1px solid #dddddd'>20.88</td><td style='border: 1px solid #dddddd'>32.09</td><td style='border: 1px solid #dddddd'>136.1</td><td style='border: 1px solid #dddddd'>1344.0</td><td style='border: 1px solid #dddddd'>0.1634</td><td style='border: 1px solid #dddddd'>0.3559</td><td style='border: 1px solid #dddddd'>0.5588</td><td style='border: 1px solid #dddddd'>0.1847</td><td style='border: 1px solid #dddddd'>0.353</td><td style='border: 1px solid #dddddd'>0.08482</td><td style='border: 1px solid #dddddd'>1.0</td><td style='border: 1px solid #dddddd'>2018-12-18 14:54:46.373000+00:00</td></tr><tr><td style='border: 1px solid #dddddd'>17.02</td><td style='border: 1px solid #dddddd'>23.98</td><td style='border: 1px solid #dddddd'>112.8</td><td style='border: 1px solid #dddddd'>899.3</td><td style='border: 1px solid #dddddd'>0.1197</td><td style='border: 1px solid #dddddd'>0.1496</td><td style='border: 1px solid #dddddd'>0.2417</td><td style='border: 1px solid #dddddd'>0.1203</td><td style='border: 1px solid #dddddd'>0.2248</td><td style='border: 1px solid #dddddd'>0.06382</td><td style='border: 1px solid #dddddd'>0.6009</td><td style='border: 1px solid #dddddd'>1.398</td><td style='border: 1px solid #dddddd'>3.999</td><td style='border: 1px solid #dddddd'>67.78</td><td style='border: 1px solid #dddddd'>0.008268</td><td style='border: 1px solid #dddddd'>0.03082</td><td style='border: 1px solid #dddddd'>0.05042</td><td style='border: 1px solid #dddddd'>0.01112</td><td style='border: 1px solid #dddddd'>0.02102</td><td style='border: 1px solid #dddddd'>0.003854</td><td style='border: 1px solid #dddddd'>20.88</td><td style='border: 1px solid #dddddd'>32.09</td><td style='border: 1px solid #dddddd'>136.1</td><td style='border: 1px solid #dddddd'>1344.0</td><td style='border: 1px solid #dddddd'>0.1634</td><td style='border: 1px solid #dddddd'>0.3559</td><td style='border: 1px solid #dddddd'>0.5588</td><td style='border: 1px solid #dddddd'>0.1847</td><td style='border: 1px solid #dddddd'>0.353</td><td style='border: 1px solid #dddddd'>0.08482</td><td style='border: 1px solid #dddddd'>1.0</td><td style='border: 1px solid #dddddd'>2018-12-18 14:54:46.373000+00:00</td></tr><tr><td style='border: 1px solid #dddddd'>17.02</td><td style='border: 1px solid #dddddd'>23.98</td><td style='border: 1px solid #dddddd'>112.8</td><td style='border: 1px solid #dddddd'>899.3</td><td style='border: 1px solid #dddddd'>0.1197</td><td style='border: 1px solid #dddddd'>0.1496</td><td style='border: 1px solid #dddddd'>0.2417</td><td style='border: 1px solid #dddddd'>0.1203</td><td style='border: 1px solid #dddddd'>0.2248</td><td style='border: 1px solid #dddddd'>0.06382</td><td style='border: 1px solid #dddddd'>0.6009</td><td style='border: 1px solid #dddddd'>1.398</td><td style='border: 1px solid #dddddd'>3.999</td><td style='border: 1px solid #dddddd'>67.78</td><td style='border: 1px solid #dddddd'>0.008268</td><td style='border: 1px solid #dddddd'>0.03082</td><td style='border: 1px solid #dddddd'>0.05042</td><td style='border: 1px solid #dddddd'>0.01112</td><td style='border: 1px solid #dddddd'>0.02102</td><td style='border: 1px solid #dddddd'>0.003854</td><td style='border: 1px solid #dddddd'>20.88</td><td style='border: 1px solid #dddddd'>32.09</td><td style='border: 1px solid #dddddd'>136.1</td><td style='border: 1px solid #dddddd'>1344.0</td><td style='border: 1px solid #dddddd'>0.1634</td><td style='border: 1px solid #dddddd'>0.3559</td><td style='border: 1px solid #dddddd'>0.5588</td><td style='border: 1px solid #dddddd'>0.1847</td><td style='border: 1px solid #dddddd'>0.353</td><td style='border: 1px solid #dddddd'>0.08482</td><td style='border: 1px solid #dddddd'>1.0</td><td style='border: 1px solid #dddddd'>2018-12-18 14:54:46.373000+00:00</td></tr><tr><td style='border: 1px solid #dddddd'>17.02</td><td style='border: 1px solid #dddddd'>23.98</td><td style='border: 1px solid #dddddd'>112.8</td><td style='border: 1px solid #dddddd'>899.3</td><td style='border: 1px solid #dddddd'>0.1197</td><td style='border: 1px solid #dddddd'>0.1496</td><td style='border: 1px solid #dddddd'>0.2417</td><td style='border: 1px solid #dddddd'>0.1203</td><td style='border: 1px solid #dddddd'>0.2248</td><td style='border: 1px solid #dddddd'>0.06382</td><td style='border: 1px solid #dddddd'>0.6009</td><td style='border: 1px solid #dddddd'>1.398</td><td style='border: 1px solid #dddddd'>3.999</td><td style='border: 1px solid #dddddd'>67.78</td><td style='border: 1px solid #dddddd'>0.008268</td><td style='border: 1px solid #dddddd'>0.03082</td><td style='border: 1px solid #dddddd'>0.05042</td><td style='border: 1px solid #dddddd'>0.01112</td><td style='border: 1px solid #dddddd'>0.02102</td><td style='border: 1px solid #dddddd'>0.003854</td><td style='border: 1px solid #dddddd'>20.88</td><td style='border: 1px solid #dddddd'>32.09</td><td style='border: 1px solid #dddddd'>136.1</td><td style='border: 1px solid #dddddd'>1344.0</td><td style='border: 1px solid #dddddd'>0.1634</td><td style='border: 1px solid #dddddd'>0.3559</td><td style='border: 1px solid #dddddd'>0.5588</td><td style='border: 1px solid #dddddd'>0.1847</td><td style='border: 1px solid #dddddd'>0.353</td><td style='border: 1px solid #dddddd'>0.08482</td><td style='border: 1px solid #dddddd'>1.0</td><td style='border: 1px solid #dddddd'>2018-12-18 14:54:46.373000+00:00</td></tr><tr><td style='border: 1px solid #dddddd'>17.02</td><td style='border: 1px solid #dddddd'>23.98</td><td style='border: 1px solid #dddddd'>112.8</td><td style='border: 1px solid #dddddd'>899.3</td><td style='border: 1px solid #dddddd'>0.1197</td><td style='border: 1px solid #dddddd'>0.1496</td><td style='border: 1px solid #dddddd'>0.2417</td><td style='border: 1px solid #dddddd'>0.1203</td><td style='border: 1px solid #dddddd'>0.2248</td><td style='border: 1px solid #dddddd'>0.06382</td><td style='border: 1px solid #dddddd'>0.6009</td><td style='border: 1px solid #dddddd'>1.398</td><td style='border: 1px solid #dddddd'>3.999</td><td style='border: 1px solid #dddddd'>67.78</td><td style='border: 1px solid #dddddd'>0.008268</td><td style='border: 1px solid #dddddd'>0.03082</td><td style='border: 1px solid #dddddd'>0.05042</td><td style='border: 1px solid #dddddd'>0.01112</td><td style='border: 1px solid #dddddd'>0.02102</td><td style='border: 1px solid #dddddd'>0.003854</td><td style='border: 1px solid #dddddd'>20.88</td><td style='border: 1px solid #dddddd'>32.09</td><td style='border: 1px solid #dddddd'>136.1</td><td style='border: 1px solid #dddddd'>1344.0</td><td style='border: 1px solid #dddddd'>0.1634</td><td style='border: 1px solid #dddddd'>0.3559</td><td style='border: 1px solid #dddddd'>0.5588</td><td style='border: 1px solid #dddddd'>0.1847</td><td style='border: 1px solid #dddddd'>0.353</td><td style='border: 1px solid #dddddd'>0.08482</td><td style='border: 1px solid #dddddd'>1.0</td><td style='border: 1px solid #dddddd'>2018-12-18 14:54:46.373000+00:00</td></tr><tr><td style='border: 1px solid #dddddd'>17.02</td><td style='border: 1px solid #dddddd'>23.98</td><td style='border: 1px solid #dddddd'>112.8</td><td style='border: 1px solid #dddddd'>899.3</td><td style='border: 1px solid #dddddd'>0.1197</td><td style='border: 1px solid #dddddd'>0.1496</td><td style='border: 1px solid #dddddd'>0.2417</td><td style='border: 1px solid #dddddd'>0.1203</td><td style='border: 1px solid #dddddd'>0.2248</td><td style='border: 1px solid #dddddd'>0.06382</td><td style='border: 1px solid #dddddd'>0.6009</td><td style='border: 1px solid #dddddd'>1.398</td><td style='border: 1px solid #dddddd'>3.999</td><td style='border: 1px solid #dddddd'>67.78</td><td style='border: 1px solid #dddddd'>0.008268</td><td style='border: 1px solid #dddddd'>0.03082</td><td style='border: 1px solid #dddddd'>0.05042</td><td style='border: 1px solid #dddddd'>0.01112</td><td style='border: 1px solid #dddddd'>0.02102</td><td style='border: 1px solid #dddddd'>0.003854</td><td style='border: 1px solid #dddddd'>20.88</td><td style='border: 1px solid #dddddd'>32.09</td><td style='border: 1px solid #dddddd'>136.1</td><td style='border: 1px solid #dddddd'>1344.0</td><td style='border: 1px solid #dddddd'>0.1634</td><td style='border: 1px solid #dddddd'>0.3559</td><td style='border: 1px solid #dddddd'>0.5588</td><td style='border: 1px solid #dddddd'>0.1847</td><td style='border: 1px solid #dddddd'>0.353</td><td style='border: 1px solid #dddddd'>0.08482</td><td style='border: 1px solid #dddddd'>1.0</td><td style='border: 1px solid #dddddd'>2018-12-18 14:54:46.373000+00:00</td></tr><tr><td style='border: 1px solid #dddddd'>17.02</td><td style='border: 1px solid #dddddd'>23.98</td><td style='border: 1px solid #dddddd'>112.8</td><td style='border: 1px solid #dddddd'>899.3</td><td style='border: 1px solid #dddddd'>0.1197</td><td style='border: 1px solid #dddddd'>0.1496</td><td style='border: 1px solid #dddddd'>0.2417</td><td style='border: 1px solid #dddddd'>0.1203</td><td style='border: 1px solid #dddddd'>0.2248</td><td style='border: 1px solid #dddddd'>0.06382</td><td style='border: 1px solid #dddddd'>0.6009</td><td style='border: 1px solid #dddddd'>1.398</td><td style='border: 1px solid #dddddd'>3.999</td><td style='border: 1px solid #dddddd'>67.78</td><td style='border: 1px solid #dddddd'>0.008268</td><td style='border: 1px solid #dddddd'>0.03082</td><td style='border: 1px solid #dddddd'>0.05042</td><td style='border: 1px solid #dddddd'>0.01112</td><td style='border: 1px solid #dddddd'>0.02102</td><td style='border: 1px solid #dddddd'>0.003854</td><td style='border: 1px solid #dddddd'>20.88</td><td style='border: 1px solid #dddddd'>32.09</td><td style='border: 1px solid #dddddd'>136.1</td><td style='border: 1px solid #dddddd'>1344.0</td><td style='border: 1px solid #dddddd'>0.1634</td><td style='border: 1px solid #dddddd'>0.3559</td><td style='border: 1px solid #dddddd'>0.5588</td><td style='border: 1px solid #dddddd'>0.1847</td><td style='border: 1px solid #dddddd'>0.353</td><td style='border: 1px solid #dddddd'>0.08482</td><td style='border: 1px solid #dddddd'>1.0</td><td style='border: 1px solid #dddddd'>2018-12-18 14:54:46.373000+00:00</td></tr><tr><td style='border: 1px solid #dddddd'>17.02</td><td style='border: 1px solid #dddddd'>23.98</td><td style='border: 1px solid #dddddd'>112.8</td><td style='border: 1px solid #dddddd'>899.3</td><td style='border: 1px solid #dddddd'>0.1197</td><td style='border: 1px solid #dddddd'>0.1496</td><td style='border: 1px solid #dddddd'>0.2417</td><td style='border: 1px solid #dddddd'>0.1203</td><td style='border: 1px solid #dddddd'>0.2248</td><td style='border: 1px solid #dddddd'>0.06382</td><td style='border: 1px solid #dddddd'>0.6009</td><td style='border: 1px solid #dddddd'>1.398</td><td style='border: 1px solid #dddddd'>3.999</td><td style='border: 1px solid #dddddd'>67.78</td><td style='border: 1px solid #dddddd'>0.008268</td><td style='border: 1px solid #dddddd'>0.03082</td><td style='border: 1px solid #dddddd'>0.05042</td><td style='border: 1px solid #dddddd'>0.01112</td><td style='border: 1px solid #dddddd'>0.02102</td><td style='border: 1px solid #dddddd'>0.003854</td><td style='border: 1px solid #dddddd'>20.88</td><td style='border: 1px solid #dddddd'>32.09</td><td style='border: 1px solid #dddddd'>136.1</td><td style='border: 1px solid #dddddd'>1344.0</td><td style='border: 1px solid #dddddd'>0.1634</td><td style='border: 1px solid #dddddd'>0.3559</td><td style='border: 1px solid #dddddd'>0.5588</td><td style='border: 1px solid #dddddd'>0.1847</td><td style='border: 1px solid #dddddd'>0.353</td><td style='border: 1px solid #dddddd'>0.08482</td><td style='border: 1px solid #dddddd'>1.0</td><td style='border: 1px solid #dddddd'>2018-12-18 14:54:46.373000+00:00</td></tr>\n            </table>\n        </body>\n        </HTML>", 
                        "text/plain": "<IPython.core.display.HTML object>"
                    }, 
                    "metadata": {}
                }
            ], 
            "source": "subscription.feedback_logging.show_table()"
        }, 
        {
            "source": "Describe table (calulcate basic statistics).", 
            "cell_type": "markdown", 
            "metadata": {}
        }, 
        {
            "execution_count": 57, 
            "cell_type": "code", 
            "metadata": {}, 
            "outputs": [
                {
                    "output_type": "stream", 
                    "name": "stdout", 
                    "text": "       radius_mean  texture_mean  perimeter_mean     area_mean  \\\ncount         9.00  9.000000e+00    9.000000e+00  9.000000e+00   \nmean         17.02  2.398000e+01    1.128000e+02  8.993000e+02   \nstd           0.00  3.768222e-15    1.507289e-14  1.205831e-13   \nmin          17.02  2.398000e+01    1.128000e+02  8.993000e+02   \n25%          17.02  2.398000e+01    1.128000e+02  8.993000e+02   \n50%          17.02  2.398000e+01    1.128000e+02  8.993000e+02   \n75%          17.02  2.398000e+01    1.128000e+02  8.993000e+02   \nmax          17.02  2.398000e+01    1.128000e+02  8.993000e+02   \n\n       smoothness_mean  compactness_mean  concavity_mean  concave points_mean  \\\ncount     9.000000e+00      9.000000e+00          9.0000               9.0000   \nmean      1.197000e-01      1.496000e-01          0.2417               0.1203   \nstd       1.471962e-17      2.943923e-17          0.0000               0.0000   \nmin       1.197000e-01      1.496000e-01          0.2417               0.1203   \n25%       1.197000e-01      1.496000e-01          0.2417               0.1203   \n50%       1.197000e-01      1.496000e-01          0.2417               0.1203   \n75%       1.197000e-01      1.496000e-01          0.2417               0.1203   \nmax       1.197000e-01      1.496000e-01          0.2417               0.1203   \n\n       symmetry_mean  fractal_dimension_mean    ...      texture_worst  \\\ncount   9.000000e+00                 9.00000    ...               9.00   \nmean    2.248000e-01                 0.06382    ...              32.09   \nstd     5.887847e-17                 0.00000    ...               0.00   \nmin     2.248000e-01                 0.06382    ...              32.09   \n25%     2.248000e-01                 0.06382    ...              32.09   \n50%     2.248000e-01                 0.06382    ...              32.09   \n75%     2.248000e-01                 0.06382    ...              32.09   \nmax     2.248000e-01                 0.06382    ...              32.09   \n\n       perimeter_worst  area_worst  smoothness_worst  compactness_worst  \\\ncount              9.0         9.0            9.0000       9.000000e+00   \nmean             136.1      1344.0            0.1634       3.559000e-01   \nstd                0.0         0.0            0.0000       5.887847e-17   \nmin              136.1      1344.0            0.1634       3.559000e-01   \n25%              136.1      1344.0            0.1634       3.559000e-01   \n50%              136.1      1344.0            0.1634       3.559000e-01   \n75%              136.1      1344.0            0.1634       3.559000e-01   \nmax              136.1      1344.0            0.1634       3.559000e-01   \n\n       concavity_worst  concave points_worst  symmetry_worst  \\\ncount     9.000000e+00          9.000000e+00           9.000   \nmean      5.588000e-01          1.847000e-01           0.353   \nstd       1.177569e-16          2.943923e-17           0.000   \nmin       5.588000e-01          1.847000e-01           0.353   \n25%       5.588000e-01          1.847000e-01           0.353   \n50%       5.588000e-01          1.847000e-01           0.353   \n75%       5.588000e-01          1.847000e-01           0.353   \nmax       5.588000e-01          1.847000e-01           0.353   \n\n       fractal_dimension_worst  diagnosis  \ncount                  9.00000        9.0  \nmean                   0.08482        1.0  \nstd                    0.00000        0.0  \nmin                    0.08482        1.0  \n25%                    0.08482        1.0  \n50%                    0.08482        1.0  \n75%                    0.08482        1.0  \nmax                    0.08482        1.0  \n\n[8 rows x 31 columns]\n"
                }
            ], 
            "source": "subscription.feedback_logging.describe_table()"
        }, 
        {
            "source": "Get table content.", 
            "cell_type": "markdown", 
            "metadata": {}
        }, 
        {
            "execution_count": 58, 
            "cell_type": "code", 
            "metadata": {}, 
            "outputs": [], 
            "source": "feedback_pd = subscription.feedback_logging.get_table_content(format='pandas')"
        }, 
        {
            "source": "### 6.3 Quality metrics table", 
            "cell_type": "markdown", 
            "metadata": {}
        }, 
        {
            "execution_count": 59, 
            "cell_type": "code", 
            "metadata": {}, 
            "outputs": [
                {
                    "output_type": "display_data", 
                    "data": {
                        "text/html": "<HTML>\n        <body>\n            <h3>Schema of QualityMetrics</h3>\n            <table style='border: 1px solid #dddddd; font-family: Courier'>\n                <th style='border: 1px solid #dddddd'>name</th><th style='border: 1px solid #dddddd'>type</th><th style='border: 1px solid #dddddd'>nullable</th>\n                <tr><td style='border: 1px solid #dddddd'>ts</td><td style='border: 1px solid #dddddd'>timestamp</td><td style='border: 1px solid #dddddd'>False</td></tr><tr><td style='border: 1px solid #dddddd'>quality</td><td style='border: 1px solid #dddddd'>float</td><td style='border: 1px solid #dddddd'>False</td></tr><tr><td style='border: 1px solid #dddddd'>quality_threshold</td><td style='border: 1px solid #dddddd'>float</td><td style='border: 1px solid #dddddd'>False</td></tr><tr><td style='border: 1px solid #dddddd'>binding_id</td><td style='border: 1px solid #dddddd'>string</td><td style='border: 1px solid #dddddd'>False</td></tr><tr><td style='border: 1px solid #dddddd'>subscription_id</td><td style='border: 1px solid #dddddd'>string</td><td style='border: 1px solid #dddddd'>False</td></tr><tr><td style='border: 1px solid #dddddd'>deployment_id</td><td style='border: 1px solid #dddddd'>string</td><td style='border: 1px solid #dddddd'>True</td></tr><tr><td style='border: 1px solid #dddddd'>process</td><td style='border: 1px solid #dddddd'>string</td><td style='border: 1px solid #dddddd'>False</td></tr><tr><td style='border: 1px solid #dddddd'>asset_revision</td><td style='border: 1px solid #dddddd'>string</td><td style='border: 1px solid #dddddd'>True</td></tr>\n            </table>\n        </body>\n        </HTML>", 
                        "text/plain": "<IPython.core.display.HTML object>"
                    }, 
                    "metadata": {}
                }
            ], 
            "source": "subscription.quality_monitoring.print_table_schema()"
        }, 
        {
            "execution_count": 60, 
            "cell_type": "code", 
            "metadata": {}, 
            "outputs": [
                {
                    "output_type": "display_data", 
                    "data": {
                        "text/html": "<HTML>\n        <body>\n            <h3>QualityMetrics (binding_id=e407d23c-dad5-4675-bb05-05180c6424f1, subscription_id=0530ab0cd4f4dd5486b19c08df8b6914)</h3>\n            <table style='border: 1px solid #dddddd; font-family: Courier'>\n                <th style='border: 1px solid #dddddd'>ts</th><th style='border: 1px solid #dddddd'>quality</th><th style='border: 1px solid #dddddd'>quality_threshold</th><th style='border: 1px solid #dddddd'>binding_id</th><th style='border: 1px solid #dddddd'>subscription_id</th><th style='border: 1px solid #dddddd'>deployment_id</th><th style='border: 1px solid #dddddd'>process</th><th style='border: 1px solid #dddddd'>asset_revision</th>\n                <tr><td style='border: 1px solid #dddddd'>2018-12-18 14:55:14.589000+00:00</td><td style='border: 1px solid #dddddd'>1.0</td><td style='border: 1px solid #dddddd'>0.7</td><td style='border: 1px solid #dddddd'>e407d23c-dad5-4675-bb05-05180c6424f1</td><td style='border: 1px solid #dddddd'>0530ab0cd4f4dd5486b19c08df8b6914</td><td style='border: 1px solid #dddddd'>37a83f399e6dc3b9d08d7d01fe690665</td><td style='border: 1px solid #dddddd'>Accuracy_evaluation_7e20be61-a3a4-40ae-ae9e-b1ad3631ddc2</td><td style='border: 1px solid #dddddd'></td></tr>\n            </table>\n        </body>\n        </HTML>", 
                        "text/plain": "<IPython.core.display.HTML object>"
                    }, 
                    "metadata": {}
                }
            ], 
            "source": "subscription.quality_monitoring.show_table()"
        }, 
        {
            "source": "### 6.4 Performance metrics table", 
            "cell_type": "markdown", 
            "metadata": {}
        }, 
        {
            "execution_count": 61, 
            "cell_type": "code", 
            "metadata": {}, 
            "outputs": [
                {
                    "output_type": "display_data", 
                    "data": {
                        "text/html": "<HTML>\n        <body>\n            <h3>Schema of PerformanceMetrics</h3>\n            <table style='border: 1px solid #dddddd; font-family: Courier'>\n                <th style='border: 1px solid #dddddd'>name</th><th style='border: 1px solid #dddddd'>type</th><th style='border: 1px solid #dddddd'>nullable</th>\n                <tr><td style='border: 1px solid #dddddd'>ts</td><td style='border: 1px solid #dddddd'>timestamp</td><td style='border: 1px solid #dddddd'>False</td></tr><tr><td style='border: 1px solid #dddddd'>scoring_time</td><td style='border: 1px solid #dddddd'>float</td><td style='border: 1px solid #dddddd'>False</td></tr><tr><td style='border: 1px solid #dddddd'>scoring_records</td><td style='border: 1px solid #dddddd'>object</td><td style='border: 1px solid #dddddd'>False</td></tr><tr><td style='border: 1px solid #dddddd'>binding_id</td><td style='border: 1px solid #dddddd'>string</td><td style='border: 1px solid #dddddd'>False</td></tr><tr><td style='border: 1px solid #dddddd'>subscription_id</td><td style='border: 1px solid #dddddd'>string</td><td style='border: 1px solid #dddddd'>False</td></tr><tr><td style='border: 1px solid #dddddd'>deployment_id</td><td style='border: 1px solid #dddddd'>string</td><td style='border: 1px solid #dddddd'>True</td></tr><tr><td style='border: 1px solid #dddddd'>process</td><td style='border: 1px solid #dddddd'>string</td><td style='border: 1px solid #dddddd'>False</td></tr><tr><td style='border: 1px solid #dddddd'>asset_revision</td><td style='border: 1px solid #dddddd'>string</td><td style='border: 1px solid #dddddd'>True</td></tr>\n            </table>\n        </body>\n        </HTML>", 
                        "text/plain": "<IPython.core.display.HTML object>"
                    }, 
                    "metadata": {}
                }
            ], 
            "source": "subscription.performance_monitoring.print_table_schema()"
        }, 
        {
            "execution_count": 62, 
            "cell_type": "code", 
            "metadata": {}, 
            "outputs": [
                {
                    "output_type": "display_data", 
                    "data": {
                        "text/html": "<HTML>\n        <body>\n            <h3>PerformanceMetrics (binding_id=e407d23c-dad5-4675-bb05-05180c6424f1, subscription_id=0530ab0cd4f4dd5486b19c08df8b6914)</h3>\n            <table style='border: 1px solid #dddddd; font-family: Courier'>\n                <th style='border: 1px solid #dddddd'>ts</th><th style='border: 1px solid #dddddd'>scoring_time</th><th style='border: 1px solid #dddddd'>scoring_records</th><th style='border: 1px solid #dddddd'>binding_id</th><th style='border: 1px solid #dddddd'>subscription_id</th><th style='border: 1px solid #dddddd'>deployment_id</th><th style='border: 1px solid #dddddd'>process</th><th style='border: 1px solid #dddddd'>asset_revision</th>\n                <tr><td style='border: 1px solid #dddddd'>2018-12-18 14:52:32.576601+00:00</td><td style='border: 1px solid #dddddd'>0.0</td><td style='border: 1px solid #dddddd'>2</td><td style='border: 1px solid #dddddd'>e407d23c-dad5-4675-bb05-05180c6424f1</td><td style='border: 1px solid #dddddd'>0530ab0cd4f4dd5486b19c08df8b6914</td><td style='border: 1px solid #dddddd'>37a83f399e6dc3b9d08d7d01fe690665</td><td style='border: 1px solid #dddddd'></td><td style='border: 1px solid #dddddd'></td></tr><tr><td style='border: 1px solid #dddddd'>2018-12-18 14:52:32.576707+00:00</td><td style='border: 1px solid #dddddd'>0.0</td><td style='border: 1px solid #dddddd'>2</td><td style='border: 1px solid #dddddd'>e407d23c-dad5-4675-bb05-05180c6424f1</td><td style='border: 1px solid #dddddd'>0530ab0cd4f4dd5486b19c08df8b6914</td><td style='border: 1px solid #dddddd'>37a83f399e6dc3b9d08d7d01fe690665</td><td style='border: 1px solid #dddddd'></td><td style='border: 1px solid #dddddd'></td></tr><tr><td style='border: 1px solid #dddddd'>2018-12-18 14:52:32.576642+00:00</td><td style='border: 1px solid #dddddd'>0.0</td><td style='border: 1px solid #dddddd'>2</td><td style='border: 1px solid #dddddd'>e407d23c-dad5-4675-bb05-05180c6424f1</td><td style='border: 1px solid #dddddd'>0530ab0cd4f4dd5486b19c08df8b6914</td><td style='border: 1px solid #dddddd'>37a83f399e6dc3b9d08d7d01fe690665</td><td style='border: 1px solid #dddddd'></td><td style='border: 1px solid #dddddd'></td></tr><tr><td style='border: 1px solid #dddddd'>2018-12-18 14:52:32.576739+00:00</td><td style='border: 1px solid #dddddd'>0.0</td><td style='border: 1px solid #dddddd'>2</td><td style='border: 1px solid #dddddd'>e407d23c-dad5-4675-bb05-05180c6424f1</td><td style='border: 1px solid #dddddd'>0530ab0cd4f4dd5486b19c08df8b6914</td><td style='border: 1px solid #dddddd'>37a83f399e6dc3b9d08d7d01fe690665</td><td style='border: 1px solid #dddddd'></td><td style='border: 1px solid #dddddd'></td></tr><tr><td style='border: 1px solid #dddddd'>2018-12-18 14:52:32.576624+00:00</td><td style='border: 1px solid #dddddd'>0.0</td><td style='border: 1px solid #dddddd'>2</td><td style='border: 1px solid #dddddd'>e407d23c-dad5-4675-bb05-05180c6424f1</td><td style='border: 1px solid #dddddd'>0530ab0cd4f4dd5486b19c08df8b6914</td><td style='border: 1px solid #dddddd'>37a83f399e6dc3b9d08d7d01fe690665</td><td style='border: 1px solid #dddddd'></td><td style='border: 1px solid #dddddd'></td></tr><tr><td style='border: 1px solid #dddddd'>2018-12-18 14:52:32.576658+00:00</td><td style='border: 1px solid #dddddd'>0.0</td><td style='border: 1px solid #dddddd'>2</td><td style='border: 1px solid #dddddd'>e407d23c-dad5-4675-bb05-05180c6424f1</td><td style='border: 1px solid #dddddd'>0530ab0cd4f4dd5486b19c08df8b6914</td><td style='border: 1px solid #dddddd'>37a83f399e6dc3b9d08d7d01fe690665</td><td style='border: 1px solid #dddddd'></td><td style='border: 1px solid #dddddd'></td></tr><tr><td style='border: 1px solid #dddddd'>2018-12-18 14:52:32.576723+00:00</td><td style='border: 1px solid #dddddd'>0.0</td><td style='border: 1px solid #dddddd'>2</td><td style='border: 1px solid #dddddd'>e407d23c-dad5-4675-bb05-05180c6424f1</td><td style='border: 1px solid #dddddd'>0530ab0cd4f4dd5486b19c08df8b6914</td><td style='border: 1px solid #dddddd'>37a83f399e6dc3b9d08d7d01fe690665</td><td style='border: 1px solid #dddddd'></td><td style='border: 1px solid #dddddd'></td></tr><tr><td style='border: 1px solid #dddddd'>2018-12-18 14:52:32.576755+00:00</td><td style='border: 1px solid #dddddd'>0.0</td><td style='border: 1px solid #dddddd'>2</td><td style='border: 1px solid #dddddd'>e407d23c-dad5-4675-bb05-05180c6424f1</td><td style='border: 1px solid #dddddd'>0530ab0cd4f4dd5486b19c08df8b6914</td><td style='border: 1px solid #dddddd'>37a83f399e6dc3b9d08d7d01fe690665</td><td style='border: 1px solid #dddddd'></td><td style='border: 1px solid #dddddd'></td></tr><tr><td style='border: 1px solid #dddddd'>2018-12-18 14:52:32.576536+00:00</td><td style='border: 1px solid #dddddd'>0.0</td><td style='border: 1px solid #dddddd'>2</td><td style='border: 1px solid #dddddd'>e407d23c-dad5-4675-bb05-05180c6424f1</td><td style='border: 1px solid #dddddd'>0530ab0cd4f4dd5486b19c08df8b6914</td><td style='border: 1px solid #dddddd'>37a83f399e6dc3b9d08d7d01fe690665</td><td style='border: 1px solid #dddddd'></td><td style='border: 1px solid #dddddd'></td></tr><tr><td style='border: 1px solid #dddddd'>2018-12-18 14:52:32.576675+00:00</td><td style='border: 1px solid #dddddd'>0.0</td><td style='border: 1px solid #dddddd'>2</td><td style='border: 1px solid #dddddd'>e407d23c-dad5-4675-bb05-05180c6424f1</td><td style='border: 1px solid #dddddd'>0530ab0cd4f4dd5486b19c08df8b6914</td><td style='border: 1px solid #dddddd'>37a83f399e6dc3b9d08d7d01fe690665</td><td style='border: 1px solid #dddddd'></td><td style='border: 1px solid #dddddd'></td></tr>\n            </table>\n        </body>\n        </HTML>", 
                        "text/plain": "<IPython.core.display.HTML object>"
                    }, 
                    "metadata": {}
                }, 
                {
                    "output_type": "stream", 
                    "name": "stdout", 
                    "text": "Note: First 10 records were displayed.\n"
                }
            ], 
            "source": "subscription.performance_monitoring.show_table()"
        }, 
        {
            "source": "### 6.5 Data Mart measurement facts table", 
            "cell_type": "markdown", 
            "metadata": {}
        }, 
        {
            "execution_count": 63, 
            "cell_type": "code", 
            "metadata": {}, 
            "outputs": [
                {
                    "execution_count": 63, 
                    "metadata": {}, 
                    "data": {
                        "text/plain": "{'deployment_metrics': [{'asset': {'asset_id': '0530ab0cd4f4dd5486b19c08df8b6914',\n    'asset_type': 'model',\n    'created_at': '2018-10-10T14:31:44.348Z',\n    'name': 'DEMO-multi-classification-2018-10-10-14-26-26',\n    'url': 's3://sagemaker-us-east-1-014862798213/sagemaker/DEMO-breast-cancer-prediction/DEMO-multi-classification-2018-10-10-14-26-26/output/model.tar.gz'},\n   'deployment': {'created_at': '2018-10-10T14:39:21.421Z',\n    'deployment_id': '37a83f399e6dc3b9d08d7d01fe690665',\n    'deployment_type': 'online',\n    'name': 'DEMO-multi-classification-endpoint-201810101439',\n    'url': 'DEMO-multi-classification-endpoint-201810101439'},\n   'metrics': [{'issues': 0,\n     'metric_type': 'performance',\n     'timestamp': '2018-12-18T14:53:10.123340Z',\n     'value': {'records': 2, 'response_time': 250.0}},\n    {'issues': 0,\n     'metric_type': 'quality',\n     'timestamp': '2018-12-18T14:55:14.589Z',\n     'value': {'metrics': [{'name': 'weightedTruePositiveRate', 'value': 1.0},\n       {'name': 'accuracy', 'value': 1.0},\n       {'name': 'weightedFMeasure', 'value': 1.0},\n       {'name': 'weightedRecall', 'value': 1.0},\n       {'name': 'weightedFalsePositiveRate', 'value': None},\n       {'name': 'weightedPrecision', 'value': 1.0}],\n      'quality': 1.0,\n      'threshold': 0.7}}],\n   'subscription': {'subscription_id': '0530ab0cd4f4dd5486b19c08df8b6914',\n    'url': '/v1/data_marts/e3a38ab0-3884-454c-abc0-5e535eec36e6/service_bindings/e407d23c-dad5-4675-bb05-05180c6424f1/subscriptions/0530ab0cd4f4dd5486b19c08df8b6914'}}]}"
                    }, 
                    "output_type": "execute_result"
                }
            ], 
            "source": "client.data_mart.get_deployment_metrics()"
        }, 
        {
            "source": "---", 
            "cell_type": "markdown", 
            "metadata": {}
        }, 
        {
            "source": "### Authors\nLukasz Cmielowski, PhD, is an Automation Architect and Data Scientist at IBM with a track record of developing enterprise-level applications that substantially increases clients' ability to turn data into actionable knowledge.", 
            "cell_type": "markdown", 
            "metadata": {}
        }
    ], 
    "metadata": {
        "kernelspec": {
            "display_name": "Python 3.5", 
            "name": "python3", 
            "language": "python"
        }, 
        "language_info": {
            "mimetype": "text/x-python", 
            "nbconvert_exporter": "python", 
            "version": "3.5.5", 
            "name": "python", 
            "file_extension": ".py", 
            "pygments_lexer": "ipython3", 
            "codemirror_mode": {
                "version": 3, 
                "name": "ipython"
            }
        }
    }, 
    "nbformat": 4
}
