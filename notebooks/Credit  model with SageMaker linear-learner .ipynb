{
    "nbformat_minor": 2, 
    "cells": [
        {
            "source": "<img src=\"https://github.com/pmservice/ai-openscale-tutorials/raw/master/notebooks/images/banner.png\" align=\"left\" alt=\"banner\">", 
            "cell_type": "markdown", 
            "metadata": {}
        }, 
        {
            "source": "# Credit risk using SageMaker linear-learner", 
            "cell_type": "markdown", 
            "metadata": {}
        }, 
        {
            "source": "Contents\n- [0. Setup](#setup)\n- [1. Introduction](#introduction)\n- [2. Load and explore data](#load)\n- [3. Create logistic regression model using SageMaker linear-learner algorithm](#model)\n- [4. Deploy the SageMaker model in the AWS Cloud](#deployment)\n- [5. Score the model](#score)", 
            "cell_type": "markdown", 
            "metadata": {}
        }, 
        {
            "source": "**Note:** This notebook works correctly with kernel `Python 3.5+`.", 
            "cell_type": "markdown", 
            "metadata": {}
        }, 
        {
            "source": "<a id=\"setup\"></a>\n## 0. Setup", 
            "cell_type": "markdown", 
            "metadata": {}
        }, 
        {
            "source": "Before you use the sample code in this notebook, you must perform the following setup tasks:\n\n- Create a SageMaker Service, setting up steps described here: https://docs.aws.amazon.com/sagemaker/latest/dg/gs-set-up.html\n- Install reqiured python packages from PyPi repository", 
            "cell_type": "markdown", 
            "metadata": {}
        }, 
        {
            "source": "### Package installation", 
            "cell_type": "markdown", 
            "metadata": {}
        }, 
        {
            "execution_count": 1, 
            "cell_type": "code", 
            "metadata": {}, 
            "outputs": [
                {
                    "output_type": "stream", 
                    "name": "stdout", 
                    "text": "Requirement not upgraded as not directly required: six>=1.5 in /opt/conda/envs/DSX-Python35/lib/python3.5/site-packages (from python-dateutil<3.0.0,>=2.1; python_version >= \"2.7\"->botocore<1.13.0,>=1.12.94->boto3)\nRequirement not upgraded as not directly required: docker-pycreds>=0.4.0 in /opt/conda/envs/DSX-Python35/lib/python3.5/site-packages (from docker<4.0,>=3.6.0->docker-compose>=1.23.0->sagemaker)\nRequirement not upgraded as not directly required: six>=1.5 in /opt/conda/envs/DSX-Python35/lib/python3.5/site-packages (from python-dateutil>=2.5.0->pandas)\nRequirement not upgraded as not directly required: numpy>=1.8.2 in /opt/conda/envs/DSX-Python35/lib/python3.5/site-packages (from scikit_learn)\nRequirement not upgraded as not directly required: six in /opt/conda/envs/DSX-Python35/lib/python3.5/site-packages (from patsy>=0.4.1->category_encoders)\n"
                }
            ], 
            "source": "!pip install -U boto3 | tail -n 1\n!pip install -U sagemaker | tail -n 1\n!pip install -U pandas | tail -n 1\n!pip install -U scikit_learn | tail -n 1\n!pip install -U category_encoders | tail -n 1"
        }, 
        {
            "source": "<a id=\"introduction\"></a>\n## 1. Introduction\n\nThis notebook defines, trains and deploys the model predicting risk for credit.", 
            "cell_type": "markdown", 
            "metadata": {}
        }, 
        {
            "source": "<a id=\"load\"></a>\n## 2. Load and explore data", 
            "cell_type": "markdown", 
            "metadata": {}
        }, 
        {
            "source": "In this section you will prepare your data for training using SageMaker linear-learner algorithm.\n\n- [2.1 Load data from github repository](#download_github)\n- [2.2 Explore data](#explore)\n- [2.3 Store training data in S3 Object Storage](#upload_s3)", 
            "cell_type": "markdown", 
            "metadata": {}
        }, 
        {
            "source": "<a id=\"download_github\"></a>\n### 2.1 Load data from github repository", 
            "cell_type": "markdown", 
            "metadata": {}
        }, 
        {
            "execution_count": 2, 
            "cell_type": "code", 
            "metadata": {}, 
            "outputs": [], 
            "source": "import numpy as np\nimport pandas as pd"
        }, 
        {
            "execution_count": 3, 
            "cell_type": "code", 
            "metadata": {
                "scrolled": true
            }, 
            "outputs": [], 
            "source": "data = pd.read_csv('https://raw.githubusercontent.com/pmservice/wml-sample-models/master/spark/credit-risk/data/credit_risk_training.csv')"
        }, 
        {
            "source": "<a id=\"explore\"></a>\n### 2.2 Explore data", 
            "cell_type": "markdown", 
            "metadata": {}
        }, 
        {
            "execution_count": 4, 
            "cell_type": "code", 
            "metadata": {}, 
            "outputs": [
                {
                    "output_type": "stream", 
                    "name": "stdout", 
                    "text": "Sample records:\n"
                }, 
                {
                    "output_type": "display_data", 
                    "data": {
                        "text/html": "<div>\n<style scoped>\n    .dataframe tbody tr th:only-of-type {\n        vertical-align: middle;\n    }\n\n    .dataframe tbody tr th {\n        vertical-align: top;\n    }\n\n    .dataframe thead th {\n        text-align: right;\n    }\n</style>\n<table border=\"1\" class=\"dataframe\">\n  <thead>\n    <tr style=\"text-align: right;\">\n      <th></th>\n      <th>CheckingStatus</th>\n      <th>LoanDuration</th>\n      <th>CreditHistory</th>\n      <th>LoanPurpose</th>\n      <th>LoanAmount</th>\n      <th>ExistingSavings</th>\n      <th>EmploymentDuration</th>\n      <th>InstallmentPercent</th>\n      <th>Sex</th>\n      <th>OthersOnLoan</th>\n      <th>...</th>\n      <th>OwnsProperty</th>\n      <th>Age</th>\n      <th>InstallmentPlans</th>\n      <th>Housing</th>\n      <th>ExistingCreditsCount</th>\n      <th>Job</th>\n      <th>Dependents</th>\n      <th>Telephone</th>\n      <th>ForeignWorker</th>\n      <th>Risk</th>\n    </tr>\n  </thead>\n  <tbody>\n    <tr>\n      <th>0</th>\n      <td>0_to_200</td>\n      <td>31</td>\n      <td>credits_paid_to_date</td>\n      <td>other</td>\n      <td>1889</td>\n      <td>100_to_500</td>\n      <td>less_1</td>\n      <td>3</td>\n      <td>female</td>\n      <td>none</td>\n      <td>...</td>\n      <td>savings_insurance</td>\n      <td>32</td>\n      <td>none</td>\n      <td>own</td>\n      <td>1</td>\n      <td>skilled</td>\n      <td>1</td>\n      <td>none</td>\n      <td>yes</td>\n      <td>No Risk</td>\n    </tr>\n    <tr>\n      <th>1</th>\n      <td>less_0</td>\n      <td>18</td>\n      <td>credits_paid_to_date</td>\n      <td>car_new</td>\n      <td>462</td>\n      <td>less_100</td>\n      <td>1_to_4</td>\n      <td>2</td>\n      <td>female</td>\n      <td>none</td>\n      <td>...</td>\n      <td>savings_insurance</td>\n      <td>37</td>\n      <td>stores</td>\n      <td>own</td>\n      <td>2</td>\n      <td>skilled</td>\n      <td>1</td>\n      <td>none</td>\n      <td>yes</td>\n      <td>No Risk</td>\n    </tr>\n    <tr>\n      <th>2</th>\n      <td>less_0</td>\n      <td>15</td>\n      <td>prior_payments_delayed</td>\n      <td>furniture</td>\n      <td>250</td>\n      <td>less_100</td>\n      <td>1_to_4</td>\n      <td>2</td>\n      <td>male</td>\n      <td>none</td>\n      <td>...</td>\n      <td>real_estate</td>\n      <td>28</td>\n      <td>none</td>\n      <td>own</td>\n      <td>2</td>\n      <td>skilled</td>\n      <td>1</td>\n      <td>yes</td>\n      <td>no</td>\n      <td>No Risk</td>\n    </tr>\n    <tr>\n      <th>3</th>\n      <td>0_to_200</td>\n      <td>28</td>\n      <td>credits_paid_to_date</td>\n      <td>retraining</td>\n      <td>3693</td>\n      <td>less_100</td>\n      <td>greater_7</td>\n      <td>3</td>\n      <td>male</td>\n      <td>none</td>\n      <td>...</td>\n      <td>savings_insurance</td>\n      <td>32</td>\n      <td>none</td>\n      <td>own</td>\n      <td>1</td>\n      <td>skilled</td>\n      <td>1</td>\n      <td>none</td>\n      <td>yes</td>\n      <td>No Risk</td>\n    </tr>\n    <tr>\n      <th>4</th>\n      <td>no_checking</td>\n      <td>28</td>\n      <td>prior_payments_delayed</td>\n      <td>education</td>\n      <td>6235</td>\n      <td>500_to_1000</td>\n      <td>greater_7</td>\n      <td>3</td>\n      <td>male</td>\n      <td>none</td>\n      <td>...</td>\n      <td>unknown</td>\n      <td>57</td>\n      <td>none</td>\n      <td>own</td>\n      <td>2</td>\n      <td>skilled</td>\n      <td>1</td>\n      <td>none</td>\n      <td>yes</td>\n      <td>Risk</td>\n    </tr>\n  </tbody>\n</table>\n<p>5 rows \u00d7 21 columns</p>\n</div>", 
                        "text/plain": "  CheckingStatus  LoanDuration           CreditHistory LoanPurpose  \\\n0       0_to_200            31    credits_paid_to_date       other   \n1         less_0            18    credits_paid_to_date     car_new   \n2         less_0            15  prior_payments_delayed   furniture   \n3       0_to_200            28    credits_paid_to_date  retraining   \n4    no_checking            28  prior_payments_delayed   education   \n\n   LoanAmount ExistingSavings EmploymentDuration  InstallmentPercent     Sex  \\\n0        1889      100_to_500             less_1                   3  female   \n1         462        less_100             1_to_4                   2  female   \n2         250        less_100             1_to_4                   2    male   \n3        3693        less_100          greater_7                   3    male   \n4        6235     500_to_1000          greater_7                   3    male   \n\n  OthersOnLoan  ...       OwnsProperty Age  InstallmentPlans Housing  \\\n0         none  ...  savings_insurance  32              none     own   \n1         none  ...  savings_insurance  37            stores     own   \n2         none  ...        real_estate  28              none     own   \n3         none  ...  savings_insurance  32              none     own   \n4         none  ...            unknown  57              none     own   \n\n  ExistingCreditsCount      Job Dependents  Telephone ForeignWorker     Risk  \n0                    1  skilled          1       none           yes  No Risk  \n1                    2  skilled          1       none           yes  No Risk  \n2                    2  skilled          1        yes            no  No Risk  \n3                    1  skilled          1       none           yes  No Risk  \n4                    2  skilled          1       none           yes     Risk  \n\n[5 rows x 21 columns]"
                    }, 
                    "metadata": {}
                }, 
                {
                    "output_type": "stream", 
                    "name": "stdout", 
                    "text": "Label column summary:\n"
                }, 
                {
                    "output_type": "display_data", 
                    "data": {
                        "text/plain": "No Risk    3330\nRisk       1670\nName: Risk, dtype: int64"
                    }, 
                    "metadata": {}
                }
            ], 
            "source": "print(\"Sample records:\")\ndisplay(data.head())\n\nprint(\"Label column summary:\")\ndisplay(data.Risk.value_counts())"
        }, 
        {
            "source": "<a id=\"upload_s3\"></a>\n### 2.3 Store training data in S3 Object Storage", 
            "cell_type": "markdown", 
            "metadata": {}
        }, 
        {
            "source": "You will use SageMaker build-in linear-learner algorithm. This algorithm expects first column to be the label when training data is in `text/csv` format.\n\nMoreover label column have to be numeric, so you will recode it.", 
            "cell_type": "markdown", 
            "metadata": {}
        }, 
        {
            "source": "#### Save prepared data to local filesystem", 
            "cell_type": "markdown", 
            "metadata": {}
        }, 
        {
            "execution_count": 5, 
            "cell_type": "code", 
            "metadata": {}, 
            "outputs": [], 
            "source": "string_columns = [idx for idx, ty in enumerate(data[0:-1].dtypes.tolist()) if ty is np.dtype('O')]\nnumeric_columns = list(set(range(len(data[0:-1].columns) - 1)) - set(string_columns))"
        }, 
        {
            "execution_count": 6, 
            "cell_type": "code", 
            "metadata": {}, 
            "outputs": [], 
            "source": "data_recoded = pd.concat([data.iloc[:, -1], pd.get_dummies(data.iloc[:, string_columns]), data.iloc[:, numeric_columns]], axis=1)\ndata_recoded.replace({'Risk': {'Risk': 1, 'No Risk': 0}}, inplace = True)"
        }, 
        {
            "execution_count": 7, 
            "cell_type": "code", 
            "metadata": {}, 
            "outputs": [], 
            "source": "train_data_filename = 'credit_risk.csv'\ndata_recoded.to_csv(path_or_buf = train_data_filename, index = False, header = False)"
        }, 
        {
            "source": "**Note:** Header row have to be omitted. First column have to be target.", 
            "cell_type": "markdown", 
            "metadata": {}
        }, 
        {
            "execution_count": 29, 
            "cell_type": "code", 
            "metadata": {}, 
            "outputs": [
                {
                    "output_type": "stream", 
                    "name": "stdout", 
                    "text": "['Risk', 'CheckingStatus_0_to_200', 'CheckingStatus_greater_200', 'CheckingStatus_less_0', 'CheckingStatus_no_checking', 'CreditHistory_all_credits_paid_back', 'CreditHistory_credits_paid_to_date', 'CreditHistory_no_credits', 'CreditHistory_outstanding_credit', 'CreditHistory_prior_payments_delayed', 'LoanPurpose_appliances', 'LoanPurpose_business', 'LoanPurpose_car_new', 'LoanPurpose_car_used', 'LoanPurpose_education', 'LoanPurpose_furniture', 'LoanPurpose_other', 'LoanPurpose_radio_tv', 'LoanPurpose_repairs', 'LoanPurpose_retraining', 'LoanPurpose_vacation', 'ExistingSavings_100_to_500', 'ExistingSavings_500_to_1000', 'ExistingSavings_greater_1000', 'ExistingSavings_less_100', 'ExistingSavings_unknown', 'EmploymentDuration_1_to_4', 'EmploymentDuration_4_to_7', 'EmploymentDuration_greater_7', 'EmploymentDuration_less_1', 'EmploymentDuration_unemployed', 'Sex_female', 'Sex_male', 'OthersOnLoan_co-applicant', 'OthersOnLoan_guarantor', 'OthersOnLoan_none', 'OwnsProperty_car_other', 'OwnsProperty_real_estate', 'OwnsProperty_savings_insurance', 'OwnsProperty_unknown', 'InstallmentPlans_bank', 'InstallmentPlans_none', 'InstallmentPlans_stores', 'Housing_free', 'Housing_own', 'Housing_rent', 'Job_management_self-employed', 'Job_skilled', 'Job_unemployed', 'Job_unskilled', 'Telephone_none', 'Telephone_yes', 'ForeignWorker_no', 'ForeignWorker_yes', 'Risk_No Risk', 'Risk_Risk', 'LoanDuration', 'LoanAmount', 'InstallmentPercent', 'CurrentResidenceDuration', 'Age', 'ExistingCreditsCount', 'Dependents']\n"
                }
            ], 
            "source": "print(data_recoded.columns.tolist())"
        }, 
        {
            "source": "#### Upload data to S3 Object Storage", 
            "cell_type": "markdown", 
            "metadata": {}
        }, 
        {
            "execution_count": 8, 
            "cell_type": "code", 
            "metadata": {}, 
            "outputs": [], 
            "source": "import time\nimport json\nimport boto3"
        }, 
        {
            "execution_count": 9, 
            "cell_type": "code", 
            "metadata": {}, 
            "outputs": [], 
            "source": "aws_credentials = {'access_key': '***', \n                   'secret_key': '***', \n                   'region_name': '***'}"
        }, 
        {
            "source": "**Note:** You have to provide credentials from your Amazon account.", 
            "cell_type": "markdown", 
            "metadata": {}
        }, 
        {
            "execution_count": 10, 
            "cell_type": "code", 
            "metadata": {}, 
            "outputs": [], 
            "source": "# The code was removed by Watson Studio for sharing."
        }, 
        {
            "execution_count": 11, 
            "cell_type": "code", 
            "metadata": {}, 
            "outputs": [], 
            "source": "session = boto3.Session(\n    aws_access_key_id = aws_credentials['access_key'],\n    aws_secret_access_key = aws_credentials['secret_key'],\n    region_name = aws_credentials['region_name']\n)\ns3 = session.resource('s3')"
        }, 
        {
            "source": "**Note:** You have to replace `bucket_name` with name of bucket in your S3 Object Storage and path where training data will be stored.\n\n**Tip:** You can run following code `[bkt.name for bkt in s3.buckets.all()]` to list all your buckets.", 
            "cell_type": "markdown", 
            "metadata": {}
        }, 
        {
            "execution_count": 12, 
            "cell_type": "code", 
            "metadata": {}, 
            "outputs": [], 
            "source": "bucket_name = '***'\ntrain_data_path = '***'"
        }, 
        {
            "execution_count": 13, 
            "cell_type": "code", 
            "metadata": {}, 
            "outputs": [], 
            "source": "# The code was removed by Watson Studio for sharing."
        }, 
        {
            "execution_count": 14, 
            "cell_type": "code", 
            "metadata": {}, 
            "outputs": [], 
            "source": "output_data_path = 's3://{}/credit-risk/output'.format(bucket_name)\ntime_suffix = time.strftime(\"%Y-%m-%d-%H-%M\", time.gmtime())"
        }, 
        {
            "execution_count": 15, 
            "cell_type": "code", 
            "metadata": {}, 
            "outputs": [], 
            "source": "s3_bucket = s3.Bucket(bucket_name)\ns3_bucket.upload_file(Filename = train_data_filename, Key = '{}/{}'.format(train_data_path, train_data_filename))"
        }, 
        {
            "source": "Let's check if your data have been uploaded successfully.", 
            "cell_type": "markdown", 
            "metadata": {}
        }, 
        {
            "execution_count": 16, 
            "cell_type": "code", 
            "metadata": {}, 
            "outputs": [
                {
                    "output_type": "stream", 
                    "name": "stdout", 
                    "text": "s3://sagemaker-us-east-1-014862798213/credit-risk/train/credit_risk.csv\n"
                }
            ], 
            "source": "for s3_obj in s3_bucket.objects.all():\n    if (s3_obj.bucket_name == bucket_name) and (train_data_path in s3_obj.key):\n        train_data_uri = 's3://{}/{}'.format(s3_obj.bucket_name, s3_obj.key)\n        print(train_data_uri)"
        }, 
        {
            "source": "<a id=\"model\"></a>\n## 3. Create logistic regression model using SageMaker linear-learner algorithm\n\nIn this section you will learn how to:\n\n- [3.1 Setup training parameters](#prep)\n- [3.2 Start training job](#train)", 
            "cell_type": "markdown", 
            "metadata": {}
        }, 
        {
            "source": "<a id=\"prep\"></a>\n### 3.1 Setup training parameters", 
            "cell_type": "markdown", 
            "metadata": {}
        }, 
        {
            "execution_count": 17, 
            "cell_type": "code", 
            "metadata": {}, 
            "outputs": [], 
            "source": "from sagemaker.amazon.amazon_estimator import get_image_uri\n\nsm_client = session.client('sagemaker')"
        }, 
        {
            "execution_count": 18, 
            "cell_type": "code", 
            "metadata": {}, 
            "outputs": [], 
            "source": "training_image = get_image_uri(session.region_name, 'linear-learner')\n\niam_client = session.client('iam')\n[role_arn, *_] = [role['Arn'] for role in iam_client.list_roles()['Roles'] if 'AmazonSageMaker-ExecutionRole' in role['RoleName']]\n\nlinear_job_name = 'Credit-risk-linear-learner-' + time_suffix"
        }, 
        {
            "execution_count": 19, 
            "cell_type": "code", 
            "metadata": {}, 
            "outputs": [], 
            "source": "linear_training_params = {\n    \"AlgorithmSpecification\": {\n        \"TrainingImage\": training_image,\n        \"TrainingInputMode\": \"File\"\n    },\n    \"HyperParameters\": {\n        \"feature_dim\": str(data_recoded.shape[1] - 1),\n        \"mini_batch_size\": \"100\",\n        \"predictor_type\": \"binary_classifier\",\n        \"epochs\": \"10\",\n        \"num_models\": \"32\",\n        \"loss\": \"auto\"\n    },\n    \"InputDataConfig\": [{\n        \"ChannelName\": \"train\",\n        \"ContentType\": \"text/csv\", \n        \"DataSource\": {\n            \"S3DataSource\": {\n                \"S3DataType\": \"S3Prefix\",\n                \"S3Uri\": train_data_uri,\n                \"S3DataDistributionType\": \"ShardedByS3Key\"\n            }\n        }\n    }],\n    \"OutputDataConfig\": {\"S3OutputPath\": output_data_path},\n    \"ResourceConfig\": {\n        \"InstanceCount\": 1,\n        \"InstanceType\": \"ml.c4.xlarge\",\n        \"VolumeSizeInGB\": 2\n    },\n    \"RoleArn\": role_arn,\n    \"StoppingCondition\": {\n        \"MaxRuntimeInSeconds\": 6 * 60\n    },\n    \"TrainingJobName\": linear_job_name\n\n}"
        }, 
        {
            "source": "<a id=\"train\"></a>\n### 3.2 Start training job", 
            "cell_type": "markdown", 
            "metadata": {}
        }, 
        {
            "execution_count": 20, 
            "cell_type": "code", 
            "metadata": {}, 
            "outputs": [
                {
                    "execution_count": 20, 
                    "metadata": {}, 
                    "data": {
                        "text/plain": "{'ResponseMetadata': {'HTTPHeaders': {'content-length': '118',\n   'content-type': 'application/x-amz-json-1.1',\n   'date': 'Thu, 14 Feb 2019 15:20:24 GMT',\n   'x-amzn-requestid': 'f8ad3085-9ba5-4a93-b29a-049cfd0943dd'},\n  'HTTPStatusCode': 200,\n  'RequestId': 'f8ad3085-9ba5-4a93-b29a-049cfd0943dd',\n  'RetryAttempts': 0},\n 'TrainingJobArn': 'arn:aws:sagemaker:us-east-1:014862798213:training-job/credit-risk-linear-learner-2019-02-14-15-20'}"
                    }, 
                    "output_type": "execute_result"
                }
            ], 
            "source": "sm_client.create_training_job(**linear_training_params)"
        }, 
        {
            "execution_count": 21, 
            "cell_type": "code", 
            "metadata": {}, 
            "outputs": [
                {
                    "output_type": "stream", 
                    "name": "stdout", 
                    "text": "arn:aws:sagemaker:us-east-1:014862798213:training-job/credit-risk-linear-learner-2019-02-14-15-20\ns3://sagemaker-us-east-1-014862798213/credit-risk/output/Credit-risk-linear-learner-2019-02-14-15-20/output/model.tar.gz\n"
                }
            ], 
            "source": "try:\n    sm_client.get_waiter('training_job_completed_or_stopped').wait(TrainingJobName = linear_job_name)\nexcept Exception:\n    print('Traing job error.')\n\ntrain_job_details = sm_client.describe_training_job(TrainingJobName = linear_job_name)\ntrain_job_status = train_job_details['TrainingJobStatus']\n\nif train_job_status == 'Failed':\n    print(train_job_details['FailureReason'])\nelse:\n    train_job_arn = train_job_details['TrainingJobArn']\n    print(train_job_arn)\n    trained_model_uri = train_job_details['ModelArtifacts']['S3ModelArtifacts']\n    print(trained_model_uri)"
        }, 
        {
            "source": "<a id=\"deployment\"></a>\n## 4. Deploy the SageMaker model in the AWS Cloud\n\nIn this section you will learn howto:\n\n- [4.1 Setup deployment parameters](#setup_training)\n- [4.2 Create deployment configuration endpoint](#deployment_configuration)\n- [4.3 Create online scoring endpoint](#setup_online_scoring)", 
            "cell_type": "markdown", 
            "metadata": {}
        }, 
        {
            "source": "<a id=\"setup_training\"></a>\n### 4.1 Setup deployment parameters", 
            "cell_type": "markdown", 
            "metadata": {}
        }, 
        {
            "execution_count": 22, 
            "cell_type": "code", 
            "metadata": {}, 
            "outputs": [
                {
                    "output_type": "stream", 
                    "name": "stdout", 
                    "text": "arn:aws:sagemaker:us-east-1:014862798213:model/credit-risk-linear-learner-2019-02-14-15-20\n"
                }
            ], 
            "source": "linear_hosting_container = {'Image': training_image, 'ModelDataUrl': trained_model_uri}\n\ncreate_model_details = sm_client.create_model(\n    ModelName = linear_job_name,\n    ExecutionRoleArn = role_arn,\n    PrimaryContainer = linear_hosting_container)\n\nprint(create_model_details['ModelArn'])"
        }, 
        {
            "source": "<a id=\"deployment_configuration\"></a>\n### 4.2 Create deployment configuration endpoint", 
            "cell_type": "markdown", 
            "metadata": {}
        }, 
        {
            "execution_count": 23, 
            "cell_type": "code", 
            "metadata": {}, 
            "outputs": [
                {
                    "output_type": "stream", 
                    "name": "stdout", 
                    "text": "Credit-risk-linear-endpoint-config-2019-02-14-15-20\n{'ProductionVariants': [{'ModelName': 'Credit-risk-linear-learner-2019-02-14-15-20', 'VariantName': 'AllTraffic', 'InitialVariantWeight': 1.0, 'InstanceType': 'ml.m4.xlarge', 'InitialInstanceCount': 1}], 'EndpointConfigArn': 'arn:aws:sagemaker:us-east-1:014862798213:endpoint-config/credit-risk-linear-endpoint-config-2019-02-14-15-20', 'CreationTime': datetime.datetime(2019, 2, 14, 15, 24, 32, 30000, tzinfo=tzlocal()), 'EndpointConfigName': 'Credit-risk-linear-endpoint-config-2019-02-14-15-20', 'ResponseMetadata': {'RetryAttempts': 0, 'HTTPStatusCode': 200, 'HTTPHeaders': {'x-amzn-requestid': '6a98375e-4cd6-4fae-ae61-130f1fd5f777', 'content-length': '430', 'content-type': 'application/x-amz-json-1.1', 'date': 'Thu, 14 Feb 2019 15:24:31 GMT'}, 'RequestId': '6a98375e-4cd6-4fae-ae61-130f1fd5f777'}}\n"
                }
            ], 
            "source": "endpoint_config = 'Credit-risk-linear-endpoint-config-' + time_suffix\nprint(endpoint_config)\n\ncreate_endpoint_config_details = sm_client.create_endpoint_config(\n    EndpointConfigName = endpoint_config,\n    ProductionVariants = [{\n        'InstanceType': 'ml.m4.xlarge',\n        'InitialInstanceCount': 1,\n        'ModelName': linear_job_name,\n        'VariantName': 'AllTraffic'}])\n\nendpoint_config_details = sm_client.describe_endpoint_config(EndpointConfigName = endpoint_config)\nprint(endpoint_config_details)"
        }, 
        {
            "source": "<a id=\"setup_online_scoring\"></a>\n### 4.3 Create online scoring endpoint", 
            "cell_type": "markdown", 
            "metadata": {}
        }, 
        {
            "execution_count": 24, 
            "cell_type": "code", 
            "metadata": {}, 
            "outputs": [], 
            "source": "scoring_endpoint = 'Credit-risk-endpoint-scoring-' + time_suffix\n\ncreate_endpoint_details = sm_client.create_endpoint(\n    EndpointName = scoring_endpoint,\n    EndpointConfigName = endpoint_config)"
        }, 
        {
            "execution_count": 25, 
            "cell_type": "code", 
            "metadata": {}, 
            "outputs": [
                {
                    "output_type": "stream", 
                    "name": "stdout", 
                    "text": "arn:aws:sagemaker:us-east-1:014862798213:endpoint/credit-risk-endpoint-scoring-2019-02-14-15-20\n"
                }
            ], 
            "source": "try:\n    sm_client.get_waiter('endpoint_in_service').wait(EndpointName = scoring_endpoint)\nexcept Exception:\n    print('Create scoring endpoint error')\n\nscoring_endpoint_details = sm_client.describe_endpoint(EndpointName = scoring_endpoint)\nscoring_enpoint_config_status = scoring_endpoint_details['EndpointStatus']\n\nif scoring_enpoint_config_status != 'InService':\n    print(scoring_endpoint_details['FailureReason'])\nelse:\n    print(scoring_endpoint_details['EndpointArn'])"
        }, 
        {
            "source": "<a id=\"score\"></a>\n## 5. Score the model\n\nIn this section you will learn howto score deployed model.\n\n- [5.1 Prepare sample data for scoring](#prepare_scoring)\n- [5.2 Send payload for scoring](#score)", 
            "cell_type": "markdown", 
            "metadata": {}
        }, 
        {
            "source": "<a id=\"prepare_scoring\"></a>\n### 5.1 Prepare sample data for scoring", 
            "cell_type": "markdown", 
            "metadata": {}
        }, 
        {
            "source": "You will use data in `csv` format as scoring payload. First column (label) is removed from data. Last 20 training records are selected as scoring payload.", 
            "cell_type": "markdown", 
            "metadata": {}
        }, 
        {
            "execution_count": 26, 
            "cell_type": "code", 
            "metadata": {}, 
            "outputs": [], 
            "source": "scoring_data_filename = 'scoring_credit_risk.csv'"
        }, 
        {
            "execution_count": 27, 
            "cell_type": "code", 
            "metadata": {}, 
            "outputs": [], 
            "source": "with open(train_data_filename) as f_train:\n    with open(scoring_data_filename, 'w') as f_score:\n        f_score.writelines([','.join(line.split(',')[1:]) for line in f_train.readlines()[-20:]])"
        }, 
        {
            "source": "<a id=\"score\"></a>\n### 5.2 Send payload for scoring", 
            "cell_type": "markdown", 
            "metadata": {}
        }, 
        {
            "execution_count": 28, 
            "cell_type": "code", 
            "metadata": {}, 
            "outputs": [
                {
                    "output_type": "stream", 
                    "name": "stdout", 
                    "text": "{'predictions': [{'score': 0.0002489904873073101, 'predicted_label': 0.0}, {'score': 0.9993849992752075, 'predicted_label': 1.0}, {'score': 5.1339444326004013e-05, 'predicted_label': 0.0}, {'score': 0.00041797070298343897, 'predicted_label': 0.0}, {'score': 0.00042378739453852177, 'predicted_label': 0.0}, {'score': 0.9998983144760132, 'predicted_label': 1.0}, {'score': 0.0001031524661812, 'predicted_label': 0.0}, {'score': 9.491942182648927e-05, 'predicted_label': 0.0}, {'score': 0.0007143352995626628, 'predicted_label': 0.0}, {'score': 0.00048081946442835033, 'predicted_label': 0.0}, {'score': 0.9991300702095032, 'predicted_label': 1.0}, {'score': 0.00019867101218551397, 'predicted_label': 0.0}, {'score': 0.0005870789173059165, 'predicted_label': 0.0}, {'score': 0.0005030444008298218, 'predicted_label': 0.0}, {'score': 0.00037679175147786736, 'predicted_label': 0.0}, {'score': 0.0006642662337981164, 'predicted_label': 0.0}, {'score': 0.00023503316333517432, 'predicted_label': 0.0}, {'score': 0.9996685981750488, 'predicted_label': 1.0}, {'score': 0.9993314743041992, 'predicted_label': 1.0}, {'score': 0.00040922441985458136, 'predicted_label': 0.0}]}\n"
                }
            ], 
            "source": "sm_runtime = session.client('runtime.sagemaker')\n\nwith open(scoring_data_filename) as f_payload:\n    scoring_response = sm_runtime.invoke_endpoint(EndpointName = scoring_endpoint,\n                                                  ContentType = 'text/csv',\n                                                  Body = f_payload.read().encode())\n    \n    scored_records = scoring_response['Body'].read().decode()\n    print(json.loads(scored_records))"
        }, 
        {
            "source": "### Authors:\n\nWojciech Sobala, Data Scientist at IBM", 
            "cell_type": "markdown", 
            "metadata": {}
        }, 
        {
            "execution_count": null, 
            "cell_type": "code", 
            "metadata": {}, 
            "outputs": [], 
            "source": ""
        }
    ], 
    "metadata": {
        "kernelspec": {
            "display_name": "Python 3.5", 
            "name": "python3", 
            "language": "python"
        }, 
        "language_info": {
            "mimetype": "text/x-python", 
            "nbconvert_exporter": "python", 
            "version": "3.5.5", 
            "name": "python", 
            "file_extension": ".py", 
            "pygments_lexer": "ipython3", 
            "codemirror_mode": {
                "version": 3, 
                "name": "ipython"
            }
        }
    }, 
    "nbformat": 4
}